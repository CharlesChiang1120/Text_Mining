{
 "cells": [
  {
   "cell_type": "markdown",
   "metadata": {},
   "source": [
    "## 1.將信用卡版討論文章下載存入到自己電腦"
   ]
  },
  {
   "cell_type": "code",
   "execution_count": 53,
   "metadata": {},
   "outputs": [
    {
     "name": "stdout",
     "output_type": "stream",
     "text": [
      "--2020-07-26 20:24:05--  https://raw.githubusercontent.com/ywchiu/tibame_tm/master/data/creditcard_titles.csv\n",
      "正在查找主機 raw.githubusercontent.com (raw.githubusercontent.com)... 151.101.128.133, 151.101.64.133, 151.101.192.133, ...\n",
      "正在連接 raw.githubusercontent.com (raw.githubusercontent.com)|151.101.128.133|:443... 連上了。\n",
      "已送出 HTTP 要求，正在等候回應... 200 OK\n",
      "長度: 3688 (3.6K) [text/plain]\n",
      "儲存到：`creditcard_titles.csv'\n",
      "\n",
      "creditcard_titles.c 100%[===================>]   3.60K  --.-KB/s  於 0s         \n",
      "\n",
      "2020-07-26 20:24:05 (9.77 MB/s) - 已儲存 `creditcard_titles.csv' [3688/3688]\n",
      "\n"
     ]
    }
   ],
   "source": [
    "!wget https://raw.githubusercontent.com/ywchiu/tibame_tm/master/data/creditcard_titles.csv"
   ]
  },
  {
   "cell_type": "code",
   "execution_count": 54,
   "metadata": {},
   "outputs": [],
   "source": [
    "import pandas as pd"
   ]
  },
  {
   "cell_type": "code",
   "execution_count": 90,
   "metadata": {
    "scrolled": true
   },
   "outputs": [],
   "source": [
    "df = pd.read_csv('./creditcard_titles.csv',index_col=False,encoding='utf-8')"
   ]
  },
  {
   "cell_type": "code",
   "execution_count": 91,
   "metadata": {},
   "outputs": [
    {
     "data": {
      "text/html": [
       "<div>\n",
       "<style scoped>\n",
       "    .dataframe tbody tr th:only-of-type {\n",
       "        vertical-align: middle;\n",
       "    }\n",
       "\n",
       "    .dataframe tbody tr th {\n",
       "        vertical-align: top;\n",
       "    }\n",
       "\n",
       "    .dataframe thead th {\n",
       "        text-align: right;\n",
       "    }\n",
       "</style>\n",
       "<table border=\"1\" class=\"dataframe\">\n",
       "  <thead>\n",
       "    <tr style=\"text-align: right;\">\n",
       "      <th></th>\n",
       "      <th>Unnamed: 0</th>\n",
       "      <th>title</th>\n",
       "    </tr>\n",
       "  </thead>\n",
       "  <tbody>\n",
       "    <tr>\n",
       "      <th>0</th>\n",
       "      <td>0</td>\n",
       "      <td>[問題] 富邦j卡新戶禮</td>\n",
       "    </tr>\n",
       "    <tr>\n",
       "      <th>1</th>\n",
       "      <td>1</td>\n",
       "      <td>[心得] 玉山 u bear/pi 核卡、台新富邦調額</td>\n",
       "    </tr>\n",
       "    <tr>\n",
       "      <th>2</th>\n",
       "      <td>2</td>\n",
       "      <td>Re: [情報] 中信ANA消費應援哩活動(加碼名額)</td>\n",
       "    </tr>\n",
       "    <tr>\n",
       "      <th>3</th>\n",
       "      <td>3</td>\n",
       "      <td>[問題] 台新@gogo調額</td>\n",
       "    </tr>\n",
       "    <tr>\n",
       "      <th>4</th>\n",
       "      <td>4</td>\n",
       "      <td>[心得] 渣打現金回饋御璽卡 未過</td>\n",
       "    </tr>\n",
       "    <tr>\n",
       "      <th>...</th>\n",
       "      <td>...</td>\n",
       "      <td>...</td>\n",
       "    </tr>\n",
       "    <tr>\n",
       "      <th>66</th>\n",
       "      <td>66</td>\n",
       "      <td>[心得] 台新GoGo卡 已核卡</td>\n",
       "    </tr>\n",
       "    <tr>\n",
       "      <th>67</th>\n",
       "      <td>67</td>\n",
       "      <td>[心得] 玉山Pi卡&amp;花旗現金回饋卡申請</td>\n",
       "    </tr>\n",
       "    <tr>\n",
       "      <th>68</th>\n",
       "      <td>68</td>\n",
       "      <td>[問題] 關於刷卡金額限制</td>\n",
       "    </tr>\n",
       "    <tr>\n",
       "      <th>69</th>\n",
       "      <td>69</td>\n",
       "      <td>[問題] 三倍券刷卡通路</td>\n",
       "    </tr>\n",
       "    <tr>\n",
       "      <th>70</th>\n",
       "      <td>70</td>\n",
       "      <td>[心得] 聯邦賴點卡換卡（附三代卡面</td>\n",
       "    </tr>\n",
       "  </tbody>\n",
       "</table>\n",
       "<p>71 rows × 2 columns</p>\n",
       "</div>"
      ],
      "text/plain": [
       "    Unnamed: 0                        title\n",
       "0            0                 [問題] 富邦j卡新戶禮\n",
       "1            1  [心得] 玉山 u bear/pi 核卡、台新富邦調額\n",
       "2            2  Re: [情報] 中信ANA消費應援哩活動(加碼名額)\n",
       "3            3               [問題] 台新@gogo調額\n",
       "4            4            [心得] 渣打現金回饋御璽卡 未過\n",
       "..         ...                          ...\n",
       "66          66             [心得] 台新GoGo卡 已核卡\n",
       "67          67         [心得] 玉山Pi卡&花旗現金回饋卡申請\n",
       "68          68                [問題] 關於刷卡金額限制\n",
       "69          69                 [問題] 三倍券刷卡通路\n",
       "70          70           [心得] 聯邦賴點卡換卡（附三代卡面\n",
       "\n",
       "[71 rows x 2 columns]"
      ]
     },
     "execution_count": 91,
     "metadata": {},
     "output_type": "execute_result"
    }
   ],
   "source": [
    "df"
   ]
  },
  {
   "cell_type": "markdown",
   "metadata": {},
   "source": [
    "## 2.請讀取該檔案，並將所有標題讀入成titles 的list"
   ]
  },
  {
   "cell_type": "code",
   "execution_count": 104,
   "metadata": {},
   "outputs": [],
   "source": [
    "titles  = df['title'].tolist()"
   ]
  },
  {
   "cell_type": "code",
   "execution_count": 105,
   "metadata": {
    "scrolled": true
   },
   "outputs": [
    {
     "data": {
      "text/plain": [
       "['[問題] 富邦j卡新戶禮',\n",
       " '[心得] 玉山 u bear/pi 核卡、台新富邦調額',\n",
       " 'Re: [情報] 中信ANA消費應援哩活動(加碼名額)',\n",
       " '[問題] 台新@gogo調額',\n",
       " '[心得] 渣打現金回饋御璽卡 未過',\n",
       " 'Re: [閒聊] 本月玉山Only最新抽獎回饋',\n",
       " '[情報] 台新也有3倍券 刷50換150 分眾簡訊',\n",
       " '[心得] 富邦J卡 星展炫晶 永豐幣倍 國泰Costco 核卡',\n",
       " 'Re: [情報] 玉山pi分眾屈臣氏促刷活動',\n",
       " '[新聞] 為家人上網預購振興券 刷聯邦卡回饋2％',\n",
       " '[問題] apple pay算實體刷卡後續疑問',\n",
       " '[心得] 神奇的匯豐及渣打新光星展凱基 核卡心得',\n",
       " '[心得] 渣打現金回饋御璽卡 核卡（Money101）',\n",
       " '[心得] 新光 凱基 新戶核卡',\n",
       " '[心得] 渣打現金回饋御璽卡 核卡(money101)',\n",
       " '[心得] 中信 LinePay 商務御璽(城市樂跑) 核卡',\n",
       " '[問題] 有人信用卡不是用掛號寄來的嗎?',\n",
       " '[心得] 渣打現金回饋/富邦J 核卡',\n",
       " 'Re: [閒聊] 新光悠遊晶緻卡新戶/回饋活動懶人包整理',\n",
       " '[問題] 信用卡繳稅後如何付款',\n",
       " '[心得] 富邦j卡未核',\n",
       " '[心得] 富邦悍將聯名卡核卡',\n",
       " '[問題] 申請信用卡的財力證明可以用土地謄本嗎？',\n",
       " '[心得] 渣打現金回饋御璽卡 核卡',\n",
       " '[心得] 元大鑽金Hello Kitty聯名卡',\n",
       " '[心得] 大滿貫之路 匯豐現金 合庫卡娜核卡(18家)',\n",
       " 'Re: [問題] 請問109年燃料費,有信用卡可回饋嗎?',\n",
       " 'Re: [情報] 「卡莉嗨」信用卡回饋查詢app',\n",
       " '[問題] 玉山wallet 線上繳費疑問',\n",
       " '[問題] 聯邦Line Pay Money繳卡費2%',\n",
       " '[新聞] 三倍券15日上路 經濟部推數位券、紙本券 ',\n",
       " '[心得] 玉山Ubear悠遊聯名卡(黃)高雄Youbike2.0',\n",
       " 'Re: [心得] U Bear 不佔額度分期回饋',\n",
       " '[心得] 渣打現金回饋御璽卡 核卡',\n",
       " '[閒聊] 笑死!三倍券綁信用卡最不划算!改換紙本!',\n",
       " 'Re: [閒聊] 笑死!三倍券綁信用卡最不划算!改換紙本!',\n",
       " '[問題] 樂天綁linepay付款ubereat?',\n",
       " '[問題] 嘟嘟房停車信用卡折抵問題',\n",
       " 'Re: [問題] 樂天綁linepay付款ubereat?',\n",
       " '[問題] 影城自動售票有列入U熊回饋？',\n",
       " '[問題] 請問去雷射近視的消費刷卡',\n",
       " '[情報] 玉山Ubear粉紅icash 全新上市',\n",
       " '[心得] 永豐幣倍/渣打現金回饋御璽卡',\n",
       " '[心得] 台新GOGO核卡',\n",
       " '[問題] 請問這是信用卡的外幣消費嗎?',\n",
       " 'Re: [閒聊] 笑死!三倍券綁信用卡最不划算!改換紙本!',\n",
       " '[心得] @GoGo icash御璽卡 領現金袋小白 核卡',\n",
       " '[問題] 富邦台哥大聯名卡--沒有正常回饋',\n",
       " '[問題] 振新券搭新戶辦信用卡的回饋推薦',\n",
       " '[心得] 渣打現金回饋御璽卡 核卡',\n",
       " '[心得] 研究助理 學貸小白 玉山ＵBear核卡',\n",
       " '[情報] 兆豐e秒Happy悠遊鈦金卡/金融信用卡',\n",
       " '[新聞] 銀行拚振興商機 祭信用卡國旅優惠',\n",
       " '[心得] 新光寰宇現金回饋卡 核卡',\n",
       " '[問題] 幼兒園學費繳納',\n",
       " '[情報]玉山世界/無限卡享指定飯店10%現金回饋 ',\n",
       " '[心得] 渣打現金回饋御璽卡 核卡',\n",
       " '[問題] 2020下半年中油回饋哪張高呢？',\n",
       " '[問題] 頂級卡會有推銷電話嗎？',\n",
       " '[問題] 新光三越聯名卡的使用頻率',\n",
       " '[討論]2020年繳燃料費用聯邦賴點卡',\n",
       " '[心得] 玉山國泰調額，感謝太陽',\n",
       " '[心得] 多家銀行調額心得',\n",
       " 'Re: [問題] 2020下半年中油回饋哪張高呢？',\n",
       " '[心得] 渣打現金回饋御璽卡 核卡',\n",
       " '[心得] 渣打現金回饋卡/富邦J卡/永豐幣倍卡 核卡',\n",
       " '[心得] 台新GoGo卡 已核卡',\n",
       " '[心得] 玉山Pi卡&花旗現金回饋卡申請',\n",
       " '[問題] 關於刷卡金額限制',\n",
       " '[問題] 三倍券刷卡通路',\n",
       " '[心得] 聯邦賴點卡換卡（附三代卡面']"
      ]
     },
     "execution_count": 105,
     "metadata": {},
     "output_type": "execute_result"
    }
   ],
   "source": [
    "titles "
   ]
  },
  {
   "cell_type": "code",
   "execution_count": 106,
   "metadata": {
    "scrolled": true
   },
   "outputs": [
    {
     "data": {
      "text/plain": [
       "list"
      ]
     },
     "execution_count": 106,
     "metadata": {},
     "output_type": "execute_result"
    }
   ],
   "source": [
    "type(titles)"
   ]
  },
  {
   "cell_type": "markdown",
   "metadata": {},
   "source": [
    "## 3.請使用sklearn 將資料轉換為詞頻矩陣(CountVectorizer)"
   ]
  },
  {
   "cell_type": "code",
   "execution_count": 121,
   "metadata": {},
   "outputs": [],
   "source": [
    "from sklearn.feature_extraction.text import CountVectorizer"
   ]
  },
  {
   "cell_type": "code",
   "execution_count": 122,
   "metadata": {},
   "outputs": [],
   "source": [
    "credit_jieba = []"
   ]
  },
  {
   "cell_type": "code",
   "execution_count": 123,
   "metadata": {},
   "outputs": [],
   "source": [
    "for i in titles:\n",
    "    credit_jieba.append(' '.join(jieba.cut(i)))"
   ]
  },
  {
   "cell_type": "code",
   "execution_count": 125,
   "metadata": {},
   "outputs": [],
   "source": [
    "vectorizer = CountVectorizer()\n",
    "X = vectorizer.fit_transform(credit_jieba)"
   ]
  },
  {
   "cell_type": "code",
   "execution_count": 129,
   "metadata": {},
   "outputs": [
    {
     "data": {
      "text/plain": [
       "<71x187 sparse matrix of type '<class 'numpy.int64'>'\n",
       "\twith 445 stored elements in Compressed Sparse Row format>"
      ]
     },
     "execution_count": 129,
     "metadata": {},
     "output_type": "execute_result"
    }
   ],
   "source": [
    "X"
   ]
  },
  {
   "cell_type": "code",
   "execution_count": 131,
   "metadata": {},
   "outputs": [
    {
     "name": "stdout",
     "output_type": "stream",
     "text": [
      "['10', '109', '15', '150', '18', '2020', '50', 'ana', 'app', 'apple', 'bear', 'costco', 'gogo', 'happy', 'hello', 'icash', 'kitty', 'line', 'linepay', 'money', 'money101', 'only', 'pay', 'pi', 're', 'ubear', 'ubereat', 'wallet', 'youbike2', '三代', '上市', '上網', '上路', '下半年', '世界', '中信', '中油', '付款', '使用', '促刷', '信用卡', '倍券', '停車', '優惠', '兆豐', '全新', '凱基', '分期', '分眾', '划算', '列入', '刷卡', '刷聯邦卡', '券搭', '券綁', '加碼', '助理', '匯豐', '卡娜', '卡新', '卡莉', '卡費', '卡面', '可以', '台哥大', '台新', '合庫', '名額', '售票', '商務', '商機', '問題', '嘟嘟房', '回饋', '國旅', '國泰', '土地', '城市', '外幣', '多家', '大滿貫', '大鑽', '太陽', '如何', '學貸', '學費', '家人', '寄來', '富邦', '實體', '寰宇', '小白', '屈臣氏', '幣倍', '幼兒園', '影城', '後續', '御璽', '御璽卡', '心得', '悍將', '悠遊', '情報', '感謝', '應援', '懶人包', '戶禮', '戶辦', '折抵', '抽獎', '指定', '振新', '振興', '掛號', '推薦', '推銷', '換卡', '改換', '整理', '數位', '新光', '新光三越', '新聞', '星展', '晶緻卡', '未核', '未過', '查詢', '核卡', '樂天', '樂跑', '正常', '永豐', '沒有', '活動', '消費', '渣打', '炫晶', '無限卡', '燃料', '燃料費', '玉山', '現金', '現金袋', '申請', '疑問', '研究', '神奇', '笑死', '簡訊', '粉紅', '紙本', '經濟部', '線上', '繳稅', '繳納', '繳費', '聯名', '聯邦', '自動', '花旗', '討論', '調額', '請問', '謄本', '證明', '財力', '費用', '近視', '這是', '通路', '金融', '金額', '鈦金', '銀行', '閒聊', '關於', '限制', '雷射', '電話', '頂級卡', '預購', '頻率', '額度', '飯店', '高雄', '點卡']\n"
     ]
    }
   ],
   "source": [
    "print(vectorizer.get_feature_names())"
   ]
  },
  {
   "cell_type": "code",
   "execution_count": 130,
   "metadata": {},
   "outputs": [
    {
     "data": {
      "text/plain": [
       "array([[0, 0, 0, ..., 0, 0, 0],\n",
       "       [0, 0, 0, ..., 0, 0, 0],\n",
       "       [0, 0, 0, ..., 0, 0, 0],\n",
       "       ...,\n",
       "       [0, 0, 0, ..., 0, 0, 0],\n",
       "       [0, 0, 0, ..., 0, 0, 0],\n",
       "       [0, 0, 0, ..., 0, 0, 1]])"
      ]
     },
     "execution_count": 130,
     "metadata": {},
     "output_type": "execute_result"
    }
   ],
   "source": [
    "X.toarray()"
   ]
  },
  {
   "cell_type": "markdown",
   "metadata": {},
   "source": [
    "## 4.請使用sklearn 將資料轉換為TF-IDF矩陣(TfidfVectorizer)"
   ]
  },
  {
   "cell_type": "code",
   "execution_count": 135,
   "metadata": {},
   "outputs": [],
   "source": [
    "from sklearn.feature_extraction.text import TfidfVectorizer"
   ]
  },
  {
   "cell_type": "code",
   "execution_count": 136,
   "metadata": {
    "scrolled": true
   },
   "outputs": [
    {
     "data": {
      "text/plain": [
       "['[ 問題 ]   富邦 j 卡新 戶禮',\n",
       " '[ 心得 ]   玉山   u   bear / pi   核卡 、 台新 富邦 調額',\n",
       " 'Re :   [ 情報 ]   中信 ANA 消費 應援 哩 活動 ( 加碼 名額 )',\n",
       " '[ 問題 ]   台新 @ gogo 調額',\n",
       " '[ 心得 ]   渣打 現金 回饋 御璽卡   未過',\n",
       " 'Re :   [ 閒聊 ]   本 月 玉山 Only 最 新 抽獎 回饋',\n",
       " '[ 情報 ]   台新 也 有 3 倍券   刷 50 換 150   分眾 簡訊',\n",
       " '[ 心得 ]   富邦 J 卡   星展 炫晶   永豐 幣倍   國泰 Costco   核卡',\n",
       " 'Re :   [ 情報 ]   玉山 pi 分眾 屈臣氏 促刷 活動',\n",
       " '[ 新聞 ]   為 家人 上網 預購 振興 券   刷聯邦卡 回饋 2 ％',\n",
       " '[ 問題 ]   apple   pay 算 實體 刷卡 後續 疑問',\n",
       " '[ 心得 ]   神奇 的 匯豐 及 渣打 新光 星展 凱基   核卡 心得',\n",
       " '[ 心得 ]   渣打 現金 回饋 御璽卡   核卡 （ Money101 ）',\n",
       " '[ 心得 ]   新光   凱基   新 戶 核卡',\n",
       " '[ 心得 ]   渣打 現金 回饋 御璽卡   核卡 ( money101 )',\n",
       " '[ 心得 ]   中信   LinePay   商務 御璽 ( 城市 樂跑 )   核卡',\n",
       " '[ 問題 ]   有 人 信用卡 不 是 用 掛號 寄來 的 嗎 ?',\n",
       " '[ 心得 ]   渣打 現金 回饋 / 富邦 J   核卡',\n",
       " 'Re :   [ 閒聊 ]   新光 悠遊 晶緻卡 新 戶 / 回饋 活動 懶人包 整理',\n",
       " '[ 問題 ]   信用卡 繳稅 後 如何 付款',\n",
       " '[ 心得 ]   富邦 j 卡 未核',\n",
       " '[ 心得 ]   富邦 悍將 聯名 卡 核卡',\n",
       " '[ 問題 ]   申請 信用卡 的 財力 證明 可以 用 土地 謄本 嗎 ？',\n",
       " '[ 心得 ]   渣打 現金 回饋 御璽卡   核卡',\n",
       " '[ 心得 ]   元 大鑽 金 Hello   Kitty 聯名 卡',\n",
       " '[ 心得 ]   大滿貫 之 路   匯豐 現金   合庫 卡娜 核卡 ( 18 家 )',\n",
       " 'Re :   [ 問題 ]   請問 109 年 燃料費 , 有 信用卡 可 回饋 嗎 ?',\n",
       " 'Re :   [ 情報 ]   「 卡莉 嗨 」 信用卡 回饋 查詢 app',\n",
       " '[ 問題 ]   玉山 wallet   線上 繳費 疑問',\n",
       " '[ 問題 ]   聯邦 Line   Pay   Money 繳 卡費 2 %',\n",
       " '[ 新聞 ]   三 倍券 15 日 上路   經濟部 推 數位 券 、 紙本 券  ',\n",
       " '[ 心得 ]   玉山 Ubear 悠遊 聯名 卡 ( 黃 ) 高雄 Youbike2 . 0',\n",
       " 'Re :   [ 心得 ]   U   Bear   不 佔 額度 分期 回饋',\n",
       " '[ 心得 ]   渣打 現金 回饋 御璽卡   核卡',\n",
       " '[ 閒聊 ]   笑死 ! 三 倍 券綁 信用卡 最 不 划算 ! 改換 紙本 !',\n",
       " 'Re :   [ 閒聊 ]   笑死 ! 三 倍 券綁 信用卡 最 不 划算 ! 改換 紙本 !',\n",
       " '[ 問題 ]   樂天 綁 linepay 付款 ubereat ?',\n",
       " '[ 問題 ]   嘟嘟房 停車 信用卡 折抵 問題',\n",
       " 'Re :   [ 問題 ]   樂天 綁 linepay 付款 ubereat ?',\n",
       " '[ 問題 ]   影城 自動 售票 有 列入 U 熊 回饋 ？',\n",
       " '[ 問題 ]   請問 去 雷射 近視 的 消費 刷卡',\n",
       " '[ 情報 ]   玉山 Ubear 粉紅 icash   全新 上市',\n",
       " '[ 心得 ]   永豐 幣倍 / 渣打 現金 回饋 御璽卡',\n",
       " '[ 心得 ]   台新 GOGO 核卡',\n",
       " '[ 問題 ]   請問 這是 信用卡 的 外幣 消費 嗎 ?',\n",
       " 'Re :   [ 閒聊 ]   笑死 ! 三 倍 券綁 信用卡 最 不 划算 ! 改換 紙本 !',\n",
       " '[ 心得 ]   @ GoGo   icash 御璽卡   領 現金袋 小白   核卡',\n",
       " '[ 問題 ]   富邦 台哥大 聯名 卡 - - 沒有 正常 回饋',\n",
       " '[ 問題 ]   振新 券搭 新 戶辦 信用卡 的 回饋 推薦',\n",
       " '[ 心得 ]   渣打 現金 回饋 御璽卡   核卡',\n",
       " '[ 心得 ]   研究 助理   學貸 小白   玉山 Ｕ Bear 核卡',\n",
       " '[ 情報 ]   兆豐 e 秒 Happy 悠遊 鈦金 卡 / 金融 信用卡',\n",
       " '[ 新聞 ]   銀行 拚 振興 商機   祭 信用卡 國旅 優惠',\n",
       " '[ 心得 ]   新光 寰宇 現金 回饋 卡   核卡',\n",
       " '[ 問題 ]   幼兒園 學費 繳納',\n",
       " '[ 情報 ] 玉山 世界 / 無限卡 享 指定 飯店 10 % 現金 回饋  ',\n",
       " '[ 心得 ]   渣打 現金 回饋 御璽卡   核卡',\n",
       " '[ 問題 ]   2020 下半年 中油 回饋 哪 張 高 呢 ？',\n",
       " '[ 問題 ]   頂級卡 會 有 推銷 電話 嗎 ？',\n",
       " '[ 問題 ]   新光三越 聯名 卡 的 使用 頻率',\n",
       " '[ 討論 ] 2020 年 繳 燃料 費用 聯邦 賴 點卡',\n",
       " '[ 心得 ]   玉山 國泰 調額 ， 感謝 太陽',\n",
       " '[ 心得 ]   多家 銀行 調額 心得',\n",
       " 'Re :   [ 問題 ]   2020 下半年 中油 回饋 哪 張 高 呢 ？',\n",
       " '[ 心得 ]   渣打 現金 回饋 御璽卡   核卡',\n",
       " '[ 心得 ]   渣打 現金 回饋 卡 / 富邦 J 卡 / 永豐 幣倍 卡   核卡',\n",
       " '[ 心得 ]   台新 GoGo 卡   已 核卡',\n",
       " '[ 心得 ]   玉山 Pi 卡 & 花旗 現金 回饋 卡 申請',\n",
       " '[ 問題 ]   關於 刷卡 金額 限制',\n",
       " '[ 問題 ]   三 倍券 刷卡 通路',\n",
       " '[ 心得 ]   聯邦 賴 點卡 換卡 （ 附 三代 卡面']"
      ]
     },
     "execution_count": 136,
     "metadata": {},
     "output_type": "execute_result"
    }
   ],
   "source": [
    "credit_jieba"
   ]
  },
  {
   "cell_type": "code",
   "execution_count": 137,
   "metadata": {},
   "outputs": [],
   "source": [
    "vectorizer = TfidfVectorizer()\n",
    "X_tfidf = vectorizer.fit_transform(credit_jieba)"
   ]
  },
  {
   "cell_type": "code",
   "execution_count": 139,
   "metadata": {
    "scrolled": true
   },
   "outputs": [
    {
     "data": {
      "text/plain": [
       "array([[0.        , 0.        , 0.        , ..., 0.        , 0.        ,\n",
       "        0.        ],\n",
       "       [0.        , 0.        , 0.        , ..., 0.        , 0.        ,\n",
       "        0.        ],\n",
       "       [0.        , 0.        , 0.        , ..., 0.        , 0.        ,\n",
       "        0.        ],\n",
       "       ...,\n",
       "       [0.        , 0.        , 0.        , ..., 0.        , 0.        ,\n",
       "        0.        ],\n",
       "       [0.        , 0.        , 0.        , ..., 0.        , 0.        ,\n",
       "        0.        ],\n",
       "       [0.        , 0.        , 0.        , ..., 0.        , 0.        ,\n",
       "        0.42012981]])"
      ]
     },
     "execution_count": 139,
     "metadata": {},
     "output_type": "execute_result"
    }
   ],
   "source": [
    "X_tfidf.toarray()"
   ]
  },
  {
   "cell_type": "code",
   "execution_count": 141,
   "metadata": {},
   "outputs": [
    {
     "data": {
      "text/plain": [
       "array([0.        , 0.        , 0.        , 0.        , 0.        ,\n",
       "       0.        , 0.        , 0.        , 0.        , 0.        ,\n",
       "       0.        , 0.        , 0.        , 0.        , 0.        ,\n",
       "       0.        , 0.        , 0.        , 0.        , 0.        ,\n",
       "       0.        , 0.        , 0.        , 0.        , 0.        ,\n",
       "       0.        , 0.        , 0.        , 0.        , 0.        ,\n",
       "       0.        , 0.        , 0.        , 0.        , 0.        ,\n",
       "       0.        , 0.        , 0.        , 0.        , 0.        ,\n",
       "       0.        , 0.        , 0.        , 0.        , 0.        ,\n",
       "       0.        , 0.        , 0.        , 0.        , 0.        ,\n",
       "       0.        , 0.        , 0.        , 0.        , 0.        ,\n",
       "       0.        , 0.        , 0.        , 0.        , 0.61395422,\n",
       "       0.        , 0.        , 0.        , 0.        , 0.        ,\n",
       "       0.        , 0.        , 0.        , 0.        , 0.        ,\n",
       "       0.        , 0.27563736, 0.        , 0.        , 0.        ,\n",
       "       0.        , 0.        , 0.        , 0.        , 0.        ,\n",
       "       0.        , 0.        , 0.        , 0.        , 0.        ,\n",
       "       0.        , 0.        , 0.        , 0.41248573, 0.        ,\n",
       "       0.        , 0.        , 0.        , 0.        , 0.        ,\n",
       "       0.        , 0.        , 0.        , 0.        , 0.        ,\n",
       "       0.        , 0.        , 0.        , 0.        , 0.        ,\n",
       "       0.        , 0.61395422, 0.        , 0.        , 0.        ,\n",
       "       0.        , 0.        , 0.        , 0.        , 0.        ,\n",
       "       0.        , 0.        , 0.        , 0.        , 0.        ,\n",
       "       0.        , 0.        , 0.        , 0.        , 0.        ,\n",
       "       0.        , 0.        , 0.        , 0.        , 0.        ,\n",
       "       0.        , 0.        , 0.        , 0.        , 0.        ,\n",
       "       0.        , 0.        , 0.        , 0.        , 0.        ,\n",
       "       0.        , 0.        , 0.        , 0.        , 0.        ,\n",
       "       0.        , 0.        , 0.        , 0.        , 0.        ,\n",
       "       0.        , 0.        , 0.        , 0.        , 0.        ,\n",
       "       0.        , 0.        , 0.        , 0.        , 0.        ,\n",
       "       0.        , 0.        , 0.        , 0.        , 0.        ,\n",
       "       0.        , 0.        , 0.        , 0.        , 0.        ,\n",
       "       0.        , 0.        , 0.        , 0.        , 0.        ,\n",
       "       0.        , 0.        , 0.        , 0.        , 0.        ,\n",
       "       0.        , 0.        , 0.        , 0.        , 0.        ,\n",
       "       0.        , 0.        ])"
      ]
     },
     "execution_count": 141,
     "metadata": {},
     "output_type": "execute_result"
    }
   ],
   "source": [
    "X_tfidf.toarray()[0]"
   ]
  }
 ],
 "metadata": {
  "kernelspec": {
   "display_name": "Python 3",
   "language": "python",
   "name": "python3"
  },
  "language_info": {
   "codemirror_mode": {
    "name": "ipython",
    "version": 3
   },
   "file_extension": ".py",
   "mimetype": "text/x-python",
   "name": "python",
   "nbconvert_exporter": "python",
   "pygments_lexer": "ipython3",
   "version": "3.7.7"
  }
 },
 "nbformat": 4,
 "nbformat_minor": 4
}
