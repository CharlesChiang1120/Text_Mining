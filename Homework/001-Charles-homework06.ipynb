{
 "cells": [
  {
   "cell_type": "code",
   "execution_count": 1,
   "metadata": {},
   "outputs": [],
   "source": [
    "import pandas as pd\n",
    "import numpy as np"
   ]
  },
  {
   "cell_type": "code",
   "execution_count": 2,
   "metadata": {},
   "outputs": [],
   "source": [
    "finance = pd.read_excel('https://raw.githubusercontent.com/ywchiu/tibame_tm/master/data/finance_article.xlsx')"
   ]
  },
  {
   "cell_type": "code",
   "execution_count": 3,
   "metadata": {},
   "outputs": [
    {
     "data": {
      "text/html": [
       "<div>\n",
       "<style scoped>\n",
       "    .dataframe tbody tr th:only-of-type {\n",
       "        vertical-align: middle;\n",
       "    }\n",
       "\n",
       "    .dataframe tbody tr th {\n",
       "        vertical-align: top;\n",
       "    }\n",
       "\n",
       "    .dataframe thead th {\n",
       "        text-align: right;\n",
       "    }\n",
       "</style>\n",
       "<table border=\"1\" class=\"dataframe\">\n",
       "  <thead>\n",
       "    <tr style=\"text-align: right;\">\n",
       "      <th></th>\n",
       "      <th>url</th>\n",
       "      <th>title</th>\n",
       "      <th>content</th>\n",
       "      <th>tag</th>\n",
       "    </tr>\n",
       "  </thead>\n",
       "  <tbody>\n",
       "    <tr>\n",
       "      <th>0</th>\n",
       "      <td>https://www.ptt.cc/bbs/Loan/M.1586506724.A.914...</td>\n",
       "      <td>[問題] 新北原屋貸款</td>\n",
       "      <td>[抵押房屋資訊]\\n地點：新北市永和\\n房屋形態：透天五樓\\n房屋種類：自有住宅\\n房屋/土...</td>\n",
       "      <td>Loan</td>\n",
       "    </tr>\n",
       "    <tr>\n",
       "      <th>1</th>\n",
       "      <td>https://www.ptt.cc/bbs/Loan/M.1586449508.A.618...</td>\n",
       "      <td>信貸 (台積電)</td>\n",
       "      <td>1. 信貸金額：80-200萬\\n2. 還款期限：7年\\n3. 貸款用途：投資理財\\n4. ...</td>\n",
       "      <td>Loan</td>\n",
       "    </tr>\n",
       "    <tr>\n",
       "      <th>2</th>\n",
       "      <td>https://www.ptt.cc/bbs/Stock/M.1586573726.A.DB...</td>\n",
       "      <td>[新聞] 瑞幸咖啡遭遇做空 疫情危機下中概股受到的放大鏡式狙擊</td>\n",
       "      <td>1.原文連結：\\n\\n2.原文內容：\\n林祖偉／BBC中文\\n\\n瑞幸咖啡有超過4500間分...</td>\n",
       "      <td>Stock</td>\n",
       "    </tr>\n",
       "    <tr>\n",
       "      <th>3</th>\n",
       "      <td>https://www.ptt.cc/bbs/Stock/M.1586582519.A.AE...</td>\n",
       "      <td>[新聞] 14檔業績四升 法人搶</td>\n",
       "      <td>1.原文連結：\\n\\n2.原文內容：14檔業績四升 法人搶\\n2020-04-11 00:1...</td>\n",
       "      <td>Stock</td>\n",
       "    </tr>\n",
       "    <tr>\n",
       "      <th>4</th>\n",
       "      <td>https://www.ptt.cc/bbs/Stock/M.1586572758.A.8B...</td>\n",
       "      <td>[新聞] 突變酵素 塑膠瓶幾小時內能回收</td>\n",
       "      <td>1.原文連結：\\n\\n2.原文內容：\\n科學家創造出一種突變細菌酵素，能在幾小時分解塑膠瓶進...</td>\n",
       "      <td>Stock</td>\n",
       "    </tr>\n",
       "  </tbody>\n",
       "</table>\n",
       "</div>"
      ],
      "text/plain": [
       "                                                 url  \\\n",
       "0  https://www.ptt.cc/bbs/Loan/M.1586506724.A.914...   \n",
       "1  https://www.ptt.cc/bbs/Loan/M.1586449508.A.618...   \n",
       "2  https://www.ptt.cc/bbs/Stock/M.1586573726.A.DB...   \n",
       "3  https://www.ptt.cc/bbs/Stock/M.1586582519.A.AE...   \n",
       "4  https://www.ptt.cc/bbs/Stock/M.1586572758.A.8B...   \n",
       "\n",
       "                             title  \\\n",
       "0                      [問題] 新北原屋貸款   \n",
       "1                         信貸 (台積電)   \n",
       "2  [新聞] 瑞幸咖啡遭遇做空 疫情危機下中概股受到的放大鏡式狙擊   \n",
       "3                 [新聞] 14檔業績四升 法人搶   \n",
       "4             [新聞] 突變酵素 塑膠瓶幾小時內能回收   \n",
       "\n",
       "                                             content    tag  \n",
       "0  [抵押房屋資訊]\\n地點：新北市永和\\n房屋形態：透天五樓\\n房屋種類：自有住宅\\n房屋/土...   Loan  \n",
       "1  1. 信貸金額：80-200萬\\n2. 還款期限：7年\\n3. 貸款用途：投資理財\\n4. ...   Loan  \n",
       "2  1.原文連結：\\n\\n2.原文內容：\\n林祖偉／BBC中文\\n\\n瑞幸咖啡有超過4500間分...  Stock  \n",
       "3  1.原文連結：\\n\\n2.原文內容：14檔業績四升 法人搶\\n2020-04-11 00:1...  Stock  \n",
       "4  1.原文連結：\\n\\n2.原文內容：\\n科學家創造出一種突變細菌酵素，能在幾小時分解塑膠瓶進...  Stock  "
      ]
     },
     "execution_count": 3,
     "metadata": {},
     "output_type": "execute_result"
    }
   ],
   "source": [
    "finance.head()"
   ]
  },
  {
   "cell_type": "code",
   "execution_count": 4,
   "metadata": {},
   "outputs": [],
   "source": [
    "import jieba"
   ]
  },
  {
   "cell_type": "code",
   "execution_count": 5,
   "metadata": {},
   "outputs": [
    {
     "name": "stderr",
     "output_type": "stream",
     "text": [
      "Building prefix dict from the default dictionary ...\n",
      "Loading model from cache /var/folders/4f/nxxhtljx45b09spf0dj8mcrc0000gn/T/jieba.cache\n",
      "Loading model cost 0.580 seconds.\n",
      "Prefix dict has been built succesfully.\n"
     ]
    }
   ],
   "source": [
    "corpus = []\n",
    "title = []\n",
    "tags = []\n",
    "for idx, rec in finance.iterrows():\n",
    "    corpus.append(' '.join(jieba.cut(rec.get('content'))))\n",
    "    title.append(rec.get('title'))\n",
    "    tags.append(rec.get('tag'))"
   ]
  },
  {
   "cell_type": "code",
   "execution_count": 6,
   "metadata": {},
   "outputs": [],
   "source": [
    "from sklearn.feature_extraction.text import TfidfVectorizer"
   ]
  },
  {
   "cell_type": "code",
   "execution_count": 7,
   "metadata": {},
   "outputs": [],
   "source": [
    "vectorizer = TfidfVectorizer()\n",
    "tfidf = vectorizer.fit_transform(corpus)"
   ]
  },
  {
   "cell_type": "code",
   "execution_count": 8,
   "metadata": {},
   "outputs": [],
   "source": [
    "from sklearn.model_selection import train_test_split"
   ]
  },
  {
   "cell_type": "code",
   "execution_count": 9,
   "metadata": {},
   "outputs": [],
   "source": [
    "X = tfidf\n",
    "y = tags\n",
    "train_x, test_x, train_y, test_y = train_test_split(X,y, test_size = 0.2, random_state = 42)"
   ]
  },
  {
   "cell_type": "code",
   "execution_count": 10,
   "metadata": {},
   "outputs": [
    {
     "data": {
      "text/plain": [
       "MultinomialNB(alpha=0.01, class_prior=None, fit_prior=True)"
      ]
     },
     "execution_count": 10,
     "metadata": {},
     "output_type": "execute_result"
    }
   ],
   "source": [
    "from sklearn.naive_bayes import MultinomialNB\n",
    "clf = MultinomialNB(alpha = 0.01)\n",
    "clf.fit(train_x, train_y)"
   ]
  },
  {
   "cell_type": "code",
   "execution_count": 11,
   "metadata": {},
   "outputs": [],
   "source": [
    "pred_y = clf.predict(test_x)"
   ]
  },
  {
   "cell_type": "code",
   "execution_count": 12,
   "metadata": {
    "scrolled": false
   },
   "outputs": [
    {
     "data": {
      "text/plain": [
       "1.0"
      ]
     },
     "execution_count": 12,
     "metadata": {},
     "output_type": "execute_result"
    }
   ],
   "source": [
    "from sklearn.metrics import accuracy_score\n",
    "accuracy_score(test_y, pred_y)"
   ]
  }
 ],
 "metadata": {
  "kernelspec": {
   "display_name": "Python 3",
   "language": "python",
   "name": "python3"
  },
  "language_info": {
   "codemirror_mode": {
    "name": "ipython",
    "version": 3
   },
   "file_extension": ".py",
   "mimetype": "text/x-python",
   "name": "python",
   "nbconvert_exporter": "python",
   "pygments_lexer": "ipython3",
   "version": "3.7.7"
  }
 },
 "nbformat": 4,
 "nbformat_minor": 4
}
