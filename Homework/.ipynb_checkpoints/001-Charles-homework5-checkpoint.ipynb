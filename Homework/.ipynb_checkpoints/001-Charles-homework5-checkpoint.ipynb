{
 "cells": [
  {
   "cell_type": "code",
   "execution_count": 1,
   "metadata": {},
   "outputs": [],
   "source": [
    "import re\n",
    "import jieba\n",
    "import pandas as pd"
   ]
  },
  {
   "cell_type": "markdown",
   "metadata": {},
   "source": [
    "## 下載金融文章資料集並存到作業環境"
   ]
  },
  {
   "cell_type": "code",
   "execution_count": 2,
   "metadata": {},
   "outputs": [],
   "source": [
    "article = pd.read_excel('https://raw.githubusercontent.com/ywchiu/tibame_tm/master/data/finance_article.xlsx')"
   ]
  },
  {
   "cell_type": "markdown",
   "metadata": {},
   "source": [
    "## 請使用 Pandas 讀取該檔案，並將檔案轉變名稱為article 的 DataFrame"
   ]
  },
  {
   "cell_type": "code",
   "execution_count": 3,
   "metadata": {
    "scrolled": true
   },
   "outputs": [
    {
     "data": {
      "text/html": [
       "<div>\n",
       "<style scoped>\n",
       "    .dataframe tbody tr th:only-of-type {\n",
       "        vertical-align: middle;\n",
       "    }\n",
       "\n",
       "    .dataframe tbody tr th {\n",
       "        vertical-align: top;\n",
       "    }\n",
       "\n",
       "    .dataframe thead th {\n",
       "        text-align: right;\n",
       "    }\n",
       "</style>\n",
       "<table border=\"1\" class=\"dataframe\">\n",
       "  <thead>\n",
       "    <tr style=\"text-align: right;\">\n",
       "      <th></th>\n",
       "      <th>url</th>\n",
       "      <th>title</th>\n",
       "      <th>content</th>\n",
       "      <th>tag</th>\n",
       "    </tr>\n",
       "  </thead>\n",
       "  <tbody>\n",
       "    <tr>\n",
       "      <th>0</th>\n",
       "      <td>https://www.ptt.cc/bbs/Loan/M.1586506724.A.914...</td>\n",
       "      <td>[問題] 新北原屋貸款</td>\n",
       "      <td>[抵押房屋資訊]\\n地點：新北市永和\\n房屋形態：透天五樓\\n房屋種類：自有住宅\\n房屋/土...</td>\n",
       "      <td>Loan</td>\n",
       "    </tr>\n",
       "    <tr>\n",
       "      <th>1</th>\n",
       "      <td>https://www.ptt.cc/bbs/Loan/M.1586449508.A.618...</td>\n",
       "      <td>信貸 (台積電)</td>\n",
       "      <td>1. 信貸金額：80-200萬\\n2. 還款期限：7年\\n3. 貸款用途：投資理財\\n4. ...</td>\n",
       "      <td>Loan</td>\n",
       "    </tr>\n",
       "    <tr>\n",
       "      <th>2</th>\n",
       "      <td>https://www.ptt.cc/bbs/Stock/M.1586573726.A.DB...</td>\n",
       "      <td>[新聞] 瑞幸咖啡遭遇做空 疫情危機下中概股受到的放大鏡式狙擊</td>\n",
       "      <td>1.原文連結：\\n\\n2.原文內容：\\n林祖偉／BBC中文\\n\\n瑞幸咖啡有超過4500間分...</td>\n",
       "      <td>Stock</td>\n",
       "    </tr>\n",
       "    <tr>\n",
       "      <th>3</th>\n",
       "      <td>https://www.ptt.cc/bbs/Stock/M.1586582519.A.AE...</td>\n",
       "      <td>[新聞] 14檔業績四升 法人搶</td>\n",
       "      <td>1.原文連結：\\n\\n2.原文內容：14檔業績四升 法人搶\\n2020-04-11 00:1...</td>\n",
       "      <td>Stock</td>\n",
       "    </tr>\n",
       "    <tr>\n",
       "      <th>4</th>\n",
       "      <td>https://www.ptt.cc/bbs/Stock/M.1586572758.A.8B...</td>\n",
       "      <td>[新聞] 突變酵素 塑膠瓶幾小時內能回收</td>\n",
       "      <td>1.原文連結：\\n\\n2.原文內容：\\n科學家創造出一種突變細菌酵素，能在幾小時分解塑膠瓶進...</td>\n",
       "      <td>Stock</td>\n",
       "    </tr>\n",
       "  </tbody>\n",
       "</table>\n",
       "</div>"
      ],
      "text/plain": [
       "                                                 url  \\\n",
       "0  https://www.ptt.cc/bbs/Loan/M.1586506724.A.914...   \n",
       "1  https://www.ptt.cc/bbs/Loan/M.1586449508.A.618...   \n",
       "2  https://www.ptt.cc/bbs/Stock/M.1586573726.A.DB...   \n",
       "3  https://www.ptt.cc/bbs/Stock/M.1586582519.A.AE...   \n",
       "4  https://www.ptt.cc/bbs/Stock/M.1586572758.A.8B...   \n",
       "\n",
       "                             title  \\\n",
       "0                      [問題] 新北原屋貸款   \n",
       "1                         信貸 (台積電)   \n",
       "2  [新聞] 瑞幸咖啡遭遇做空 疫情危機下中概股受到的放大鏡式狙擊   \n",
       "3                 [新聞] 14檔業績四升 法人搶   \n",
       "4             [新聞] 突變酵素 塑膠瓶幾小時內能回收   \n",
       "\n",
       "                                             content    tag  \n",
       "0  [抵押房屋資訊]\\n地點：新北市永和\\n房屋形態：透天五樓\\n房屋種類：自有住宅\\n房屋/土...   Loan  \n",
       "1  1. 信貸金額：80-200萬\\n2. 還款期限：7年\\n3. 貸款用途：投資理財\\n4. ...   Loan  \n",
       "2  1.原文連結：\\n\\n2.原文內容：\\n林祖偉／BBC中文\\n\\n瑞幸咖啡有超過4500間分...  Stock  \n",
       "3  1.原文連結：\\n\\n2.原文內容：14檔業績四升 法人搶\\n2020-04-11 00:1...  Stock  \n",
       "4  1.原文連結：\\n\\n2.原文內容：\\n科學家創造出一種突變細菌酵素，能在幾小時分解塑膠瓶進...  Stock  "
      ]
     },
     "execution_count": 3,
     "metadata": {},
     "output_type": "execute_result"
    }
   ],
   "source": [
    "article.head()"
   ]
  },
  {
   "cell_type": "code",
   "execution_count": 4,
   "metadata": {},
   "outputs": [
    {
     "data": {
      "text/plain": [
       "pandas.core.frame.DataFrame"
      ]
     },
     "execution_count": 4,
     "metadata": {},
     "output_type": "execute_result"
    }
   ],
   "source": [
    "type(article)"
   ]
  },
  {
   "cell_type": "markdown",
   "metadata": {},
   "source": [
    "## 請使用 jieba 對 article 的 content 進行切詞，並將切詞過後的資料放置於名為 corpus 的 list 中"
   ]
  },
  {
   "cell_type": "code",
   "execution_count": 5,
   "metadata": {},
   "outputs": [],
   "source": [
    "#article['content'] = article['content'].replace('\\n',' ', regex=True) "
   ]
  },
  {
   "cell_type": "code",
   "execution_count": 6,
   "metadata": {},
   "outputs": [
    {
     "name": "stderr",
     "output_type": "stream",
     "text": [
      "Building prefix dict from the default dictionary ...\n",
      "Loading model from cache /var/folders/4f/nxxhtljx45b09spf0dj8mcrc0000gn/T/jieba.cache\n",
      "Loading model cost 0.808 seconds.\n",
      "Prefix dict has been built succesfully.\n"
     ]
    }
   ],
   "source": [
    "corpus = []\n",
    "jieba.add_word('一周')\n",
    "jieba.add_word('狙擊')\n",
    "jieba.add_word('擔心')\n",
    "jieba.add_word('成長')\n",
    "jieba.add_word('小時')\n",
    "jieba.add_word('紐交所')\n",
    "jieba.add_word('監管')\n",
    "jieba.add_word('承擔')\n",
    "jieba.add_word('持續')\n",
    "jieba.add_word('前者')\n",
    "jieba.add_word('玉山銀')\n",
    "jieba.add_word('消費者')\n",
    "jieba.add_word('不會')\n",
    "jieba.add_word('新光三越')\n",
    "jieba.add_word('引導')\n",
    "jieba.add_word('藉此')\n",
    "jieba.add_word('高盛')\n",
    "jieba.add_word('元大證券')\n",
    "jieba.add_word('老樂迪')\n",
    "jieba.add_word('其他')\n",
    "jieba.add_word('不是')\n",
    "jieba.add_word('幾天')\n",
    "jieba.add_word('續卡')\n",
    "jieba.add_word('合併')\n",
    "jieba.add_word('稅後')\n",
    "jieba.add_word('每股盈餘')\n",
    "jieba.add_word('中信')\n",
    "jieba.add_word('股海')\n",
    "jieba.add_word('明燈')\n",
    "jieba.add_word('救濟金')\n",
    "jieba.add_word('驚人')\n",
    "jieba.add_word('紓困金')\n",
    "jieba.add_word('成長')\n",
    "jieba.add_word('折抵')\n",
    "jieba.add_word('其實')\n",
    "jieba.add_word('使用者')\n",
    "jieba.add_word('個人')\n",
    "jieba.add_word('不高興')\n",
    "jieba.add_word('既視感')\n",
    "jieba.add_word('這個')\n",
    "jieba.add_word('炫晶卡')\n",
    "jieba.add_word('信用卡')\n",
    "jieba.add_word('一杯羹')\n",
    "jieba.add_word('減產')\n",
    "jieba.add_word('各種')\n",
    "jieba.add_word('一億')\n",
    "jieba.add_word('新戶')\n",
    "jieba.add_word('不平衡')\n",
    "jieba.add_word('稅後')\n",
    "jieba.add_word('台壽')\n",
    "jieba.add_word('操作')\n",
    "jieba.add_word('存貨')\n",
    "jieba.add_word('羥氯喹')\n",
    "jieba.add_word('官網')\n",
    "for content in article['content']:\n",
    "    segwords=[]\n",
    "    for word in jieba.cut(content):\n",
    "        m =re.match('[\\u4e00-\\u9fa5]',word)\n",
    "        if m:\n",
    "            segwords.append(word)\n",
    "    corpus.append(' '.join(segwords))"
   ]
  },
  {
   "cell_type": "code",
   "execution_count": 38,
   "metadata": {},
   "outputs": [
    {
     "data": {
      "text/plain": [
       "'[ 抵押 房屋 資訊 ] \\n 地點 ： 新 北市 永和 \\n 房屋 形態 ： 透天 五樓 \\n 房屋 種類 ： 自有 住宅 \\n 房屋 / 土地 所有人 ： 母親 \\n 坪數 ： 45 - 50 \\n [ 需求 資訊 ] \\n 欲貸 金額 :   500 - 1000 萬 \\n 欲貸 年期 ： 20 / 30 年 \\n 欲求 利率 ： 降息 後 的 行情 ， 理財 型 希望 在 1.9 % 以下 ， 一般型 1.5 % 以下 ( 目前 可 做 1.58 % ) \\n 貸款 用途 ： 投資 理財 消費 \\n 希望 還款 條件 ： 優先 徵求 長年 期 理財 型 房貸 利率 \\n [ 貸款 人 資訊 ] \\n 年齡 ： 33 \\n 職業 ： 金融 業務 \\n 年 收入 ： 100 萬 ， 本業 加 其他 收入 \\n 年資 ： 5 年 \\n 信用卡 ： 匯豐 、 富邦 、 台新 \\n 麻煩 來信 提供 以下 內容 ： \\n 1 . 銀行 及 方案 \\n 2 . 總費用 ： 包含 開辦費 、 設定費 、 手續費 等等 相關 費用 ） \\n 3 . 利率 方式 \\n 4 . 綁約 時間 / 提前 償還 規定 及 利率'"
      ]
     },
     "execution_count": 38,
     "metadata": {},
     "output_type": "execute_result"
    }
   ],
   "source": [
    "corpus[0]"
   ]
  },
  {
   "cell_type": "code",
   "execution_count": 8,
   "metadata": {},
   "outputs": [
    {
     "data": {
      "text/plain": [
       "list"
      ]
     },
     "execution_count": 8,
     "metadata": {},
     "output_type": "execute_result"
    }
   ],
   "source": [
    "type(corpus)"
   ]
  },
  {
   "cell_type": "markdown",
   "metadata": {},
   "source": [
    "## 請使用 sklearn 將語料庫 Corpus 轉換成名為tfidf 的 TF-IDF矩陣 (TfidfVectorizer)"
   ]
  },
  {
   "cell_type": "code",
   "execution_count": 9,
   "metadata": {},
   "outputs": [],
   "source": [
    "from sklearn.feature_extraction.text import TfidfVectorizer"
   ]
  },
  {
   "cell_type": "code",
   "execution_count": 10,
   "metadata": {},
   "outputs": [],
   "source": [
    "vectorizer = TfidfVectorizer()\n",
    "tfidf  = vectorizer.fit_transform(corpus)"
   ]
  },
  {
   "cell_type": "code",
   "execution_count": 11,
   "metadata": {},
   "outputs": [
    {
     "data": {
      "text/plain": [
       "['一下子', '一些', '一併', '一億', '一共', '一再', '一切', '一刻', '一卡']"
      ]
     },
     "execution_count": 11,
     "metadata": {},
     "output_type": "execute_result"
    }
   ],
   "source": [
    "vectorizer.get_feature_names()[1:10]"
   ]
  },
  {
   "cell_type": "code",
   "execution_count": 12,
   "metadata": {},
   "outputs": [
    {
     "data": {
      "text/plain": [
       "(300, 6671)"
      ]
     },
     "execution_count": 12,
     "metadata": {},
     "output_type": "execute_result"
    }
   ],
   "source": [
    "tfidf.shape"
   ]
  },
  {
   "cell_type": "code",
   "execution_count": 13,
   "metadata": {},
   "outputs": [
    {
     "data": {
      "text/plain": [
       "array([[0.        , 0.        , 0.        , ..., 0.        , 0.        ,\n",
       "        0.        ],\n",
       "       [0.        , 0.        , 0.        , ..., 0.        , 0.        ,\n",
       "        0.        ],\n",
       "       [0.        , 0.0193028 , 0.04656511, ..., 0.        , 0.        ,\n",
       "        0.0206983 ],\n",
       "       ...,\n",
       "       [0.        , 0.        , 0.        , ..., 0.        , 0.        ,\n",
       "        0.        ],\n",
       "       [0.        , 0.        , 0.        , ..., 0.        , 0.        ,\n",
       "        0.        ],\n",
       "       [0.        , 0.        , 0.        , ..., 0.        , 0.        ,\n",
       "        0.        ]])"
      ]
     },
     "execution_count": 13,
     "metadata": {},
     "output_type": "execute_result"
    }
   ],
   "source": [
    "tfidf .toarray()"
   ]
  },
  {
   "cell_type": "markdown",
   "metadata": {},
   "source": [
    "## 請使用 cosine distance 計算文章與文章間的距離，並將距離存到名為 cs 的變數中"
   ]
  },
  {
   "cell_type": "code",
   "execution_count": 14,
   "metadata": {},
   "outputs": [],
   "source": [
    "from sklearn.metrics.pairwise import cosine_distances\n",
    "cs = cosine_distances(tfidf)"
   ]
  },
  {
   "cell_type": "markdown",
   "metadata": {},
   "source": [
    "## 請使用 community detection 分群法將文章分群，並將分群後的結果存入 article_cluster 的變數名中"
   ]
  },
  {
   "cell_type": "code",
   "execution_count": 15,
   "metadata": {},
   "outputs": [],
   "source": [
    "#!pip3 install networkx"
   ]
  },
  {
   "cell_type": "code",
   "execution_count": 16,
   "metadata": {},
   "outputs": [],
   "source": [
    "import networkx as nx\n",
    "m = (cs<=0.7).astype(int)\n",
    "G = nx.from_numpy_matrix(m)"
   ]
  },
  {
   "cell_type": "code",
   "execution_count": 17,
   "metadata": {},
   "outputs": [],
   "source": [
    "#!pip3 install python-louvain"
   ]
  },
  {
   "cell_type": "code",
   "execution_count": 18,
   "metadata": {},
   "outputs": [],
   "source": [
    "import community\n",
    "from collections import Counter\n",
    "comm = community.best_partition(G)\n",
    "c = Counter(comm.values())"
   ]
  },
  {
   "cell_type": "code",
   "execution_count": 19,
   "metadata": {},
   "outputs": [],
   "source": [
    "import numpy as np\n",
    "title = article['title'].tolist()\n",
    "np_title = np.array(title)"
   ]
  },
  {
   "cell_type": "code",
   "execution_count": 33,
   "metadata": {},
   "outputs": [],
   "source": [
    "from collections import Counter\n",
    "article_cluster = {}\n",
    "cluster_ary = np.array(list(comm.values()))\n",
    "c = Counter(comm.values())\n",
    "for group ,cnt in c.most_common(10):\n",
    "    article_title =  np_title[cluster_ary == group]\n",
    "    article_cluster[group] = article_title"
   ]
  },
  {
   "cell_type": "code",
   "execution_count": 34,
   "metadata": {
    "scrolled": false
   },
   "outputs": [
    {
     "data": {
      "text/plain": [
       "{1: array(['信貸 (台積電)', '[問題] 個人信貸', '[問題] 信用貸款', '[問題] 個人信貸', '[問題] 個人信貸',\n",
       "        '[問題] 個人信貸', '[問題] 個人信貸', '[問題] 個人信用貸款', '[問題] 個人信貸', '[問題] 個人信貸',\n",
       "        '[問題] 個人信貸', '[問題] 個人信貸', '[問題] 個人信貸', '[問題] 股票質押', '[問題]  個人首次信貸',\n",
       "        '[問題] 個人信貸', '[請益] 小額貸款', '[問題] 個人信貸', '個人信貸', '[問題] 個人信貸',\n",
       "        '[問題] 個人信貸', '[問題] 補習班主任 信貸', '[問題] 首次個人信貸', '[問題] 個人信貸',\n",
       "        '[問題] 醫師信貸', '[問題] 個人信貸', '[問題] 個人信貸', '[問題] 個人信貸', '[問題] 個人信貸',\n",
       "        '[問題] 個人信貸', '[問題] 桃園信貸 公職', '[問題]', '[問題] 個人信貸', '[問題] 信用貸款',\n",
       "        '[問題] 個人信貸', '[問題] 個人信貸', '[問題] 個人信貸', '[問題] 個人信貸', '新北信貸',\n",
       "        '[問題] 信用貸款', '[問題] 金融同業信貸', '個人信貸', '[問題] 匯豐個人信貸', '[問題] 個人信貸',\n",
       "        '[問題] 個人信貸', '[問題] 個人信貸', '[問題] 請提供個人信貸，利率2.4以下', '[問題] 個人信貸',\n",
       "        '[問題] 金融同業貸款', '[問題] 個人信貸', '[問題] 個人信貸', '[問題] 股票質押'], dtype='<U38'),\n",
       " 0: array(['[問題] 新北原屋貸款', '[問題] 竹北房貸(首購)', '[問題] 台南 房屋抵押貸款', '[問題] 彰化公教首購房貸',\n",
       "        '[問題] 台中新光重劃區房屋轉貸', '[問題] 竹東房貸(首購)', '[問題] 房屋轉貸（新北）',\n",
       "        '[問題] 南投公教首購房貸', '[問題] 房屋貸款（三峽北大特區）', '[問題] 竹北房貸轉貸',\n",
       "        '[問題] 台南市 外籍人士房貸', '[問題] 房貸新北', '[問題] 北市醫師自住房貸', '[問題] 淡水紅樹林首購貸款',\n",
       "        '[問題] 個人信用貸款', '[問題] 台北房屋增貸', '[問題] 台中潭子首購房貸', '[問題] 新竹 金雅房貸(首購）',\n",
       "        '[問題] 新竹 首購房貸', '[問題] 竹北房貸 第二房', '[問題] 房屋抵押貸款(桃園)',\n",
       "        '[問題] 板橋房子 （首購）', '[問題] 個人信貸', '[問題] 房屋抵押貸款(嘉義)(醫師)',\n",
       "        '[問題] 房屋轉增貸(台北市)', '[問題] 竹北房貸轉貸', '[問題] 竹北縣1縣2區首購',\n",
       "        '[問題] 台中市西區房屋轉貸/增貸', '[問題] 職軍房貸成數', '[問題] 桃園首購房貸', '[問題] 台南房貸轉貸',\n",
       "        '[問題] 房屋抵押貸款', '[問題] 新北首購房貸'], dtype='<U38'),\n",
       " 14: array(['[心得] 台新GOGO卡 小白核卡', '[心得] 學貸小資渣打現金回饋核卡', '[心得] 永豐財富無限卡（東奧）無照核卡',\n",
       "        '【心得】永豐夢行卡 核卡', '[心得] 渣打現金回饋御璽卡核卡', '[心得] 兆豐利多御璽卡核卡',\n",
       "        '[心得] 合庫樂活悠遊卡核卡', '[心得] 玉山 U Bear 核卡'], dtype='<U38'),\n",
       " 13: array(['[新聞] 兆豐金、兆豐銀3月雙現虧損 銀行稅後慘賠', '[新聞] 《業績-金融》統一證Q1每股虧0.673元',\n",
       "        '[新聞] 電信三雄首季獲利超越財測 台灣大續奪EPS', '[新聞] 富邦金單月大賺81餘億元 續登金控首季獲',\n",
       "        '[新聞] 台塑化單季虧近百億元 僅南亞小賺 四寶Q1', '[新聞] 衰運走不完？華南永昌布空避險 虧損反擴',\n",
       "        '[新聞] 四家金控單月賠錢 富邦金獨成長奪三冠王'], dtype='<U38'),\n",
       " 29: array(['[新聞] 原油減產談判仍未定案\\u3000沙烏地阿拉伯推', '[新聞] 川普伸援手 美墨同意共同減產35萬桶原油',\n",
       "        'Re: [其他] OPEC減產一千萬。要求G20減產500萬', 'Re: [新聞] 墨西哥攪局 俄沙石油減產協議添變',\n",
       "        '[心得] 石油的動態', '[新聞] 墨西哥攪局 俄沙石油減產協議添變',\n",
       "        'Re: [新聞] 媒體稱，克里姆林宮希望OPEC+就石油減產'], dtype='<U38'),\n",
       " 45: array(['[問題]  彰銀my樂卡的使用時機', '[情報] 存鼠金喜i回饋 (華南銀 新卡禮限定)',\n",
       "        '[情報] 全家8大銀行刷卡滿200折20（含famiPay)', '不好意思 修改內容重發',\n",
       "        '[新聞]行動支付綁對卡\\u3000回饋再飆高', '[情報] 一起花旗吧！揪越多賺越多4人送switch Lite',\n",
       "        '[問題] 渣打現金回饋卡新戶回饋何時入帳'], dtype='<U38'),\n",
       " 17: array(['Re: [請益] 請問配股配息', 'Re: [請益] 請問配股配息', 'Re: [請益] 請問配股配息',\n",
       "        'Re: [請益] 請問配股配息', 'Re: [請益] 請問配股配息'], dtype='<U38'),\n",
       " 2: array(['[新聞] 瑞幸咖啡遭遇做空 疫情危機下中概股受到的放大鏡式狙擊', '[新聞] 出大事了.....逃命啊',\n",
       "        '[新聞] 美國跟進日本「把企業撤出中國」\\u3000政府買', '[新聞] 日本超前部署！資助企業22億美元\\u3000將生'],\n",
       "       dtype='<U38'),\n",
       " 23: array(['[問題] line pay money繳聯邦卡費問題', 'Re: [問題] line pay money繳聯邦卡費問題',\n",
       "        'Re: [問題] 牌照稅刷台新信用卡?'], dtype='<U38'),\n",
       " 72: array(['[問題] 建地貸款', '[問題] 頭份建地貸款', '[問題] 土地貸款(建地)'], dtype='<U38')}"
      ]
     },
     "execution_count": 34,
     "metadata": {},
     "output_type": "execute_result"
    }
   ],
   "source": [
    "article_cluster"
   ]
  },
  {
   "cell_type": "markdown",
   "metadata": {},
   "source": [
    "## 切詞不只有中文"
   ]
  },
  {
   "cell_type": "code",
   "execution_count": 22,
   "metadata": {},
   "outputs": [],
   "source": [
    "jieba.add_word('一周')\n",
    "jieba.add_word('狙擊')\n",
    "jieba.add_word('擔心')\n",
    "jieba.add_word('成長')\n",
    "jieba.add_word('小時')\n",
    "jieba.add_word('紐交所')\n",
    "jieba.add_word('監管')\n",
    "jieba.add_word('承擔')\n",
    "jieba.add_word('持續')\n",
    "jieba.add_word('前者')\n",
    "jieba.add_word('玉山銀')\n",
    "jieba.add_word('消費者')\n",
    "jieba.add_word('不會')\n",
    "jieba.add_word('新光三越')\n",
    "jieba.add_word('引導')\n",
    "jieba.add_word('藉此')\n",
    "jieba.add_word('高盛')\n",
    "jieba.add_word('元大證券')\n",
    "jieba.add_word('老樂迪')\n",
    "jieba.add_word('其他')\n",
    "jieba.add_word('不是')\n",
    "jieba.add_word('幾天')\n",
    "jieba.add_word('續卡')\n",
    "jieba.add_word('合併')\n",
    "jieba.add_word('稅後')\n",
    "jieba.add_word('每股盈餘')\n",
    "jieba.add_word('中信')\n",
    "jieba.add_word('股海')\n",
    "jieba.add_word('明燈')\n",
    "jieba.add_word('救濟金')\n",
    "jieba.add_word('驚人')\n",
    "jieba.add_word('紓困金')\n",
    "jieba.add_word('成長')\n",
    "jieba.add_word('折抵')\n",
    "jieba.add_word('其實')\n",
    "jieba.add_word('使用者')\n",
    "jieba.add_word('個人')\n",
    "jieba.add_word('不高興')\n",
    "jieba.add_word('既視感')\n",
    "jieba.add_word('這個')\n",
    "jieba.add_word('炫晶卡')\n",
    "jieba.add_word('信用卡')\n",
    "jieba.add_word('一杯羹')\n",
    "jieba.add_word('減產')\n",
    "jieba.add_word('各種')\n",
    "jieba.add_word('一億')\n",
    "jieba.add_word('新戶')\n",
    "jieba.add_word('不平衡')\n",
    "jieba.add_word('稅後')\n",
    "jieba.add_word('台壽')\n",
    "jieba.add_word('操作')\n",
    "jieba.add_word('存貨')\n",
    "jieba.add_word('羥氯喹')\n",
    "jieba.add_word('官網')\n",
    "\n",
    "corpus = []\n",
    "title = []\n",
    "for idx, rec in article.iterrows():\n",
    "    corpus.append(' '.join(jieba.cut(rec['content'])))\n",
    "    title.append(rec['title'])"
   ]
  },
  {
   "cell_type": "code",
   "execution_count": 23,
   "metadata": {},
   "outputs": [],
   "source": [
    "vectorizer = TfidfVectorizer()\n",
    "tfidf  = vectorizer.fit_transform(corpus)"
   ]
  },
  {
   "cell_type": "code",
   "execution_count": 24,
   "metadata": {},
   "outputs": [
    {
     "data": {
      "text/plain": [
       "<300x7686 sparse matrix of type '<class 'numpy.float64'>'\n",
       "\twith 25244 stored elements in Compressed Sparse Row format>"
      ]
     },
     "execution_count": 24,
     "metadata": {},
     "output_type": "execute_result"
    }
   ],
   "source": [
    "tfidf"
   ]
  },
  {
   "cell_type": "code",
   "execution_count": 25,
   "metadata": {},
   "outputs": [],
   "source": [
    "from sklearn.metrics.pairwise import cosine_distances\n",
    "cs = cosine_distances(tfidf)"
   ]
  },
  {
   "cell_type": "code",
   "execution_count": 26,
   "metadata": {},
   "outputs": [],
   "source": [
    "m = (cs<=0.7).astype(int)\n",
    "G = nx.from_numpy_matrix(m)\n",
    "comm = community.best_partition(G)"
   ]
  },
  {
   "cell_type": "code",
   "execution_count": 27,
   "metadata": {},
   "outputs": [],
   "source": [
    "c = Counter(comm.values())"
   ]
  },
  {
   "cell_type": "code",
   "execution_count": 28,
   "metadata": {},
   "outputs": [],
   "source": [
    "np_title = np.array(title)"
   ]
  },
  {
   "cell_type": "code",
   "execution_count": 29,
   "metadata": {},
   "outputs": [],
   "source": [
    "from collections import Counter\n",
    "article_cluster = {}\n",
    "cluster_ary = np.array(list(comm.values()))\n",
    "c = Counter(comm.values())\n",
    "for group ,cnt in c.most_common(10):\n",
    "    article_title =  np_title[cluster_ary == group]\n",
    "    article_cluster[group] = article_title"
   ]
  },
  {
   "cell_type": "code",
   "execution_count": 30,
   "metadata": {},
   "outputs": [
    {
     "data": {
      "text/plain": [
       "{1: array(['信貸 (台積電)', '[問題] 個人信貸', '[問題] 信用貸款', '[問題] 個人信貸', '[問題] 個人信貸',\n",
       "        '[問題] 個人信貸', '[問題] 個人信貸', '[問題] 個人信用貸款', '[問題] 個人信貸', '[問題] 個人信貸',\n",
       "        '[問題] 個人信貸', '[問題] 個人信貸', '[問題] 個人信貸', '[問題] 股票質押', '[問題]  個人首次信貸',\n",
       "        '[問題] 個人信貸', '[請益] 小額貸款', '[問題] 個人信貸', '個人信貸', '[問題] 個人信貸',\n",
       "        '[問題] 個人信貸', '[問題] 補習班主任 信貸', '[問題] 首次個人信貸', '[問題] 個人信貸',\n",
       "        '[問題] 醫師信貸', '[問題] 個人信貸', '[問題] 個人信貸', '[問題] 個人信貸', '[問題] 個人信貸',\n",
       "        '[問題] 個人信貸', '[問題] 桃園信貸 公職', '[問題]', '[問題] 個人信貸', '[問題] 信用貸款',\n",
       "        '[問題] 個人信貸', '[問題] 個人信貸', '[問題] 個人信貸', '[問題] 個人信貸', '新北信貸',\n",
       "        '[問題] 信用貸款', '[問題] 金融同業信貸', '個人信貸', '[問題] 匯豐個人信貸', '[問題] 個人信貸',\n",
       "        '[問題] 個人信貸', '[問題] 個人信貸', '[問題] 請提供個人信貸，利率2.4以下', '[問題] 個人信貸',\n",
       "        '[問題] 金融同業貸款', '[問題] 個人信貸', '[問題] 個人信貸', '[問題] 股票質押'], dtype='<U38'),\n",
       " 0: array(['[問題] 新北原屋貸款', '[問題] 竹北房貸(首購)', '[問題] 台南 房屋抵押貸款', '[問題] 彰化公教首購房貸',\n",
       "        '[問題] 台中新光重劃區房屋轉貸', '[問題] 竹東房貸(首購)', '[問題] 房屋轉貸（新北）',\n",
       "        '[問題] 南投公教首購房貸', '[問題] 房屋貸款（三峽北大特區）', '[問題] 竹北房貸轉貸',\n",
       "        '[問題] 台南市 外籍人士房貸', '[問題] 房貸新北', '[問題] 北市醫師自住房貸', '[問題] 淡水紅樹林首購貸款',\n",
       "        '[問題] 個人信用貸款', '[問題] 台北房屋增貸', '[問題] 台中潭子首購房貸', '[問題] 新竹 金雅房貸(首購）',\n",
       "        '[問題] 新竹 首購房貸', '[問題] 竹北房貸 第二房', '[問題] 房屋抵押貸款(桃園)',\n",
       "        '[問題] 板橋房子 （首購）', '[問題] 個人信貸', '[問題] 房屋抵押貸款(嘉義)(醫師)',\n",
       "        '[問題] 房屋轉增貸(台北市)', '[問題] 竹北房貸轉貸', '[問題] 竹北縣1縣2區首購',\n",
       "        '[問題] 台中市西區房屋轉貸/增貸', '[問題] 職軍房貸成數', '[問題] 桃園首購房貸', '[問題] 台南房貸轉貸',\n",
       "        '[問題] 房屋抵押貸款', '[問題] 新北首購房貸'], dtype='<U38'),\n",
       " 14: array(['[心得] 台新GOGO卡 小白核卡', '[心得] 學貸小資渣打現金回饋核卡', '[心得] 永豐財富無限卡（東奧）無照核卡',\n",
       "        '【心得】永豐夢行卡 核卡', '[心得] 渣打現金回饋御璽卡核卡', '[心得] 兆豐利多御璽卡核卡',\n",
       "        '[心得] 合庫樂活悠遊卡核卡', '[心得] 玉山 U Bear 核卡'], dtype='<U38'),\n",
       " 13: array(['[新聞] 兆豐金、兆豐銀3月雙現虧損 銀行稅後慘賠', '[新聞] 《業績-金融》統一證Q1每股虧0.673元',\n",
       "        '[新聞] 電信三雄首季獲利超越財測 台灣大續奪EPS', '[新聞] 富邦金單月大賺81餘億元 續登金控首季獲',\n",
       "        '[新聞] 台塑化單季虧近百億元 僅南亞小賺 四寶Q1', '[新聞] 衰運走不完？華南永昌布空避險 虧損反擴',\n",
       "        '[新聞] 四家金控單月賠錢 富邦金獨成長奪三冠王'], dtype='<U38'),\n",
       " 29: array(['[新聞] 原油減產談判仍未定案\\u3000沙烏地阿拉伯推', '[新聞] 川普伸援手 美墨同意共同減產35萬桶原油',\n",
       "        'Re: [其他] OPEC減產一千萬。要求G20減產500萬', 'Re: [新聞] 墨西哥攪局 俄沙石油減產協議添變',\n",
       "        '[心得] 石油的動態', '[新聞] 墨西哥攪局 俄沙石油減產協議添變',\n",
       "        'Re: [新聞] 媒體稱，克里姆林宮希望OPEC+就石油減產'], dtype='<U38'),\n",
       " 45: array(['[問題]  彰銀my樂卡的使用時機', '[情報] 存鼠金喜i回饋 (華南銀 新卡禮限定)',\n",
       "        '[情報] 全家8大銀行刷卡滿200折20（含famiPay)', '不好意思 修改內容重發',\n",
       "        '[新聞]行動支付綁對卡\\u3000回饋再飆高', '[情報] 一起花旗吧！揪越多賺越多4人送switch Lite',\n",
       "        '[問題] 渣打現金回饋卡新戶回饋何時入帳'], dtype='<U38'),\n",
       " 17: array(['Re: [請益] 請問配股配息', 'Re: [請益] 請問配股配息', 'Re: [請益] 請問配股配息',\n",
       "        'Re: [請益] 請問配股配息', 'Re: [請益] 請問配股配息'], dtype='<U38'),\n",
       " 2: array(['[新聞] 瑞幸咖啡遭遇做空 疫情危機下中概股受到的放大鏡式狙擊', '[新聞] 出大事了.....逃命啊',\n",
       "        '[新聞] 美國跟進日本「把企業撤出中國」\\u3000政府買', '[新聞] 日本超前部署！資助企業22億美元\\u3000將生'],\n",
       "       dtype='<U38'),\n",
       " 23: array(['[問題] line pay money繳聯邦卡費問題', 'Re: [問題] line pay money繳聯邦卡費問題',\n",
       "        'Re: [問題] 牌照稅刷台新信用卡?'], dtype='<U38'),\n",
       " 72: array(['[問題] 建地貸款', '[問題] 頭份建地貸款', '[問題] 土地貸款(建地)'], dtype='<U38')}"
      ]
     },
     "execution_count": 30,
     "metadata": {},
     "output_type": "execute_result"
    }
   ],
   "source": [
    "article_cluster"
   ]
  }
 ],
 "metadata": {
  "kernelspec": {
   "display_name": "Python 3",
   "language": "python",
   "name": "python3"
  },
  "language_info": {
   "codemirror_mode": {
    "name": "ipython",
    "version": 3
   },
   "file_extension": ".py",
   "mimetype": "text/x-python",
   "name": "python",
   "nbconvert_exporter": "python",
   "pygments_lexer": "ipython3",
   "version": "3.7.7"
  }
 },
 "nbformat": 4,
 "nbformat_minor": 4
}
