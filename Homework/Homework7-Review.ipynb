{
 "cells": [
  {
   "cell_type": "code",
   "execution_count": 6,
   "metadata": {},
   "outputs": [],
   "source": [
    "import pandas as pd\n",
    "google = pd.read_excel('https://raw.githubusercontent.com/ywchiu/tibame_tm/master/data/google_comments.xlsx',index_col=0)"
   ]
  },
  {
   "cell_type": "code",
   "execution_count": 7,
   "metadata": {},
   "outputs": [
    {
     "data": {
      "text/html": [
       "<div>\n",
       "<style scoped>\n",
       "    .dataframe tbody tr th:only-of-type {\n",
       "        vertical-align: middle;\n",
       "    }\n",
       "\n",
       "    .dataframe tbody tr th {\n",
       "        vertical-align: top;\n",
       "    }\n",
       "\n",
       "    .dataframe thead th {\n",
       "        text-align: right;\n",
       "    }\n",
       "</style>\n",
       "<table border=\"1\" class=\"dataframe\">\n",
       "  <thead>\n",
       "    <tr style=\"text-align: right;\">\n",
       "      <th></th>\n",
       "      <th>username</th>\n",
       "      <th>score</th>\n",
       "      <th>comment</th>\n",
       "    </tr>\n",
       "  </thead>\n",
       "  <tbody>\n",
       "    <tr>\n",
       "      <th>0</th>\n",
       "      <td>倪依芙</td>\n",
       "      <td>5</td>\n",
       "      <td>起初找不到入口，還以為沒座位，但是原來入口在旁邊樓梯～座位區不大，但是料理很好吃～肉圓的醬微...</td>\n",
       "    </tr>\n",
       "    <tr>\n",
       "      <th>1</th>\n",
       "      <td>Mimi龍</td>\n",
       "      <td>4</td>\n",
       "      <td>聞名已久，今天特別來現場試試，目前改成點餐機點餐， ⋯⋯更多聞名已久，今天特別來現場試試，目...</td>\n",
       "    </tr>\n",
       "    <tr>\n",
       "      <th>2</th>\n",
       "      <td>林昌逸</td>\n",
       "      <td>1</td>\n",
       "      <td>非常生氣服務員的態度😠服務很糟糕，麵都還沒吃完，一起身就把麵收走，擺明趕客人😡😡😡</td>\n",
       "    </tr>\n",
       "    <tr>\n",
       "      <th>3</th>\n",
       "      <td>林幸蓁</td>\n",
       "      <td>5</td>\n",
       "      <td>內用與外帶有不同的點餐方式內用須至店內使用機台點菜、輸入桌號並付款外帶好像只需在入口處點餐即...</td>\n",
       "    </tr>\n",
       "    <tr>\n",
       "      <th>4</th>\n",
       "      <td>台灣TAXI市區叫車禮車包車約拍找小鄭</td>\n",
       "      <td>5</td>\n",
       "      <td>乾淨衛生，廁所很大在地下室，有免費飲料可以喝，拉麵愛好吃，麻辣豆腐不錯、肉粽不錯，目前吃過很...</td>\n",
       "    </tr>\n",
       "  </tbody>\n",
       "</table>\n",
       "</div>"
      ],
      "text/plain": [
       "              username  score  \\\n",
       "0                  倪依芙      5   \n",
       "1                Mimi龍      4   \n",
       "2                  林昌逸      1   \n",
       "3                  林幸蓁      5   \n",
       "4  台灣TAXI市區叫車禮車包車約拍找小鄭      5   \n",
       "\n",
       "                                             comment  \n",
       "0  起初找不到入口，還以為沒座位，但是原來入口在旁邊樓梯～座位區不大，但是料理很好吃～肉圓的醬微...  \n",
       "1  聞名已久，今天特別來現場試試，目前改成點餐機點餐， ⋯⋯更多聞名已久，今天特別來現場試試，目...  \n",
       "2          非常生氣服務員的態度😠服務很糟糕，麵都還沒吃完，一起身就把麵收走，擺明趕客人😡😡😡  \n",
       "3  內用與外帶有不同的點餐方式內用須至店內使用機台點菜、輸入桌號並付款外帶好像只需在入口處點餐即...  \n",
       "4  乾淨衛生，廁所很大在地下室，有免費飲料可以喝，拉麵愛好吃，麻辣豆腐不錯、肉粽不錯，目前吃過很...  "
      ]
     },
     "execution_count": 7,
     "metadata": {},
     "output_type": "execute_result"
    }
   ],
   "source": [
    "google.head()"
   ]
  },
  {
   "cell_type": "code",
   "execution_count": 8,
   "metadata": {},
   "outputs": [
    {
     "data": {
      "text/plain": [
       "1    160\n",
       "5    147\n",
       "4     92\n",
       "3     60\n",
       "2     41\n",
       "Name: score, dtype: int64"
      ]
     },
     "execution_count": 8,
     "metadata": {},
     "output_type": "execute_result"
    }
   ],
   "source": [
    "google['score'].value_counts()"
   ]
  },
  {
   "cell_type": "code",
   "execution_count": 9,
   "metadata": {},
   "outputs": [
    {
     "data": {
      "text/plain": [
       "<matplotlib.axes._subplots.AxesSubplot at 0x115359c10>"
      ]
     },
     "execution_count": 9,
     "metadata": {},
     "output_type": "execute_result"
    },
    {
     "data": {
      "image/png": "[encoded data removed]",
      "text/plain": [
       "<Figure size 432x288 with 1 Axes>"
      ]
     },
     "metadata": {
      "needs_background": "light"
     },
     "output_type": "display_data"
    }
   ],
   "source": [
    "google['score'].value_counts().plot(kind = 'bar')"
   ]
  },
  {
   "cell_type": "code",
   "execution_count": 26,
   "metadata": {},
   "outputs": [],
   "source": [
    "def convertscore(score):\n",
    "    if score >= 4:\n",
    "        return 'good'\n",
    "    elif score == 3:\n",
    "        return 'soso'\n",
    "    else:\n",
    "        return 'bad'"
   ]
  },
  {
   "cell_type": "code",
   "execution_count": 28,
   "metadata": {},
   "outputs": [],
   "source": [
    "google['status'] = google['score'].map(lambda e : convertscore(e))"
   ]
  },
  {
   "cell_type": "code",
   "execution_count": 29,
   "metadata": {},
   "outputs": [
    {
     "data": {
      "text/html": [
       "<div>\n",
       "<style scoped>\n",
       "    .dataframe tbody tr th:only-of-type {\n",
       "        vertical-align: middle;\n",
       "    }\n",
       "\n",
       "    .dataframe tbody tr th {\n",
       "        vertical-align: top;\n",
       "    }\n",
       "\n",
       "    .dataframe thead th {\n",
       "        text-align: right;\n",
       "    }\n",
       "</style>\n",
       "<table border=\"1\" class=\"dataframe\">\n",
       "  <thead>\n",
       "    <tr style=\"text-align: right;\">\n",
       "      <th></th>\n",
       "      <th>username</th>\n",
       "      <th>score</th>\n",
       "      <th>comment</th>\n",
       "      <th>status</th>\n",
       "    </tr>\n",
       "  </thead>\n",
       "  <tbody>\n",
       "    <tr>\n",
       "      <th>0</th>\n",
       "      <td>倪依芙</td>\n",
       "      <td>5</td>\n",
       "      <td>起初找不到入口，還以為沒座位，但是原來入口在旁邊樓梯～座位區不大，但是料理很好吃～肉圓的醬微...</td>\n",
       "      <td>good</td>\n",
       "    </tr>\n",
       "    <tr>\n",
       "      <th>1</th>\n",
       "      <td>Mimi龍</td>\n",
       "      <td>4</td>\n",
       "      <td>聞名已久，今天特別來現場試試，目前改成點餐機點餐， ⋯⋯更多聞名已久，今天特別來現場試試，目...</td>\n",
       "      <td>good</td>\n",
       "    </tr>\n",
       "    <tr>\n",
       "      <th>2</th>\n",
       "      <td>林昌逸</td>\n",
       "      <td>1</td>\n",
       "      <td>非常生氣服務員的態度😠服務很糟糕，麵都還沒吃完，一起身就把麵收走，擺明趕客人😡😡😡</td>\n",
       "      <td>bad</td>\n",
       "    </tr>\n",
       "    <tr>\n",
       "      <th>3</th>\n",
       "      <td>林幸蓁</td>\n",
       "      <td>5</td>\n",
       "      <td>內用與外帶有不同的點餐方式內用須至店內使用機台點菜、輸入桌號並付款外帶好像只需在入口處點餐即...</td>\n",
       "      <td>good</td>\n",
       "    </tr>\n",
       "    <tr>\n",
       "      <th>4</th>\n",
       "      <td>台灣TAXI市區叫車禮車包車約拍找小鄭</td>\n",
       "      <td>5</td>\n",
       "      <td>乾淨衛生，廁所很大在地下室，有免費飲料可以喝，拉麵愛好吃，麻辣豆腐不錯、肉粽不錯，目前吃過很...</td>\n",
       "      <td>good</td>\n",
       "    </tr>\n",
       "  </tbody>\n",
       "</table>\n",
       "</div>"
      ],
      "text/plain": [
       "              username  score  \\\n",
       "0                  倪依芙      5   \n",
       "1                Mimi龍      4   \n",
       "2                  林昌逸      1   \n",
       "3                  林幸蓁      5   \n",
       "4  台灣TAXI市區叫車禮車包車約拍找小鄭      5   \n",
       "\n",
       "                                             comment status  \n",
       "0  起初找不到入口，還以為沒座位，但是原來入口在旁邊樓梯～座位區不大，但是料理很好吃～肉圓的醬微...   good  \n",
       "1  聞名已久，今天特別來現場試試，目前改成點餐機點餐， ⋯⋯更多聞名已久，今天特別來現場試試，目...   good  \n",
       "2          非常生氣服務員的態度😠服務很糟糕，麵都還沒吃完，一起身就把麵收走，擺明趕客人😡😡😡    bad  \n",
       "3  內用與外帶有不同的點餐方式內用須至店內使用機台點菜、輸入桌號並付款外帶好像只需在入口處點餐即...   good  \n",
       "4  乾淨衛生，廁所很大在地下室，有免費飲料可以喝，拉麵愛好吃，麻辣豆腐不錯、肉粽不錯，目前吃過很...   good  "
      ]
     },
     "execution_count": 29,
     "metadata": {},
     "output_type": "execute_result"
    }
   ],
   "source": [
    "google.head()"
   ]
  },
  {
   "cell_type": "code",
   "execution_count": 37,
   "metadata": {},
   "outputs": [
    {
     "name": "stderr",
     "output_type": "stream",
     "text": [
      "Building prefix dict from the default dictionary ...\n",
      "Dumping model to file cache /var/folders/4f/nxxhtljx45b09spf0dj8mcrc0000gn/T/jieba.cache\n",
      "Loading model cost 0.752 seconds.\n",
      "Prefix dict has been built succesfully.\n"
     ]
    }
   ],
   "source": [
    "import jieba\n",
    "corpus = []\n",
    "tags = []\n",
    "for idx, rec in google[google['status'].isin(['good','bad'])].iterrows():\n",
    "    corpus.append(' '.join(jieba.cut(rec.get('comment'))))\n",
    "    tags.append(rec.get('status'))"
   ]
  },
  {
   "cell_type": "code",
   "execution_count": 39,
   "metadata": {},
   "outputs": [],
   "source": [
    "from sklearn.feature_extraction.text import TfidfVectorizer\n",
    "vectorizer = TfidfVectorizer()\n",
    "tfidf = vectorizer.fit_transform(corpus)"
   ]
  },
  {
   "cell_type": "code",
   "execution_count": 43,
   "metadata": {},
   "outputs": [],
   "source": [
    "x = tfidf\n",
    "y = tags"
   ]
  },
  {
   "cell_type": "code",
   "execution_count": 45,
   "metadata": {},
   "outputs": [],
   "source": [
    "from sklearn.model_selection import train_test_split\n",
    "train_x, test_x, train_y, test_y = train_test_split(x, y, test_size = 0.2, random_state = 42)"
   ]
  },
  {
   "cell_type": "code",
   "execution_count": 46,
   "metadata": {},
   "outputs": [
    {
     "data": {
      "text/plain": [
       "MultinomialNB(alpha=0.01, class_prior=None, fit_prior=True)"
      ]
     },
     "execution_count": 46,
     "metadata": {},
     "output_type": "execute_result"
    }
   ],
   "source": [
    "from sklearn.naive_bayes import MultinomialNB\n",
    "clf1 = MultinomialNB(alpha = 0.01)\n",
    "clf1.fit(train_x, train_y)"
   ]
  },
  {
   "cell_type": "code",
   "execution_count": 47,
   "metadata": {},
   "outputs": [
    {
     "data": {
      "text/plain": [
       "SVC(C=1.0, break_ties=False, cache_size=200, class_weight=None, coef0=0.0,\n",
       "    decision_function_shape='ovr', degree=3, gamma='scale', kernel='linear',\n",
       "    max_iter=-1, probability=False, random_state=None, shrinking=True,\n",
       "    tol=0.001, verbose=False)"
      ]
     },
     "execution_count": 47,
     "metadata": {},
     "output_type": "execute_result"
    }
   ],
   "source": [
    "from sklearn.svm import SVC\n",
    "clf2 = SVC(kernel = 'linear')\n",
    "clf2.fit(train_x, train_y)"
   ]
  },
  {
   "cell_type": "code",
   "execution_count": 49,
   "metadata": {},
   "outputs": [],
   "source": [
    "pred_y = clf1.predict(test_x)"
   ]
  },
  {
   "cell_type": "code",
   "execution_count": 52,
   "metadata": {},
   "outputs": [
    {
     "data": {
      "text/plain": [
       "0.8863636363636364"
      ]
     },
     "execution_count": 52,
     "metadata": {},
     "output_type": "execute_result"
    }
   ],
   "source": [
    "from sklearn.metrics import accuracy_score\n",
    "accuracy_score(test_y, pred_y)"
   ]
  },
  {
   "cell_type": "code",
   "execution_count": 54,
   "metadata": {},
   "outputs": [
    {
     "name": "stdout",
     "output_type": "stream",
     "text": [
      "['bad' 'good']\n"
     ]
    },
    {
     "data": {
      "text/plain": [
       "array([[35,  5],\n",
       "       [ 5, 43]])"
      ]
     },
     "execution_count": 54,
     "metadata": {},
     "output_type": "execute_result"
    }
   ],
   "source": [
    "from sklearn.metrics import confusion_matrix\n",
    "print(clf1.classes_)\n",
    "confusion_matrix(test_y, pred_y)"
   ]
  },
  {
   "cell_type": "code",
   "execution_count": 55,
   "metadata": {},
   "outputs": [],
   "source": [
    "features_ary = []\n",
    "for word, bad_count, good_count in zip(vectorizer.get_feature_names(), clf1.feature_count_[0], clf1.feature_count_[1]):\n",
    "    dic = {}\n",
    "    dic['good_ratio'] = good_count/(bad_count + 1)\n",
    "    dic['bad_ratio'] = bad_count / (good_count + 1)\n",
    "    dic['good_cnt'] = good_count\n",
    "    dic['bad_cnt'] = bad_count\n",
    "    dic['word'] = word\n",
    "    features_ary.append(dic)"
   ]
  },
  {
   "cell_type": "code",
   "execution_count": 56,
   "metadata": {},
   "outputs": [],
   "source": [
    "import pandas as pd\n",
    "features_df = pd.DataFrame(features_ary)"
   ]
  },
  {
   "cell_type": "code",
   "execution_count": 57,
   "metadata": {},
   "outputs": [
    {
     "data": {
      "text/html": [
       "<div>\n",
       "<style scoped>\n",
       "    .dataframe tbody tr th:only-of-type {\n",
       "        vertical-align: middle;\n",
       "    }\n",
       "\n",
       "    .dataframe tbody tr th {\n",
       "        vertical-align: top;\n",
       "    }\n",
       "\n",
       "    .dataframe thead th {\n",
       "        text-align: right;\n",
       "    }\n",
       "</style>\n",
       "<table border=\"1\" class=\"dataframe\">\n",
       "  <thead>\n",
       "    <tr style=\"text-align: right;\">\n",
       "      <th></th>\n",
       "      <th>good_ratio</th>\n",
       "      <th>bad_ratio</th>\n",
       "      <th>good_cnt</th>\n",
       "      <th>bad_cnt</th>\n",
       "      <th>word</th>\n",
       "    </tr>\n",
       "  </thead>\n",
       "  <tbody>\n",
       "    <tr>\n",
       "      <th>772</th>\n",
       "      <td>4.371009</td>\n",
       "      <td>0.044135</td>\n",
       "      <td>5.654837</td>\n",
       "      <td>0.293714</td>\n",
       "      <td>好喝</td>\n",
       "    </tr>\n",
       "    <tr>\n",
       "      <th>12</th>\n",
       "      <td>4.353686</td>\n",
       "      <td>0.015449</td>\n",
       "      <td>4.739735</td>\n",
       "      <td>0.088672</td>\n",
       "      <td>24</td>\n",
       "    </tr>\n",
       "    <tr>\n",
       "      <th>839</th>\n",
       "      <td>4.353686</td>\n",
       "      <td>0.015449</td>\n",
       "      <td>4.739735</td>\n",
       "      <td>0.088672</td>\n",
       "      <td>小時</td>\n",
       "    </tr>\n",
       "    <tr>\n",
       "      <th>1831</th>\n",
       "      <td>4.284617</td>\n",
       "      <td>0.019280</td>\n",
       "      <td>4.760471</td>\n",
       "      <td>0.111061</td>\n",
       "      <td>親切</td>\n",
       "    </tr>\n",
       "    <tr>\n",
       "      <th>771</th>\n",
       "      <td>4.260324</td>\n",
       "      <td>0.166074</td>\n",
       "      <td>16.985919</td>\n",
       "      <td>2.987002</td>\n",
       "      <td>好吃</td>\n",
       "    </tr>\n",
       "    <tr>\n",
       "      <th>218</th>\n",
       "      <td>3.801249</td>\n",
       "      <td>0.123612</td>\n",
       "      <td>8.056882</td>\n",
       "      <td>1.119536</td>\n",
       "      <td>不錯</td>\n",
       "    </tr>\n",
       "    <tr>\n",
       "      <th>2174</th>\n",
       "      <td>3.554719</td>\n",
       "      <td>0.065548</td>\n",
       "      <td>4.938396</td>\n",
       "      <td>0.389251</td>\n",
       "      <td>飲料</td>\n",
       "    </tr>\n",
       "    <tr>\n",
       "      <th>380</th>\n",
       "      <td>3.458597</td>\n",
       "      <td>0.033600</td>\n",
       "      <td>4.044844</td>\n",
       "      <td>0.169504</td>\n",
       "      <td>免費</td>\n",
       "    </tr>\n",
       "    <tr>\n",
       "      <th>1685</th>\n",
       "      <td>3.253634</td>\n",
       "      <td>0.073720</td>\n",
       "      <td>4.595853</td>\n",
       "      <td>0.412529</td>\n",
       "      <td>美味</td>\n",
       "    </tr>\n",
       "    <tr>\n",
       "      <th>1000</th>\n",
       "      <td>3.140120</td>\n",
       "      <td>0.115345</td>\n",
       "      <td>5.491211</td>\n",
       "      <td>0.748727</td>\n",
       "      <td>意麵</td>\n",
       "    </tr>\n",
       "  </tbody>\n",
       "</table>\n",
       "</div>"
      ],
      "text/plain": [
       "      good_ratio  bad_ratio   good_cnt   bad_cnt word\n",
       "772     4.371009   0.044135   5.654837  0.293714   好喝\n",
       "12      4.353686   0.015449   4.739735  0.088672   24\n",
       "839     4.353686   0.015449   4.739735  0.088672   小時\n",
       "1831    4.284617   0.019280   4.760471  0.111061   親切\n",
       "771     4.260324   0.166074  16.985919  2.987002   好吃\n",
       "218     3.801249   0.123612   8.056882  1.119536   不錯\n",
       "2174    3.554719   0.065548   4.938396  0.389251   飲料\n",
       "380     3.458597   0.033600   4.044844  0.169504   免費\n",
       "1685    3.253634   0.073720   4.595853  0.412529   美味\n",
       "1000    3.140120   0.115345   5.491211  0.748727   意麵"
      ]
     },
     "execution_count": 57,
     "metadata": {},
     "output_type": "execute_result"
    }
   ],
   "source": [
    "features_df.sort_values('good_ratio', ascending=False).head(10)"
   ]
  },
  {
   "cell_type": "code",
   "execution_count": 58,
   "metadata": {},
   "outputs": [
    {
     "data": {
      "text/html": [
       "<div>\n",
       "<style scoped>\n",
       "    .dataframe tbody tr th:only-of-type {\n",
       "        vertical-align: middle;\n",
       "    }\n",
       "\n",
       "    .dataframe tbody tr th {\n",
       "        vertical-align: top;\n",
       "    }\n",
       "\n",
       "    .dataframe thead th {\n",
       "        text-align: right;\n",
       "    }\n",
       "</style>\n",
       "<table border=\"1\" class=\"dataframe\">\n",
       "  <thead>\n",
       "    <tr style=\"text-align: right;\">\n",
       "      <th></th>\n",
       "      <th>good_ratio</th>\n",
       "      <th>bad_ratio</th>\n",
       "      <th>good_cnt</th>\n",
       "      <th>bad_cnt</th>\n",
       "      <th>word</th>\n",
       "    </tr>\n",
       "  </thead>\n",
       "  <tbody>\n",
       "    <tr>\n",
       "      <th>1012</th>\n",
       "      <td>0.154955</td>\n",
       "      <td>3.766306</td>\n",
       "      <td>1.773726</td>\n",
       "      <td>10.446699</td>\n",
       "      <td>態度</td>\n",
       "    </tr>\n",
       "    <tr>\n",
       "      <th>1318</th>\n",
       "      <td>0.049185</td>\n",
       "      <td>3.144059</td>\n",
       "      <td>0.241113</td>\n",
       "      <td>3.902131</td>\n",
       "      <td>沒有</td>\n",
       "    </tr>\n",
       "    <tr>\n",
       "      <th>1180</th>\n",
       "      <td>0.052971</td>\n",
       "      <td>2.691366</td>\n",
       "      <td>0.228045</td>\n",
       "      <td>3.305118</td>\n",
       "      <td>普通</td>\n",
       "    </tr>\n",
       "    <tr>\n",
       "      <th>803</th>\n",
       "      <td>0.133453</td>\n",
       "      <td>2.642190</td>\n",
       "      <td>0.750798</td>\n",
       "      <td>4.625941</td>\n",
       "      <td>客人</td>\n",
       "    </tr>\n",
       "    <tr>\n",
       "      <th>213</th>\n",
       "      <td>0.019384</td>\n",
       "      <td>2.633355</td>\n",
       "      <td>0.074219</td>\n",
       "      <td>2.828799</td>\n",
       "      <td>不要</td>\n",
       "    </tr>\n",
       "    <tr>\n",
       "      <th>1558</th>\n",
       "      <td>0.049257</td>\n",
       "      <td>2.517408</td>\n",
       "      <td>0.197783</td>\n",
       "      <td>3.015309</td>\n",
       "      <td>知道</td>\n",
       "    </tr>\n",
       "    <tr>\n",
       "      <th>199</th>\n",
       "      <td>0.135743</td>\n",
       "      <td>2.451842</td>\n",
       "      <td>0.702303</td>\n",
       "      <td>4.173778</td>\n",
       "      <td>不會</td>\n",
       "    </tr>\n",
       "    <tr>\n",
       "      <th>2125</th>\n",
       "      <td>0.100767</td>\n",
       "      <td>2.360312</td>\n",
       "      <td>0.444277</td>\n",
       "      <td>3.408946</td>\n",
       "      <td>難吃</td>\n",
       "    </tr>\n",
       "    <tr>\n",
       "      <th>2068</th>\n",
       "      <td>0.000000</td>\n",
       "      <td>2.311808</td>\n",
       "      <td>0.000000</td>\n",
       "      <td>2.311808</td>\n",
       "      <td>重點</td>\n",
       "    </tr>\n",
       "    <tr>\n",
       "      <th>1793</th>\n",
       "      <td>0.000000</td>\n",
       "      <td>2.133261</td>\n",
       "      <td>0.000000</td>\n",
       "      <td>2.133261</td>\n",
       "      <td>蟑螂</td>\n",
       "    </tr>\n",
       "  </tbody>\n",
       "</table>\n",
       "</div>"
      ],
      "text/plain": [
       "      good_ratio  bad_ratio  good_cnt    bad_cnt word\n",
       "1012    0.154955   3.766306  1.773726  10.446699   態度\n",
       "1318    0.049185   3.144059  0.241113   3.902131   沒有\n",
       "1180    0.052971   2.691366  0.228045   3.305118   普通\n",
       "803     0.133453   2.642190  0.750798   4.625941   客人\n",
       "213     0.019384   2.633355  0.074219   2.828799   不要\n",
       "1558    0.049257   2.517408  0.197783   3.015309   知道\n",
       "199     0.135743   2.451842  0.702303   4.173778   不會\n",
       "2125    0.100767   2.360312  0.444277   3.408946   難吃\n",
       "2068    0.000000   2.311808  0.000000   2.311808   重點\n",
       "1793    0.000000   2.133261  0.000000   2.133261   蟑螂"
      ]
     },
     "execution_count": 58,
     "metadata": {},
     "output_type": "execute_result"
    }
   ],
   "source": [
    "features_df.sort_values('bad_ratio', ascending=False).head(10)"
   ]
  },
  {
   "cell_type": "code",
   "execution_count": 59,
   "metadata": {},
   "outputs": [],
   "source": [
    "pred_y = clf2.predict(test_x)"
   ]
  },
  {
   "cell_type": "code",
   "execution_count": 60,
   "metadata": {},
   "outputs": [
    {
     "data": {
      "text/plain": [
       "0.9090909090909091"
      ]
     },
     "execution_count": 60,
     "metadata": {},
     "output_type": "execute_result"
    }
   ],
   "source": [
    "from sklearn.metrics import accuracy_score\n",
    "accuracy_score(test_y, pred_y)"
   ]
  },
  {
   "cell_type": "code",
   "execution_count": 61,
   "metadata": {},
   "outputs": [
    {
     "name": "stdout",
     "output_type": "stream",
     "text": [
      "['bad' 'good']\n"
     ]
    },
    {
     "data": {
      "text/plain": [
       "array([[36,  4],\n",
       "       [ 4, 44]])"
      ]
     },
     "execution_count": 61,
     "metadata": {},
     "output_type": "execute_result"
    }
   ],
   "source": [
    "from sklearn.metrics import confusion_matrix\n",
    "print(clf1.classes_)\n",
    "confusion_matrix(test_y, pred_y)"
   ]
  },
  {
   "cell_type": "code",
   "execution_count": 62,
   "metadata": {},
   "outputs": [],
   "source": [
    "features_ary = []\n",
    "for word, bad_count, good_count in zip(vectorizer.get_feature_names(), clf1.feature_count_[0], clf1.feature_count_[1]):\n",
    "    dic = {}\n",
    "    dic['good_ratio'] = good_count/(bad_count + 1)\n",
    "    dic['bad_ratio'] = bad_count / (good_count + 1)\n",
    "    dic['good_cnt'] = good_count\n",
    "    dic['bad_cnt'] = bad_count\n",
    "    dic['word'] = word\n",
    "    features_ary.append(dic)"
   ]
  },
  {
   "cell_type": "code",
   "execution_count": 63,
   "metadata": {},
   "outputs": [],
   "source": [
    "import pandas as pd\n",
    "features_df = pd.DataFrame(features_ary)"
   ]
  },
  {
   "cell_type": "code",
   "execution_count": 64,
   "metadata": {},
   "outputs": [
    {
     "data": {
      "text/html": [
       "<div>\n",
       "<style scoped>\n",
       "    .dataframe tbody tr th:only-of-type {\n",
       "        vertical-align: middle;\n",
       "    }\n",
       "\n",
       "    .dataframe tbody tr th {\n",
       "        vertical-align: top;\n",
       "    }\n",
       "\n",
       "    .dataframe thead th {\n",
       "        text-align: right;\n",
       "    }\n",
       "</style>\n",
       "<table border=\"1\" class=\"dataframe\">\n",
       "  <thead>\n",
       "    <tr style=\"text-align: right;\">\n",
       "      <th></th>\n",
       "      <th>good_ratio</th>\n",
       "      <th>bad_ratio</th>\n",
       "      <th>good_cnt</th>\n",
       "      <th>bad_cnt</th>\n",
       "      <th>word</th>\n",
       "    </tr>\n",
       "  </thead>\n",
       "  <tbody>\n",
       "    <tr>\n",
       "      <th>772</th>\n",
       "      <td>4.371009</td>\n",
       "      <td>0.044135</td>\n",
       "      <td>5.654837</td>\n",
       "      <td>0.293714</td>\n",
       "      <td>好喝</td>\n",
       "    </tr>\n",
       "    <tr>\n",
       "      <th>12</th>\n",
       "      <td>4.353686</td>\n",
       "      <td>0.015449</td>\n",
       "      <td>4.739735</td>\n",
       "      <td>0.088672</td>\n",
       "      <td>24</td>\n",
       "    </tr>\n",
       "    <tr>\n",
       "      <th>839</th>\n",
       "      <td>4.353686</td>\n",
       "      <td>0.015449</td>\n",
       "      <td>4.739735</td>\n",
       "      <td>0.088672</td>\n",
       "      <td>小時</td>\n",
       "    </tr>\n",
       "    <tr>\n",
       "      <th>1831</th>\n",
       "      <td>4.284617</td>\n",
       "      <td>0.019280</td>\n",
       "      <td>4.760471</td>\n",
       "      <td>0.111061</td>\n",
       "      <td>親切</td>\n",
       "    </tr>\n",
       "    <tr>\n",
       "      <th>771</th>\n",
       "      <td>4.260324</td>\n",
       "      <td>0.166074</td>\n",
       "      <td>16.985919</td>\n",
       "      <td>2.987002</td>\n",
       "      <td>好吃</td>\n",
       "    </tr>\n",
       "    <tr>\n",
       "      <th>218</th>\n",
       "      <td>3.801249</td>\n",
       "      <td>0.123612</td>\n",
       "      <td>8.056882</td>\n",
       "      <td>1.119536</td>\n",
       "      <td>不錯</td>\n",
       "    </tr>\n",
       "    <tr>\n",
       "      <th>2174</th>\n",
       "      <td>3.554719</td>\n",
       "      <td>0.065548</td>\n",
       "      <td>4.938396</td>\n",
       "      <td>0.389251</td>\n",
       "      <td>飲料</td>\n",
       "    </tr>\n",
       "    <tr>\n",
       "      <th>380</th>\n",
       "      <td>3.458597</td>\n",
       "      <td>0.033600</td>\n",
       "      <td>4.044844</td>\n",
       "      <td>0.169504</td>\n",
       "      <td>免費</td>\n",
       "    </tr>\n",
       "    <tr>\n",
       "      <th>1685</th>\n",
       "      <td>3.253634</td>\n",
       "      <td>0.073720</td>\n",
       "      <td>4.595853</td>\n",
       "      <td>0.412529</td>\n",
       "      <td>美味</td>\n",
       "    </tr>\n",
       "    <tr>\n",
       "      <th>1000</th>\n",
       "      <td>3.140120</td>\n",
       "      <td>0.115345</td>\n",
       "      <td>5.491211</td>\n",
       "      <td>0.748727</td>\n",
       "      <td>意麵</td>\n",
       "    </tr>\n",
       "  </tbody>\n",
       "</table>\n",
       "</div>"
      ],
      "text/plain": [
       "      good_ratio  bad_ratio   good_cnt   bad_cnt word\n",
       "772     4.371009   0.044135   5.654837  0.293714   好喝\n",
       "12      4.353686   0.015449   4.739735  0.088672   24\n",
       "839     4.353686   0.015449   4.739735  0.088672   小時\n",
       "1831    4.284617   0.019280   4.760471  0.111061   親切\n",
       "771     4.260324   0.166074  16.985919  2.987002   好吃\n",
       "218     3.801249   0.123612   8.056882  1.119536   不錯\n",
       "2174    3.554719   0.065548   4.938396  0.389251   飲料\n",
       "380     3.458597   0.033600   4.044844  0.169504   免費\n",
       "1685    3.253634   0.073720   4.595853  0.412529   美味\n",
       "1000    3.140120   0.115345   5.491211  0.748727   意麵"
      ]
     },
     "execution_count": 64,
     "metadata": {},
     "output_type": "execute_result"
    }
   ],
   "source": [
    "features_df.sort_values('good_ratio', ascending=False).head(10)"
   ]
  }
 ],
 "metadata": {
  "kernelspec": {
   "display_name": "Python 3",
   "language": "python",
   "name": "python3"
  },
  "language_info": {
   "codemirror_mode": {
    "name": "ipython",
    "version": 3
   },
   "file_extension": ".py",
   "mimetype": "text/x-python",
   "name": "python",
   "nbconvert_exporter": "python",
   "pygments_lexer": "ipython3",
   "version": "3.7.7"
  }
 },
 "nbformat": 4,
 "nbformat_minor": 4
}
