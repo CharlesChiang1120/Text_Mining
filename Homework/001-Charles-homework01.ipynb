{
 "cells": [
  {
   "cell_type": "code",
   "execution_count": 1,
   "metadata": {},
   "outputs": [],
   "source": [
    "import requests\n",
    "import pandas as pd\n",
    "from bs4 import BeautifulSoup"
   ]
  },
  {
   "cell_type": "code",
   "execution_count": 2,
   "metadata": {},
   "outputs": [],
   "source": [
    "url = 'https://www.ptt.cc/bbs/creditcard/index.html'"
   ]
  },
  {
   "cell_type": "code",
   "execution_count": 3,
   "metadata": {},
   "outputs": [],
   "source": [
    "res = requests.get(url)"
   ]
  },
  {
   "cell_type": "code",
   "execution_count": 4,
   "metadata": {},
   "outputs": [],
   "source": [
    "soup = BeautifulSoup(res.text,'lxml')"
   ]
  },
  {
   "cell_type": "code",
   "execution_count": 5,
   "metadata": {},
   "outputs": [],
   "source": [
    "ptt_creditcard=[]\n",
    "domain = 'https://www.ptt.cc/'\n",
    "for ptt in soup.select('.r-ent'):\n",
    "    if ptt.select_one('.title a'):\n",
    "        ptt_dic = {}\n",
    "        ptt_dic['title'] = ptt.select_one('.title a').text\n",
    "        ptt_dic['link'] = domain + ptt.select_one('.r-ent .title a').get('href')\n",
    "        ptt_dic['date'] = ptt.select_one('.r-ent .date').text\n",
    "        ptt_dic['author'] = ptt.select_one('.r-ent .author').text\n",
    "        \n",
    "        ptt_creditcard.append(ptt_dic)\n"
   ]
  },
  {
   "cell_type": "code",
   "execution_count": 6,
   "metadata": {},
   "outputs": [
    {
     "data": {
      "text/plain": [
       "{'title': '[情報] 華南卡友你最行 2020食在精彩APP刮刮樂',\n",
       " 'link': 'https://www.ptt.cc//bbs/creditcard/M.1594798800.A.812.html',\n",
       " 'date': ' 7/15',\n",
       " 'author': 'usedata'}"
      ]
     },
     "execution_count": 6,
     "metadata": {},
     "output_type": "execute_result"
    }
   ],
   "source": [
    "ptt_creditcard[0]"
   ]
  },
  {
   "cell_type": "code",
   "execution_count": 7,
   "metadata": {},
   "outputs": [],
   "source": [
    "df = pd.DataFrame(ptt_creditcard)"
   ]
  },
  {
   "cell_type": "code",
   "execution_count": 8,
   "metadata": {
    "scrolled": false
   },
   "outputs": [
    {
     "data": {
      "text/html": [
       "<div>\n",
       "<style scoped>\n",
       "    .dataframe tbody tr th:only-of-type {\n",
       "        vertical-align: middle;\n",
       "    }\n",
       "\n",
       "    .dataframe tbody tr th {\n",
       "        vertical-align: top;\n",
       "    }\n",
       "\n",
       "    .dataframe thead th {\n",
       "        text-align: right;\n",
       "    }\n",
       "</style>\n",
       "<table border=\"1\" class=\"dataframe\">\n",
       "  <thead>\n",
       "    <tr style=\"text-align: right;\">\n",
       "      <th></th>\n",
       "      <th>title</th>\n",
       "      <th>link</th>\n",
       "      <th>date</th>\n",
       "      <th>author</th>\n",
       "    </tr>\n",
       "  </thead>\n",
       "  <tbody>\n",
       "    <tr>\n",
       "      <th>0</th>\n",
       "      <td>[情報] 華南卡友你最行 2020食在精彩APP刮刮樂</td>\n",
       "      <td>https://www.ptt.cc//bbs/creditcard/M.159479880...</td>\n",
       "      <td>7/15</td>\n",
       "      <td>usedata</td>\n",
       "    </tr>\n",
       "    <tr>\n",
       "      <th>1</th>\n",
       "      <td>[問題] 國泰世華 7-11振興加碼活動</td>\n",
       "      <td>https://www.ptt.cc//bbs/creditcard/M.159480070...</td>\n",
       "      <td>7/15</td>\n",
       "      <td>lianpig5566</td>\n",
       "    </tr>\n",
       "    <tr>\n",
       "      <th>2</th>\n",
       "      <td>富邦J卡綁振興券</td>\n",
       "      <td>https://www.ptt.cc//bbs/creditcard/M.159480089...</td>\n",
       "      <td>7/15</td>\n",
       "      <td>vic5710789</td>\n",
       "    </tr>\n",
       "    <tr>\n",
       "      <th>3</th>\n",
       "      <td>[心得] 凱基現金回饋 新光寰宇現金回饋卡 核卡</td>\n",
       "      <td>https://www.ptt.cc//bbs/creditcard/M.159480319...</td>\n",
       "      <td>7/15</td>\n",
       "      <td>stg20000</td>\n",
       "    </tr>\n",
       "    <tr>\n",
       "      <th>4</th>\n",
       "      <td>Re: [問題] 中國醫藥大學附設醫院(台中)_信用卡回饋?</td>\n",
       "      <td>https://www.ptt.cc//bbs/creditcard/M.159481093...</td>\n",
       "      <td>7/15</td>\n",
       "      <td>a719417</td>\n",
       "    </tr>\n",
       "  </tbody>\n",
       "</table>\n",
       "</div>"
      ],
      "text/plain": [
       "                            title  \\\n",
       "0     [情報] 華南卡友你最行 2020食在精彩APP刮刮樂   \n",
       "1            [問題] 國泰世華 7-11振興加碼活動   \n",
       "2                        富邦J卡綁振興券   \n",
       "3        [心得] 凱基現金回饋 新光寰宇現金回饋卡 核卡   \n",
       "4  Re: [問題] 中國醫藥大學附設醫院(台中)_信用卡回饋?   \n",
       "\n",
       "                                                link   date       author  \n",
       "0  https://www.ptt.cc//bbs/creditcard/M.159479880...   7/15      usedata  \n",
       "1  https://www.ptt.cc//bbs/creditcard/M.159480070...   7/15  lianpig5566  \n",
       "2  https://www.ptt.cc//bbs/creditcard/M.159480089...   7/15   vic5710789  \n",
       "3  https://www.ptt.cc//bbs/creditcard/M.159480319...   7/15     stg20000  \n",
       "4  https://www.ptt.cc//bbs/creditcard/M.159481093...   7/15      a719417  "
      ]
     },
     "execution_count": 8,
     "metadata": {},
     "output_type": "execute_result"
    }
   ],
   "source": [
    "df.head()"
   ]
  },
  {
   "cell_type": "code",
   "execution_count": 9,
   "metadata": {},
   "outputs": [],
   "source": [
    "df.to_csv('homework01.csv')"
   ]
  }
 ],
 "metadata": {
  "kernelspec": {
   "display_name": "Python 3",
   "language": "python",
   "name": "python3"
  },
  "language_info": {
   "codemirror_mode": {
    "name": "ipython",
    "version": 3
   },
   "file_extension": ".py",
   "mimetype": "text/x-python",
   "name": "python",
   "nbconvert_exporter": "python",
   "pygments_lexer": "ipython3",
   "version": "3.7.7"
  }
 },
 "nbformat": 4,
 "nbformat_minor": 4
}
