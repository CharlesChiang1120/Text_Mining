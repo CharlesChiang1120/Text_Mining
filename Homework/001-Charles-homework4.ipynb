{
 "cells": [
  {
   "cell_type": "code",
   "execution_count": 2,
   "metadata": {},
   "outputs": [],
   "source": [
    "import pandas as pd \n",
    "import jieba"
   ]
  },
  {
   "cell_type": "markdown",
   "metadata": {},
   "source": [
    "## 請使用 Pandas 讀取該檔案，並轉變名為qa 的 DataFrame"
   ]
  },
  {
   "cell_type": "code",
   "execution_count": 3,
   "metadata": {},
   "outputs": [],
   "source": [
    "qa = pd.read_excel('pchome_qa.xlsx',index_col=0)"
   ]
  },
  {
   "cell_type": "code",
   "execution_count": 4,
   "metadata": {},
   "outputs": [
    {
     "data": {
      "text/plain": [
       "pandas.core.frame.DataFrame"
      ]
     },
     "execution_count": 4,
     "metadata": {},
     "output_type": "execute_result"
    }
   ],
   "source": [
    "type(qa)"
   ]
  },
  {
   "cell_type": "code",
   "execution_count": 5,
   "metadata": {},
   "outputs": [
    {
     "data": {
      "text/html": [
       "<div>\n",
       "<style scoped>\n",
       "    .dataframe tbody tr th:only-of-type {\n",
       "        vertical-align: middle;\n",
       "    }\n",
       "\n",
       "    .dataframe tbody tr th {\n",
       "        vertical-align: top;\n",
       "    }\n",
       "\n",
       "    .dataframe thead th {\n",
       "        text-align: right;\n",
       "    }\n",
       "</style>\n",
       "<table border=\"1\" class=\"dataframe\">\n",
       "  <thead>\n",
       "    <tr style=\"text-align: right;\">\n",
       "      <th></th>\n",
       "      <th>question</th>\n",
       "      <th>answer</th>\n",
       "    </tr>\n",
       "  </thead>\n",
       "  <tbody>\n",
       "    <tr>\n",
       "      <th>0</th>\n",
       "      <td>請問付款方式有哪幾種？</td>\n",
       "      <td>目前商店街提供信用卡、提款機轉帳、超商付款等多種付款方式。唯實際的付款方式將依各店家開放的付...</td>\n",
       "    </tr>\n",
       "    <tr>\n",
       "      <th>1</th>\n",
       "      <td>請問線上分期付款的授權和額度如何計算？</td>\n",
       "      <td>銀行授權是以分期價總額授權，同樣的信用額度也是以分期價總額扣取，但是您付款是分期逐月付款，如...</td>\n",
       "    </tr>\n",
       "    <tr>\n",
       "      <th>2</th>\n",
       "      <td>我是選擇分期付款，為什麼銀行簡訊通知總金額？</td>\n",
       "      <td>銀行通知消費總金額是沒錯，因為銀行需要對持卡者做授權額度控管，並且安全完善的通知消費者核對總...</td>\n",
       "    </tr>\n",
       "    <tr>\n",
       "      <th>3</th>\n",
       "      <td>請問使用分期付款可以再改回一次付清嗎？</td>\n",
       "      <td>由於一次付清和分期付款兩者是不同的收單銀行，且受限銀行規定，因此無法做直接的更改，故請在訂購...</td>\n",
       "    </tr>\n",
       "    <tr>\n",
       "      <th>4</th>\n",
       "      <td>我有網路虛擬信用卡，可不可以在PC home商店街消費？</td>\n",
       "      <td>目前PChome商店街為配合銀行安全性機制和訂單快速作業流程，請消費者在輸入卡號的同時輸入卡...</td>\n",
       "    </tr>\n",
       "    <tr>\n",
       "      <th>5</th>\n",
       "      <td>為什麼線上分期付款的金額比一次付清的要多？</td>\n",
       "      <td>線上分期價的總額比一次付清價高是因為分期付款交易因作業繁鎖，故資金成本與營運成本均不同，所以...</td>\n",
       "    </tr>\n",
       "    <tr>\n",
       "      <th>6</th>\n",
       "      <td>信用卡可使用額度的是在分期的額度內，為什麼刷卡不過？</td>\n",
       "      <td>銀行的額度計算是以消費總金額，而非單筆分期金額喔！因此您需要評估消費總金額是否在額度內，若是...</td>\n",
       "    </tr>\n",
       "    <tr>\n",
       "      <th>7</th>\n",
       "      <td>付款多久可以查到訂單明細？</td>\n",
       "      <td>信用卡付款完成訂購後即可至＜PChome商店街＞－我的帳戶中查詢您的交易明細。\\r\\n 提款...</td>\n",
       "    </tr>\n",
       "    <tr>\n",
       "      <th>8</th>\n",
       "      <td>我想取消提款機付款的訂單，改用信用卡付款該怎麼做？</td>\n",
       "      <td>如果已訂購一筆訂單，使用的付款方式是「提款機付款」，在尚未完成轉帳前想要更改付款方式，請您直...</td>\n",
       "    </tr>\n",
       "    <tr>\n",
       "      <th>9</th>\n",
       "      <td>選擇提款機付款後，我可以在銀行櫃台匯款轉帳嗎？</td>\n",
       "      <td>我們所提供的轉帳帳號無法在銀行櫃台匯款轉帳，這組帳號是銀行營業部配合PC home商店街訂單...</td>\n",
       "    </tr>\n",
       "    <tr>\n",
       "      <th>10</th>\n",
       "      <td>ATM繳款期限已過了該怎麼辦？</td>\n",
       "      <td>轉帳帳號屬於虛擬帳號，一旦過了繳費期限，帳號就不存在，訂單亦會自動取消。若是逾期繳款，煩請您...</td>\n",
       "    </tr>\n",
       "    <tr>\n",
       "      <th>11</th>\n",
       "      <td>PChome商店街發給的轉帳帳號無法轉帳或是出現問題帳號？</td>\n",
       "      <td>轉帳不過去可能碰到原因：\\r\\n 1. 正逢下午 2~3 點銀行結匯時間\\r\\n 2. 持卡...</td>\n",
       "    </tr>\n",
       "    <tr>\n",
       "      <th>12</th>\n",
       "      <td>轉帳之後，如何確認這筆款項是我付的？可以我訂購，其他人付款嗎？</td>\n",
       "      <td>轉帳帳號(16碼)是依據每筆訂單自動產生專屬帳號，因此每筆訂單的帳號都不一樣，只要在繳費期限...</td>\n",
       "    </tr>\n",
       "    <tr>\n",
       "      <th>13</th>\n",
       "      <td>轉帳繳費期限剛好遇上假日有影響嗎？</td>\n",
       "      <td>因為轉帳是24小時提供的服務，並沒有因為假日就遞延繳款期限。例如繳款期限是 6/2日(週日)...</td>\n",
       "    </tr>\n",
       "    <tr>\n",
       "      <th>14</th>\n",
       "      <td>網路交易注意事項</td>\n",
       "      <td>由於網路詐騙案件層出不窮,手法也不斷更新，PChome商店街在此特別提醒您，商店街的店家與P...</td>\n",
       "    </tr>\n",
       "    <tr>\n",
       "      <th>15</th>\n",
       "      <td>在商店街交易，需注意事項為何?</td>\n",
       "      <td>(1)購買前請詳閱商品頁中的商品資訊、內容及店家的購物說明，以避免退換貨問題。\\n     ...</td>\n",
       "    </tr>\n",
       "    <tr>\n",
       "      <th>16</th>\n",
       "      <td>什麼是[AFTEE先取後付]呢?</td>\n",
       "      <td>[AFTEE先取後付]就是先拿到商品後，再付款給AFTEE的服務，簡單便利且安心喔!\\n只要...</td>\n",
       "    </tr>\n",
       "    <tr>\n",
       "      <th>17</th>\n",
       "      <td>什麼時候會收到[AFTEE先取後付]繳費單呢?</td>\n",
       "      <td>店家出貨三天後，AFTEE會發送繳費通知，根據出貨方式的不同，寄送繳費單時間與到貨時間也會有...</td>\n",
       "    </tr>\n",
       "    <tr>\n",
       "      <th>18</th>\n",
       "      <td>[AFTEE先取後付]該如何付款?</td>\n",
       "      <td>1. 若您不是AFTEE會員：必須透過「繳費簡訊連結」操作 &gt; 取得繳費代碼後 &gt; 再前往超...</td>\n",
       "    </tr>\n",
       "    <tr>\n",
       "      <th>19</th>\n",
       "      <td>[AFTEE先取後付]付款期限是多久?</td>\n",
       "      <td>[AFTEE先取後付]訂單的繳費期限為繳費單寄送後的14天內，若超過繳費期限，仍可以使用原繳...</td>\n",
       "    </tr>\n",
       "    <tr>\n",
       "      <th>20</th>\n",
       "      <td>下單時，付款網頁一片空白或有錯誤訊息，請問是否訂購成功?</td>\n",
       "      <td>不一定成功，請至商店街「我的帳戶」查詢「交易紀錄」確認訂單狀態。</td>\n",
       "    </tr>\n",
       "    <tr>\n",
       "      <th>21</th>\n",
       "      <td>商店街會員如何訂購?</td>\n",
       "      <td>若您是PChome商店街會員，請先登入您的帳號及密碼，即可進行購買。</td>\n",
       "    </tr>\n",
       "    <tr>\n",
       "      <th>22</th>\n",
       "      <td>非商店街會員如何訂購?</td>\n",
       "      <td>若您非PChome商店街會員，請點選「首次於PChome商店街購物請按此 」，並填入您的個人...</td>\n",
       "    </tr>\n",
       "    <tr>\n",
       "      <th>23</th>\n",
       "      <td>如何查詢我的訂單資料呢?</td>\n",
       "      <td>請至[我的帳戶 &gt; 交易紀錄]查詢您在商店街交易的訂單資料。</td>\n",
       "    </tr>\n",
       "    <tr>\n",
       "      <th>24</th>\n",
       "      <td>如何修改訂單資料?</td>\n",
       "      <td>因系統作業程序的關係，無法提供訂單修改內容，需請您取消訂單後再重新下單。</td>\n",
       "    </tr>\n",
       "    <tr>\n",
       "      <th>25</th>\n",
       "      <td>商店街店家專屬電子報或EDM如何刪除?</td>\n",
       "      <td>如欲取消店家專屬會員電子報或EDM，請至「商店街首頁 &gt; 我的帳戶 &gt; 電子報」取消勾選，即...</td>\n",
       "    </tr>\n",
       "    <tr>\n",
       "      <th>26</th>\n",
       "      <td>我該如何處理退貨退款問題?</td>\n",
       "      <td>請您至「我的帳戶 &gt; 交易紀錄」點選[我要退訂]並填寫辦退申請，系統會將您的退貨申請傳送給店...</td>\n",
       "    </tr>\n",
       "    <tr>\n",
       "      <th>27</th>\n",
       "      <td>有關網站空間服務停用</td>\n",
       "      <td>商店街網站空間服務進行調整，不再提供網站空間服務，請參考相關公告內容。</td>\n",
       "    </tr>\n",
       "  </tbody>\n",
       "</table>\n",
       "</div>"
      ],
      "text/plain": [
       "                           question  \\\n",
       "0                       請問付款方式有哪幾種？   \n",
       "1               請問線上分期付款的授權和額度如何計算？   \n",
       "2            我是選擇分期付款，為什麼銀行簡訊通知總金額？   \n",
       "3               請問使用分期付款可以再改回一次付清嗎？   \n",
       "4      我有網路虛擬信用卡，可不可以在PC home商店街消費？   \n",
       "5             為什麼線上分期付款的金額比一次付清的要多？   \n",
       "6        信用卡可使用額度的是在分期的額度內，為什麼刷卡不過？   \n",
       "7                     付款多久可以查到訂單明細？   \n",
       "8         我想取消提款機付款的訂單，改用信用卡付款該怎麼做？   \n",
       "9           選擇提款機付款後，我可以在銀行櫃台匯款轉帳嗎？   \n",
       "10                  ATM繳款期限已過了該怎麼辦？   \n",
       "11    PChome商店街發給的轉帳帳號無法轉帳或是出現問題帳號？   \n",
       "12  轉帳之後，如何確認這筆款項是我付的？可以我訂購，其他人付款嗎？   \n",
       "13                轉帳繳費期限剛好遇上假日有影響嗎？   \n",
       "14                         網路交易注意事項   \n",
       "15                  在商店街交易，需注意事項為何?   \n",
       "16                 什麼是[AFTEE先取後付]呢?   \n",
       "17          什麼時候會收到[AFTEE先取後付]繳費單呢?   \n",
       "18                [AFTEE先取後付]該如何付款?   \n",
       "19              [AFTEE先取後付]付款期限是多久?   \n",
       "20     下單時，付款網頁一片空白或有錯誤訊息，請問是否訂購成功?   \n",
       "21                       商店街會員如何訂購?   \n",
       "22                      非商店街會員如何訂購?   \n",
       "23                     如何查詢我的訂單資料呢?   \n",
       "24                        如何修改訂單資料?   \n",
       "25              商店街店家專屬電子報或EDM如何刪除?   \n",
       "26                    我該如何處理退貨退款問題?   \n",
       "27                       有關網站空間服務停用   \n",
       "\n",
       "                                               answer  \n",
       "0   目前商店街提供信用卡、提款機轉帳、超商付款等多種付款方式。唯實際的付款方式將依各店家開放的付...  \n",
       "1   銀行授權是以分期價總額授權，同樣的信用額度也是以分期價總額扣取，但是您付款是分期逐月付款，如...  \n",
       "2   銀行通知消費總金額是沒錯，因為銀行需要對持卡者做授權額度控管，並且安全完善的通知消費者核對總...  \n",
       "3   由於一次付清和分期付款兩者是不同的收單銀行，且受限銀行規定，因此無法做直接的更改，故請在訂購...  \n",
       "4   目前PChome商店街為配合銀行安全性機制和訂單快速作業流程，請消費者在輸入卡號的同時輸入卡...  \n",
       "5   線上分期價的總額比一次付清價高是因為分期付款交易因作業繁鎖，故資金成本與營運成本均不同，所以...  \n",
       "6   銀行的額度計算是以消費總金額，而非單筆分期金額喔！因此您需要評估消費總金額是否在額度內，若是...  \n",
       "7   信用卡付款完成訂購後即可至＜PChome商店街＞－我的帳戶中查詢您的交易明細。\\r\\n 提款...  \n",
       "8   如果已訂購一筆訂單，使用的付款方式是「提款機付款」，在尚未完成轉帳前想要更改付款方式，請您直...  \n",
       "9   我們所提供的轉帳帳號無法在銀行櫃台匯款轉帳，這組帳號是銀行營業部配合PC home商店街訂單...  \n",
       "10  轉帳帳號屬於虛擬帳號，一旦過了繳費期限，帳號就不存在，訂單亦會自動取消。若是逾期繳款，煩請您...  \n",
       "11  轉帳不過去可能碰到原因：\\r\\n 1. 正逢下午 2~3 點銀行結匯時間\\r\\n 2. 持卡...  \n",
       "12  轉帳帳號(16碼)是依據每筆訂單自動產生專屬帳號，因此每筆訂單的帳號都不一樣，只要在繳費期限...  \n",
       "13  因為轉帳是24小時提供的服務，並沒有因為假日就遞延繳款期限。例如繳款期限是 6/2日(週日)...  \n",
       "14  由於網路詐騙案件層出不窮,手法也不斷更新，PChome商店街在此特別提醒您，商店街的店家與P...  \n",
       "15  (1)購買前請詳閱商品頁中的商品資訊、內容及店家的購物說明，以避免退換貨問題。\\n     ...  \n",
       "16  [AFTEE先取後付]就是先拿到商品後，再付款給AFTEE的服務，簡單便利且安心喔!\\n只要...  \n",
       "17  店家出貨三天後，AFTEE會發送繳費通知，根據出貨方式的不同，寄送繳費單時間與到貨時間也會有...  \n",
       "18  1. 若您不是AFTEE會員：必須透過「繳費簡訊連結」操作 > 取得繳費代碼後 > 再前往超...  \n",
       "19  [AFTEE先取後付]訂單的繳費期限為繳費單寄送後的14天內，若超過繳費期限，仍可以使用原繳...  \n",
       "20                   不一定成功，請至商店街「我的帳戶」查詢「交易紀錄」確認訂單狀態。  \n",
       "21                 若您是PChome商店街會員，請先登入您的帳號及密碼，即可進行購買。  \n",
       "22  若您非PChome商店街會員，請點選「首次於PChome商店街購物請按此 」，並填入您的個人...  \n",
       "23                     請至[我的帳戶 > 交易紀錄]查詢您在商店街交易的訂單資料。  \n",
       "24               因系統作業程序的關係，無法提供訂單修改內容，需請您取消訂單後再重新下單。  \n",
       "25  如欲取消店家專屬會員電子報或EDM，請至「商店街首頁 > 我的帳戶 > 電子報」取消勾選，即...  \n",
       "26  請您至「我的帳戶 > 交易紀錄」點選[我要退訂]並填寫辦退申請，系統會將您的退貨申請傳送給店...  \n",
       "27                商店街網站空間服務進行調整，不再提供網站空間服務，請參考相關公告內容。  "
      ]
     },
     "execution_count": 5,
     "metadata": {},
     "output_type": "execute_result"
    }
   ],
   "source": [
    "qa.reset_index(drop=True)"
   ]
  },
  {
   "cell_type": "markdown",
   "metadata": {},
   "source": [
    "## 請將 question 欄位進行切詞，並將切詞過後的資料放入語料庫 corpus (資料型態為List) 中"
   ]
  },
  {
   "cell_type": "code",
   "execution_count": 6,
   "metadata": {},
   "outputs": [
    {
     "name": "stderr",
     "output_type": "stream",
     "text": [
      "Building prefix dict from the default dictionary ...\n",
      "Loading model from cache /var/folders/4f/nxxhtljx45b09spf0dj8mcrc0000gn/T/jieba.cache\n",
      "Loading model cost 0.592 seconds.\n",
      "Prefix dict has been built succesfully.\n"
     ]
    }
   ],
   "source": [
    "corpus = []\n",
    "answer = []\n",
    "jieba.add_word('幾種')\n",
    "jieba.add_word('一次')\n",
    "for idx, question in qa.iterrows():\n",
    "    corpus.append(' '.join(jieba.cut(question.get('question'))))\n",
    "    answer.append(question.get('answer'))"
   ]
  },
  {
   "cell_type": "code",
   "execution_count": 7,
   "metadata": {
    "scrolled": true
   },
   "outputs": [
    {
     "data": {
      "text/plain": [
       "['請問 付款 方式 有 哪 幾種 ？',\n",
       " '請問 線上 分期付款 的 授權 和 額度 如何 計算 ？',\n",
       " '我 是 選擇 分期付款 ， 為什麼 銀行 簡訊 通知 總金額 ？',\n",
       " '請問 使用 分期付款 可以 再 改回 一次 付清 嗎 ？',\n",
       " '我 有 網路 虛擬 信用卡 ， 可不可以 在 PC   home 商店街 消費 ？',\n",
       " '為什麼 線上 分期付款 的 金額 比 一次 付清 的 要多 ？',\n",
       " '信用卡 可 使用 額度 的 是 在 分期 的 額度 內 ， 為什麼 刷卡 不過 ？',\n",
       " '付款 多久 可以 查到 訂單 明細 ？',\n",
       " '我 想 取消 提款機 付款 的 訂單 ， 改用 信用卡 付款 該 怎麼 做 ？',\n",
       " '選擇 提款機 付款 後 ， 我 可以 在 銀行 櫃台 匯款 轉帳 嗎 ？',\n",
       " 'ATM 繳款 期限 已 過 了 該 怎麼辦 ？',\n",
       " 'PChome 商店街 發給 的 轉帳 帳號 無法 轉帳 或是 出現 問題 帳號 ？',\n",
       " '轉帳 之後 ， 如何 確認 這 筆 款項 是 我 付 的 ？ 可以 我 訂購 ， 其 他人 付款 嗎 ？',\n",
       " '轉帳 繳費 期限 剛好 遇上 假日 有 影響 嗎 ？',\n",
       " '網路 交易 注意 事項',\n",
       " '在 商店街 交易 ， 需 注意 事項 為何 ?',\n",
       " '什麼 是 [ AFTEE 先取 後付 ] 呢 ?',\n",
       " '什麼 時候 會 收到 [ AFTEE 先取 後付 ] 繳費單 呢 ?',\n",
       " '[ AFTEE 先取 後付 ] 該 如何 付款 ?',\n",
       " '[ AFTEE 先取 後付 ] 付款 期限 是 多久 ?',\n",
       " '下單 時 ， 付款 網頁 一片 空白 或 有 錯誤 訊息 ， 請問 是否 訂購 成功 ?',\n",
       " '商店街 會員 如何 訂購 ?',\n",
       " '非 商店街 會員 如何 訂購 ?',\n",
       " '如何 查詢 我 的 訂單 資料 呢 ?',\n",
       " '如何 修改 訂單 資料 ?',\n",
       " '商店街 店家 專屬 電子報 或 EDM 如何 刪除 ?',\n",
       " '我 該 如何 處理 退貨 退款 問題 ?',\n",
       " '有關 網站 空間 服務 停用']"
      ]
     },
     "execution_count": 7,
     "metadata": {},
     "output_type": "execute_result"
    }
   ],
   "source": [
    "corpus"
   ]
  },
  {
   "cell_type": "code",
   "execution_count": 8,
   "metadata": {},
   "outputs": [
    {
     "data": {
      "text/plain": [
       "list"
      ]
     },
     "execution_count": 8,
     "metadata": {},
     "output_type": "execute_result"
    }
   ],
   "source": [
    "type(corpus)"
   ]
  },
  {
   "cell_type": "markdown",
   "metadata": {},
   "source": [
    "## 請使用 sklearn 將語料庫 Corpus 轉換成名為tfidf 的 TF-IDF矩陣(TfidfVectorizer)"
   ]
  },
  {
   "cell_type": "code",
   "execution_count": 9,
   "metadata": {},
   "outputs": [],
   "source": [
    "from sklearn.feature_extraction.text import CountVectorizer, TfidfVectorizer\n",
    "vectorizer = TfidfVectorizer()\n",
    "tfidf = vectorizer.fit_transform(corpus)"
   ]
  },
  {
   "cell_type": "code",
   "execution_count": 10,
   "metadata": {},
   "outputs": [
    {
     "data": {
      "text/plain": [
       "array([0.        , 0.        , 0.        , 0.        , 0.        ,\n",
       "       0.        , 0.        , 0.        , 0.        , 0.        ,\n",
       "       0.        , 0.        , 0.        , 0.        , 0.        ,\n",
       "       0.34610023, 0.        , 0.        , 0.        , 0.        ,\n",
       "       0.        , 0.        , 0.        , 0.        , 0.        ,\n",
       "       0.        , 0.        , 0.        , 0.        , 0.        ,\n",
       "       0.        , 0.        , 0.        , 0.        , 0.        ,\n",
       "       0.        , 0.        , 0.        , 0.        , 0.58598246,\n",
       "       0.        , 0.        , 0.        , 0.        , 0.        ,\n",
       "       0.        , 0.        , 0.        , 0.        , 0.        ,\n",
       "       0.        , 0.        , 0.58598246, 0.        , 0.        ,\n",
       "       0.        , 0.        , 0.        , 0.        , 0.        ,\n",
       "       0.        , 0.        , 0.        , 0.        , 0.        ,\n",
       "       0.        , 0.        , 0.        , 0.        , 0.        ,\n",
       "       0.        , 0.        , 0.        , 0.        , 0.        ,\n",
       "       0.        , 0.        , 0.        , 0.        , 0.        ,\n",
       "       0.        , 0.        , 0.        , 0.        , 0.        ,\n",
       "       0.        , 0.        , 0.        , 0.        , 0.43984513,\n",
       "       0.        , 0.        , 0.        , 0.        , 0.        ,\n",
       "       0.        , 0.        , 0.        , 0.        , 0.        ,\n",
       "       0.        , 0.        ])"
      ]
     },
     "execution_count": 10,
     "metadata": {},
     "output_type": "execute_result"
    }
   ],
   "source": [
    "tfidf.toarray()[0]"
   ]
  },
  {
   "cell_type": "code",
   "execution_count": 11,
   "metadata": {},
   "outputs": [],
   "source": [
    "from sklearn.metrics.pairwise import cosine_similarity\n",
    "cs = cosine_similarity(tfidf)"
   ]
  },
  {
   "cell_type": "code",
   "execution_count": 12,
   "metadata": {},
   "outputs": [
    {
     "data": {
      "text/plain": [
       "(28,)"
      ]
     },
     "execution_count": 12,
     "metadata": {},
     "output_type": "execute_result"
    }
   ],
   "source": [
    "cs[0].shape"
   ]
  },
  {
   "cell_type": "code",
   "execution_count": 13,
   "metadata": {},
   "outputs": [
    {
     "data": {
      "text/plain": [
       "array([25, 24, 23, 22, 21, 17, 16, 15, 14, 26, 27, 10,  6,  5,  4,  2, 11,\n",
       "       12,  9,  7, 19, 18,  3,  1,  8, 20,  0])"
      ]
     },
     "execution_count": 13,
     "metadata": {},
     "output_type": "execute_result"
    }
   ],
   "source": [
    "cs[0].argsort()[1:]"
   ]
  },
  {
   "cell_type": "code",
   "execution_count": 14,
   "metadata": {},
   "outputs": [
    {
     "data": {
      "text/plain": [
       "['目前商店街提供信用卡、提款機轉帳、超商付款等多種付款方式。唯實際的付款方式將依各店家開放的付款方式為依據。\\r\\n(1)ATM轉帳\\r\\n只要將購買款項直接匯入系統指定帳號即可完成付款。每個指定帳號只能用在該筆訂單。 \\r\\n \\t(2)信用卡線上刷卡\\r\\n您可以安心使用信用卡（VISA、MASTER、JCB）即時線上刷卡，馬上就可以付款完成。\\r\\n \\t(3) 信用卡分期付款：多家\\r\\n銀行。 \\r\\n \\t\\r\\n(4)超商付款\\r\\n消費者訂購後可前往超商（包含7-11、全家、萊爾富、OK）任一門市付款。詳細說明。',\n",
       " '銀行授權是以分期價總額授權，同樣的信用額度也是以分期價總額扣取，但是您付款是分期逐月付款，如六期是分六個月逐月付款。',\n",
       " '銀行通知消費總金額是沒錯，因為銀行需要對持卡者做授權額度控管，並且安全完善的通知消費者核對總金額，不過在信用卡帳單是會分期扣款，請您放心！',\n",
       " '由於一次付清和分期付款兩者是不同的收單銀行，且受限銀行規定，因此無法做直接的更改，故請在訂購時慎選付款方式。',\n",
       " '目前PChome商店街為配合銀行安全性機制和訂單快速作業流程，請消費者在輸入卡號的同時輸入卡片背面未三碼，以保障消費者免被測試冒刷，若持網路虛擬信用卡將無末三碼可輸入，建議改用其它的一般信用卡或是選擇提款機轉帳方式。',\n",
       " '線上分期價的總額比一次付清價高是因為分期付款交易因作業繁鎖，故資金成本與營運成本均不同，所以價格與一次付清不同。',\n",
       " '銀行的額度計算是以消費總金額，而非單筆分期金額喔！因此您需要評估消費總金額是否在額度內，若是超過，請洽詢原發卡銀行。',\n",
       " '信用卡付款完成訂購後即可至＜PChome商店街＞－我的帳戶中查詢您的交易明細。\\r\\n 提款機轉帳完成次日下午可以收到 mail 確認函，亦可在＜PChome商店街＞－我的帳戶中查到，但若於週五∼週日進行提款機轉帳付款須週一作業，請週一下午再查詢。',\n",
       " '如果已訂購一筆訂單，使用的付款方式是「提款機付款」，在尚未完成轉帳前想要更改付款方式，請您直接上網重新訂購一筆新的訂單，並選擇您要的付款方式就可以了。原「提款機付款」訂單，系統在期限內未收到您的轉帳款項，就會自動為您取消訂單。',\n",
       " '我們所提供的轉帳帳號無法在銀行櫃台匯款轉帳，這組帳號是銀行營業部配合PC home商店街訂單所產生個人專屬的虛擬帳號共16碼，而在銀行的匯款系統是無法輸入的，它僅能透過提款機來完成轉帳，只要帳號和金額轉帳正確就會對應訂單，無需傳真單據。',\n",
       " '轉帳帳號屬於虛擬帳號，一旦過了繳費期限，帳號就不存在，訂單亦會自動取消。若是逾期繳款，煩請您再次上網重新訂購，系統會再次給您一組新的轉帳帳號和新的繳款期限。再次提醒您，請您儘量在繳費期限內完成轉帳，以避免造成您的繳費期限已過，而商品剛好售完無法再重新訂購的情形發生。',\n",
       " '轉帳不過去可能碰到原因：\\r\\n 1. 正逢下午 2~3 點銀行結匯時間\\r\\n 2. 持卡行未與轉帳行連線\\r\\n 3. 帳號輸入錯誤\\r\\n 4. 金額輸入錯誤\\r\\n 5. 郵局系統較舊型無提供網路16碼帳號\\r\\n 6. 金融卡本身未提供轉帳功能，請洽詢發卡行辦理\\r\\n * 此時建議更換時段轉帳或是換一家銀行提款機轉帳，並請檢查帳號和金額。',\n",
       " '轉帳帳號(16碼)是依據每筆訂單自動產生專屬帳號，因此每筆訂單的帳號都不一樣，只要在繳費期限內完成轉帳(帳號正確)，不限是購買人付款，系統於核帳期間確認有收到款項(帳號會對應訂單)，即會判斷出是哪一筆訂單的款項已入帳。',\n",
       " '因為轉帳是24小時提供的服務，並沒有因為假日就遞延繳款期限。例如繳款期限是 6/2日(週日)，6/2日的晚間11:59以前都可以轉帳，亦無需理會銀行的入帳日，但進行轉帳時不能超過繳款期限。',\n",
       " '由於網路詐騙案件層出不窮,手法也不斷更新，PChome商店街在此特別提醒您，商店街的店家與PChome工作人員，均不會要求消費者至提款機操作任何功能，請小心勿上當。如果接獲不明人士來信或來電，應立即撥打165防詐騙專線查詢或透過「PChome商店街服務中心」查證。\\r\\nPChome商店街與您一起努力維護網路交易安全！',\n",
       " '(1)購買前請詳閱商品頁中的商品資訊、內容及店家的購物說明，以避免退換貨問題。\\n          (2)若您有任何商品、出貨、退貨問題，可透過[私訊]與店家聯繫，店家也會提供聯絡方式在店家網頁右上方的「店面介紹」。\\n          (3)若與店家有消費爭議或聯繫不上店家，可前往商店街「客服中心」與我們聯絡。',\n",
       " '[AFTEE先取後付]就是先拿到商品後，再付款給AFTEE的服務，簡單便利且安心喔!\\n只要有手機號碼，就算是沒有信用卡的學生、年輕族群，都能使用[AFTEE先取後付]下單。\\n[AFTEE先取後付]下單後，不用先付款，就能拿到商品。\\n等拿到商品後，AFTEE會通知消費者付款，您只需在期限內到四大超商付款或ATM轉帳即可，如果需要退貨，可到[我的帳戶]直接申請。',\n",
       " '店家出貨三天後，AFTEE會發送繳費通知，根據出貨方式的不同，寄送繳費單時間與到貨時間也會有所差異。\\n1.若您不是AFTEE會員：AFTEE會發送繳費簡訊到『下單時所認證的手機號碼』，請透過「繳費簡訊連結」操作 > 取得繳費代碼後 > 再前往超商或ATM操作繳費。\\n2.若您是AFTEE會員：AFTEE將會以AFTEE APP及簡訊通知繳費，會員可隨時登入APP確認，並以APP中的結帳付款畫面發行繳費單進行繳費。',\n",
       " '1. 若您不是AFTEE會員：必須透過「繳費簡訊連結」操作 > 取得繳費代碼後 > 再前往超商或ATM操作繳費。\\n2. 若您是AFTEE會員：AFTEE將會以APP通知繳費單，會員可隨時登入APP確認，並以APP中的結帳付款畫面發行繳費單進行繳費。\\n3. 詳細付款方式可參考AFTEE客戶支援中心',\n",
       " '[AFTEE先取後付]訂單的繳費期限為繳費單寄送後的14天內，若超過繳費期限，仍可以使用原繳費單繼續進行付款手續。\\n※若超過繳費期限仍未繳納，會產生滯納金 (請參考AFTEE-客戶支援中心相關說明)，請您儘早完成付款。',\n",
       " '不一定成功，請至商店街「我的帳戶」查詢「交易紀錄」確認訂單狀態。',\n",
       " '若您是PChome商店街會員，請先登入您的帳號及密碼，即可進行購買。',\n",
       " '若您非PChome商店街會員，請點選「首次於PChome商店街購物請按此 」，並填入您的個人資料，即可進行購買，訂購成功後會自動升級為PChome商店街的會員。',\n",
       " '請至[我的帳戶 > 交易紀錄]查詢您在商店街交易的訂單資料。',\n",
       " '因系統作業程序的關係，無法提供訂單修改內容，需請您取消訂單後再重新下單。',\n",
       " '如欲取消店家專屬會員電子報或EDM，請至「商店街首頁 > 我的帳戶 > 電子報」取消勾選，即可取消訂閱，您亦可隨時恢復訂閱。',\n",
       " '請您至「我的帳戶 > 交易紀錄」點選[我要退訂]並填寫辦退申請，系統會將您的退貨申請傳送給店家，您的退貨申請核准與否，及貨品收回取件方式將由各店家全權負責；您也可以在網站上查詢店家聯絡資訊及詳閱網站上各店家退換貨相關規定，直接與店家聯絡進行退換貨事宜。',\n",
       " '商店街網站空間服務進行調整，不再提供網站空間服務，請參考相關公告內容。']"
      ]
     },
     "execution_count": 14,
     "metadata": {},
     "output_type": "execute_result"
    }
   ],
   "source": [
    "answer"
   ]
  },
  {
   "cell_type": "markdown",
   "metadata": {},
   "source": [
    "## 將使用者輸入問題「請問要如何查詢我的訂單」切詞並轉換為向量，透過相似度計算(Cosine Similarity)回覆最有可能的答案?"
   ]
  },
  {
   "cell_type": "code",
   "execution_count": 27,
   "metadata": {},
   "outputs": [],
   "source": [
    "def getQuerySimiliarArticle(query):\n",
    "    query_corpus = [' '.join(jieba.cut(query))]\n",
    "    query_vec = vectorizer.transform(query_corpus)\n",
    "    cs = cosine_similarity(query_vec, tfidf).flatten()\n",
    "     \n",
    "    return cs.argsort()"
   ]
  },
  {
   "cell_type": "code",
   "execution_count": 28,
   "metadata": {},
   "outputs": [
    {
     "data": {
      "text/plain": [
       "array([13, 19, 17, 16, 15, 14, 11, 10,  9, 27,  6,  5,  4,  2, 12, 25, 26,\n",
       "       20, 18, 21, 22,  8,  3,  7,  0,  1, 24, 23])"
      ]
     },
     "execution_count": 28,
     "metadata": {},
     "output_type": "execute_result"
    }
   ],
   "source": [
    "result = getQuerySimiliarArticle(question)\n",
    "result"
   ]
  },
  {
   "cell_type": "code",
   "execution_count": 30,
   "metadata": {},
   "outputs": [
    {
     "name": "stdout",
     "output_type": "stream",
     "text": [
      "請輸入問題:\n"
     ]
    },
    {
     "ename": "KeyboardInterrupt",
     "evalue": "",
     "output_type": "error",
     "traceback": [
      "\u001b[0;31m--------------------------------------------------------\u001b[0m",
      "\u001b[0;31mKeyboardInterrupt\u001b[0m      Traceback (most recent call last)",
      "\u001b[0;32m/usr/local/lib/python3.7/site-packages/ipykernel/kernelbase.py\u001b[0m in \u001b[0;36m_input_request\u001b[0;34m(self, prompt, ident, parent, password)\u001b[0m\n\u001b[1;32m    883\u001b[0m             \u001b[0;32mtry\u001b[0m\u001b[0;34m:\u001b[0m\u001b[0;34m\u001b[0m\u001b[0;34m\u001b[0m\u001b[0m\n\u001b[0;32m--> 884\u001b[0;31m                 \u001b[0mident\u001b[0m\u001b[0;34m,\u001b[0m \u001b[0mreply\u001b[0m \u001b[0;34m=\u001b[0m \u001b[0mself\u001b[0m\u001b[0;34m.\u001b[0m\u001b[0msession\u001b[0m\u001b[0;34m.\u001b[0m\u001b[0mrecv\u001b[0m\u001b[0;34m(\u001b[0m\u001b[0mself\u001b[0m\u001b[0;34m.\u001b[0m\u001b[0mstdin_socket\u001b[0m\u001b[0;34m,\u001b[0m \u001b[0;36m0\u001b[0m\u001b[0;34m)\u001b[0m\u001b[0;34m\u001b[0m\u001b[0;34m\u001b[0m\u001b[0m\n\u001b[0m\u001b[1;32m    885\u001b[0m             \u001b[0;32mexcept\u001b[0m \u001b[0mException\u001b[0m\u001b[0;34m:\u001b[0m\u001b[0;34m\u001b[0m\u001b[0;34m\u001b[0m\u001b[0m\n",
      "\u001b[0;32m/usr/local/lib/python3.7/site-packages/jupyter_client/session.py\u001b[0m in \u001b[0;36mrecv\u001b[0;34m(self, socket, mode, content, copy)\u001b[0m\n\u001b[1;32m    812\u001b[0m         \u001b[0;32mtry\u001b[0m\u001b[0;34m:\u001b[0m\u001b[0;34m\u001b[0m\u001b[0;34m\u001b[0m\u001b[0m\n\u001b[0;32m--> 813\u001b[0;31m             \u001b[0mmsg_list\u001b[0m \u001b[0;34m=\u001b[0m \u001b[0msocket\u001b[0m\u001b[0;34m.\u001b[0m\u001b[0mrecv_multipart\u001b[0m\u001b[0;34m(\u001b[0m\u001b[0mmode\u001b[0m\u001b[0;34m,\u001b[0m \u001b[0mcopy\u001b[0m\u001b[0;34m=\u001b[0m\u001b[0mcopy\u001b[0m\u001b[0;34m)\u001b[0m\u001b[0;34m\u001b[0m\u001b[0;34m\u001b[0m\u001b[0m\n\u001b[0m\u001b[1;32m    814\u001b[0m         \u001b[0;32mexcept\u001b[0m \u001b[0mzmq\u001b[0m\u001b[0;34m.\u001b[0m\u001b[0mZMQError\u001b[0m \u001b[0;32mas\u001b[0m \u001b[0me\u001b[0m\u001b[0;34m:\u001b[0m\u001b[0;34m\u001b[0m\u001b[0;34m\u001b[0m\u001b[0m\n",
      "\u001b[0;32m/usr/local/lib/python3.7/site-packages/zmq/sugar/socket.py\u001b[0m in \u001b[0;36mrecv_multipart\u001b[0;34m(self, flags, copy, track)\u001b[0m\n\u001b[1;32m    474\u001b[0m         \"\"\"\n\u001b[0;32m--> 475\u001b[0;31m         \u001b[0mparts\u001b[0m \u001b[0;34m=\u001b[0m \u001b[0;34m[\u001b[0m\u001b[0mself\u001b[0m\u001b[0;34m.\u001b[0m\u001b[0mrecv\u001b[0m\u001b[0;34m(\u001b[0m\u001b[0mflags\u001b[0m\u001b[0;34m,\u001b[0m \u001b[0mcopy\u001b[0m\u001b[0;34m=\u001b[0m\u001b[0mcopy\u001b[0m\u001b[0;34m,\u001b[0m \u001b[0mtrack\u001b[0m\u001b[0;34m=\u001b[0m\u001b[0mtrack\u001b[0m\u001b[0;34m)\u001b[0m\u001b[0;34m]\u001b[0m\u001b[0;34m\u001b[0m\u001b[0;34m\u001b[0m\u001b[0m\n\u001b[0m\u001b[1;32m    476\u001b[0m         \u001b[0;31m# have first part already, only loop while more to receive\u001b[0m\u001b[0;34m\u001b[0m\u001b[0;34m\u001b[0m\u001b[0;34m\u001b[0m\u001b[0m\n",
      "\u001b[0;32mzmq/backend/cython/socket.pyx\u001b[0m in \u001b[0;36mzmq.backend.cython.socket.Socket.recv\u001b[0;34m()\u001b[0m\n",
      "\u001b[0;32mzmq/backend/cython/socket.pyx\u001b[0m in \u001b[0;36mzmq.backend.cython.socket.Socket.recv\u001b[0;34m()\u001b[0m\n",
      "\u001b[0;32mzmq/backend/cython/socket.pyx\u001b[0m in \u001b[0;36mzmq.backend.cython.socket._recv_copy\u001b[0;34m()\u001b[0m\n",
      "\u001b[0;32m/usr/local/lib/python3.7/site-packages/zmq/backend/cython/checkrc.pxd\u001b[0m in \u001b[0;36mzmq.backend.cython.checkrc._check_rc\u001b[0;34m()\u001b[0m\n",
      "\u001b[0;31mKeyboardInterrupt\u001b[0m: ",
      "\nDuring handling of the above exception, another exception occurred:\n",
      "\u001b[0;31mKeyboardInterrupt\u001b[0m      Traceback (most recent call last)",
      "\u001b[0;32m<ipython-input-30-7780e6cfdd5a>\u001b[0m in \u001b[0;36m<module>\u001b[0;34m\u001b[0m\n\u001b[1;32m      1\u001b[0m \u001b[0mprint\u001b[0m\u001b[0;34m(\u001b[0m\u001b[0;34m'請輸入問題:'\u001b[0m\u001b[0;34m)\u001b[0m\u001b[0;34m\u001b[0m\u001b[0;34m\u001b[0m\u001b[0m\n\u001b[0;32m----> 2\u001b[0;31m \u001b[0mquestion\u001b[0m \u001b[0;34m=\u001b[0m \u001b[0minput\u001b[0m\u001b[0;34m(\u001b[0m\u001b[0;34m)\u001b[0m\u001b[0;34m\u001b[0m\u001b[0;34m\u001b[0m\u001b[0m\n\u001b[0m\u001b[1;32m      3\u001b[0m \u001b[0mresult\u001b[0m \u001b[0;34m=\u001b[0m \u001b[0mgetQuerySimiliarArticle\u001b[0m\u001b[0;34m(\u001b[0m\u001b[0mquestion\u001b[0m\u001b[0;34m)\u001b[0m\u001b[0;34m\u001b[0m\u001b[0;34m\u001b[0m\u001b[0m\n\u001b[1;32m      4\u001b[0m \u001b[0mprint\u001b[0m\u001b[0;34m(\u001b[0m\u001b[0;34m'\\n'\u001b[0m\u001b[0;34m)\u001b[0m\u001b[0;34m\u001b[0m\u001b[0;34m\u001b[0m\u001b[0m\n\u001b[1;32m      5\u001b[0m \u001b[0mprint\u001b[0m\u001b[0;34m(\u001b[0m\u001b[0;34m'回答:'\u001b[0m\u001b[0;34m)\u001b[0m\u001b[0;34m\u001b[0m\u001b[0;34m\u001b[0m\u001b[0m\n",
      "\u001b[0;32m/usr/local/lib/python3.7/site-packages/ipykernel/kernelbase.py\u001b[0m in \u001b[0;36mraw_input\u001b[0;34m(self, prompt)\u001b[0m\n\u001b[1;32m    857\u001b[0m             \u001b[0mself\u001b[0m\u001b[0;34m.\u001b[0m\u001b[0m_parent_ident\u001b[0m\u001b[0;34m,\u001b[0m\u001b[0;34m\u001b[0m\u001b[0;34m\u001b[0m\u001b[0m\n\u001b[1;32m    858\u001b[0m             \u001b[0mself\u001b[0m\u001b[0;34m.\u001b[0m\u001b[0m_parent_header\u001b[0m\u001b[0;34m,\u001b[0m\u001b[0;34m\u001b[0m\u001b[0;34m\u001b[0m\u001b[0m\n\u001b[0;32m--> 859\u001b[0;31m             \u001b[0mpassword\u001b[0m\u001b[0;34m=\u001b[0m\u001b[0;32mFalse\u001b[0m\u001b[0;34m,\u001b[0m\u001b[0;34m\u001b[0m\u001b[0;34m\u001b[0m\u001b[0m\n\u001b[0m\u001b[1;32m    860\u001b[0m         )\n\u001b[1;32m    861\u001b[0m \u001b[0;34m\u001b[0m\u001b[0m\n",
      "\u001b[0;32m/usr/local/lib/python3.7/site-packages/ipykernel/kernelbase.py\u001b[0m in \u001b[0;36m_input_request\u001b[0;34m(self, prompt, ident, parent, password)\u001b[0m\n\u001b[1;32m    887\u001b[0m             \u001b[0;32mexcept\u001b[0m \u001b[0mKeyboardInterrupt\u001b[0m\u001b[0;34m:\u001b[0m\u001b[0;34m\u001b[0m\u001b[0;34m\u001b[0m\u001b[0m\n\u001b[1;32m    888\u001b[0m                 \u001b[0;31m# re-raise KeyboardInterrupt, to truncate traceback\u001b[0m\u001b[0;34m\u001b[0m\u001b[0;34m\u001b[0m\u001b[0;34m\u001b[0m\u001b[0m\n\u001b[0;32m--> 889\u001b[0;31m                 \u001b[0;32mraise\u001b[0m \u001b[0mKeyboardInterrupt\u001b[0m\u001b[0;34m\u001b[0m\u001b[0;34m\u001b[0m\u001b[0m\n\u001b[0m\u001b[1;32m    890\u001b[0m             \u001b[0;32melse\u001b[0m\u001b[0;34m:\u001b[0m\u001b[0;34m\u001b[0m\u001b[0;34m\u001b[0m\u001b[0m\n\u001b[1;32m    891\u001b[0m                 \u001b[0;32mbreak\u001b[0m\u001b[0;34m\u001b[0m\u001b[0;34m\u001b[0m\u001b[0m\n",
      "\u001b[0;31mKeyboardInterrupt\u001b[0m: "
     ]
    }
   ],
   "source": [
    "print('請輸入問題:')\n",
    "question = input()\n",
    "result = getQuerySimiliarArticle(question)\n",
    "print('\\n')\n",
    "print('回答:')\n",
    "print(answer[])"
   ]
  },
  {
   "cell_type": "code",
   "execution_count": null,
   "metadata": {},
   "outputs": [],
   "source": []
  }
 ],
 "metadata": {
  "kernelspec": {
   "display_name": "Python 3",
   "language": "python",
   "name": "python3"
  },
  "language_info": {
   "codemirror_mode": {
    "name": "ipython",
    "version": 3
   },
   "file_extension": ".py",
   "mimetype": "text/x-python",
   "name": "python",
   "nbconvert_exporter": "python",
   "pygments_lexer": "ipython3",
   "version": "3.7.7"
  }
 },
 "nbformat": 4,
 "nbformat_minor": 4
}
