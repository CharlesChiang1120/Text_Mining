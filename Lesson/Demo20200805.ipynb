{
 "cells": [
  {
   "cell_type": "markdown",
   "metadata": {},
   "source": [
    "## K-Means"
   ]
  },
  {
   "cell_type": "code",
   "execution_count": 1,
   "metadata": {},
   "outputs": [],
   "source": [
    "from sklearn.datasets import load_iris"
   ]
  },
  {
   "cell_type": "code",
   "execution_count": 2,
   "metadata": {},
   "outputs": [],
   "source": [
    "iris = load_iris()"
   ]
  },
  {
   "cell_type": "code",
   "execution_count": 3,
   "metadata": {},
   "outputs": [
    {
     "data": {
      "text/plain": [
       "array([[5.1, 3.5, 1.4, 0.2],\n",
       "       [4.9, 3. , 1.4, 0.2]])"
      ]
     },
     "execution_count": 3,
     "metadata": {},
     "output_type": "execute_result"
    }
   ],
   "source": [
    "iris.data[0:2]"
   ]
  },
  {
   "cell_type": "code",
   "execution_count": 4,
   "metadata": {},
   "outputs": [
    {
     "data": {
      "text/plain": [
       "array([0, 0, 0, 0, 0, 0, 0, 0, 0, 0, 0, 0, 0, 0, 0, 0, 0, 0, 0, 0, 0, 0,\n",
       "       0, 0, 0, 0, 0, 0, 0, 0, 0, 0, 0, 0, 0, 0, 0, 0, 0, 0, 0, 0, 0, 0,\n",
       "       0, 0, 0, 0, 0, 0, 1, 1, 1, 1, 1, 1, 1, 1, 1, 1, 1, 1, 1, 1, 1, 1,\n",
       "       1, 1, 1, 1, 1, 1, 1, 1, 1, 1, 1, 1, 1, 1, 1, 1, 1, 1, 1, 1, 1, 1,\n",
       "       1, 1, 1, 1, 1, 1, 1, 1, 1, 1, 1, 1, 2, 2, 2, 2, 2, 2, 2, 2, 2, 2,\n",
       "       2, 2, 2, 2, 2, 2, 2, 2, 2, 2, 2, 2, 2, 2, 2, 2, 2, 2, 2, 2, 2, 2,\n",
       "       2, 2, 2, 2, 2, 2, 2, 2, 2, 2, 2, 2, 2, 2, 2, 2, 2, 2])"
      ]
     },
     "execution_count": 4,
     "metadata": {},
     "output_type": "execute_result"
    }
   ],
   "source": [
    "iris.target"
   ]
  },
  {
   "cell_type": "code",
   "execution_count": 5,
   "metadata": {},
   "outputs": [],
   "source": [
    "from sklearn.cluster import KMeans"
   ]
  },
  {
   "cell_type": "code",
   "execution_count": 6,
   "metadata": {},
   "outputs": [],
   "source": [
    "kmeans = KMeans(n_clusters=3,init = 'k-means++',random_state=123)"
   ]
  },
  {
   "cell_type": "code",
   "execution_count": 7,
   "metadata": {},
   "outputs": [],
   "source": [
    "y_kmeans = kmeans.fit_predict(iris.data)"
   ]
  },
  {
   "cell_type": "code",
   "execution_count": 8,
   "metadata": {},
   "outputs": [
    {
     "data": {
      "text/plain": [
       "array([0, 0, 0, 0, 0, 0, 0, 0, 0, 0, 0, 0, 0, 0, 0, 0, 0, 0, 0, 0, 0, 0,\n",
       "       0, 0, 0, 0, 0, 0, 0, 0, 0, 0, 0, 0, 0, 0, 0, 0, 0, 0, 0, 0, 0, 0,\n",
       "       0, 0, 0, 0, 0, 0, 2, 2, 1, 2, 2, 2, 2, 2, 2, 2, 2, 2, 2, 2, 2, 2,\n",
       "       2, 2, 2, 2, 2, 2, 2, 2, 2, 2, 2, 1, 2, 2, 2, 2, 2, 2, 2, 2, 2, 2,\n",
       "       2, 2, 2, 2, 2, 2, 2, 2, 2, 2, 2, 2, 1, 2, 1, 1, 1, 1, 2, 1, 1, 1,\n",
       "       1, 1, 1, 2, 2, 1, 1, 1, 1, 2, 1, 2, 1, 2, 1, 1, 2, 2, 1, 1, 1, 1,\n",
       "       1, 2, 1, 1, 1, 1, 2, 1, 1, 1, 2, 1, 1, 1, 2, 1, 1, 2], dtype=int32)"
      ]
     },
     "execution_count": 8,
     "metadata": {},
     "output_type": "execute_result"
    }
   ],
   "source": [
    "y_kmeans"
   ]
  },
  {
   "cell_type": "code",
   "execution_count": 52,
   "metadata": {},
   "outputs": [
    {
     "data": {
      "image/png": "[encoded data removed]",
      "text/plain": [
       "<Figure size 432x288 with 1 Axes>"
      ]
     },
     "metadata": {
      "needs_background": "light"
     },
     "output_type": "display_data"
    }
   ],
   "source": [
    "#因為總共有四個維度，無法畫圖，因此選擇第三跟第四個維度畫圖\n",
    "import matplotlib.pyplot as plt\n",
    "plt.scatter(iris.data[y_kmeans == 0, 2], iris.data[y_kmeans == 0, 3], s = 100, c = 'red', label = 'Cluster 1')\n",
    "plt.scatter(iris.data[y_kmeans == 1, 2], iris.data[y_kmeans == 1, 3], s = 100, c = 'blue', label = 'Cluster 2')\n",
    "plt.scatter(iris.data[y_kmeans == 2, 2], iris.data[y_kmeans == 2, 3], s = 100, c = 'green', label = 'Cluster 3')\n",
    "\n",
    "plt.scatter(kmeans.cluster_centers_[:, 2], kmeans.cluster_centers_[:, 3],s = 100, c = 'orange', label = 'Centroids')\n",
    "\n",
    "plt.title('Clusters of Iris')\n",
    "plt.xlabel('Petal.Length')\n",
    "plt.ylabel('Petal.Width')\n",
    "plt.legend()\n",
    "plt.show()"
   ]
  },
  {
   "cell_type": "code",
   "execution_count": 53,
   "metadata": {},
   "outputs": [],
   "source": [
    "import pandas as pd"
   ]
  },
  {
   "cell_type": "code",
   "execution_count": 54,
   "metadata": {},
   "outputs": [],
   "source": [
    "dataset = pd.read_csv('https://raw.githubusercontent.com/ywchiu/tibame_tm/master/data/customers.csv')"
   ]
  },
  {
   "cell_type": "code",
   "execution_count": 55,
   "metadata": {},
   "outputs": [
    {
     "data": {
      "text/html": [
       "<div>\n",
       "<style scoped>\n",
       "    .dataframe tbody tr th:only-of-type {\n",
       "        vertical-align: middle;\n",
       "    }\n",
       "\n",
       "    .dataframe tbody tr th {\n",
       "        vertical-align: top;\n",
       "    }\n",
       "\n",
       "    .dataframe thead th {\n",
       "        text-align: right;\n",
       "    }\n",
       "</style>\n",
       "<table border=\"1\" class=\"dataframe\">\n",
       "  <thead>\n",
       "    <tr style=\"text-align: right;\">\n",
       "      <th></th>\n",
       "      <th>CustomerID</th>\n",
       "      <th>Genre</th>\n",
       "      <th>Age</th>\n",
       "      <th>Annual Income (k$)</th>\n",
       "      <th>Spending Score (1-100)</th>\n",
       "    </tr>\n",
       "  </thead>\n",
       "  <tbody>\n",
       "    <tr>\n",
       "      <th>0</th>\n",
       "      <td>1</td>\n",
       "      <td>Male</td>\n",
       "      <td>19</td>\n",
       "      <td>15</td>\n",
       "      <td>39</td>\n",
       "    </tr>\n",
       "    <tr>\n",
       "      <th>1</th>\n",
       "      <td>2</td>\n",
       "      <td>Male</td>\n",
       "      <td>21</td>\n",
       "      <td>15</td>\n",
       "      <td>81</td>\n",
       "    </tr>\n",
       "    <tr>\n",
       "      <th>2</th>\n",
       "      <td>3</td>\n",
       "      <td>Female</td>\n",
       "      <td>20</td>\n",
       "      <td>16</td>\n",
       "      <td>6</td>\n",
       "    </tr>\n",
       "    <tr>\n",
       "      <th>3</th>\n",
       "      <td>4</td>\n",
       "      <td>Female</td>\n",
       "      <td>23</td>\n",
       "      <td>16</td>\n",
       "      <td>77</td>\n",
       "    </tr>\n",
       "    <tr>\n",
       "      <th>4</th>\n",
       "      <td>5</td>\n",
       "      <td>Female</td>\n",
       "      <td>31</td>\n",
       "      <td>17</td>\n",
       "      <td>40</td>\n",
       "    </tr>\n",
       "  </tbody>\n",
       "</table>\n",
       "</div>"
      ],
      "text/plain": [
       "   CustomerID   Genre  Age  Annual Income (k$)  Spending Score (1-100)\n",
       "0           1    Male   19                  15                      39\n",
       "1           2    Male   21                  15                      81\n",
       "2           3  Female   20                  16                       6\n",
       "3           4  Female   23                  16                      77\n",
       "4           5  Female   31                  17                      40"
      ]
     },
     "execution_count": 55,
     "metadata": {},
     "output_type": "execute_result"
    }
   ],
   "source": [
    "dataset.head()"
   ]
  },
  {
   "cell_type": "code",
   "execution_count": 56,
   "metadata": {},
   "outputs": [],
   "source": [
    "X = dataset.iloc[:,[3,4]].values"
   ]
  },
  {
   "cell_type": "code",
   "execution_count": 42,
   "metadata": {},
   "outputs": [],
   "source": [
    "from sklearn.cluster import KMeans\n",
    "kmeans = KMeans(n_clusters=5,init = 'k-means++' ,random_state=42)\n",
    "y_kmeans = kmeans.fit_predict(X)"
   ]
  },
  {
   "cell_type": "code",
   "execution_count": 42,
   "metadata": {},
   "outputs": [
    {
     "data": {
      "text/plain": [
       "array([0, 0, 0, 0, 0, 0, 0, 0, 0, 0, 0, 0, 0, 0, 0, 0, 0, 0, 0, 0, 0, 0,\n",
       "       0, 0, 0, 0, 0, 0, 0, 0, 0, 0, 0, 0, 0, 0, 0, 0, 0, 0, 0, 0, 0, 0,\n",
       "       0, 0, 0, 0, 0, 0, 2, 2, 1, 2, 2, 2, 2, 2, 2, 2, 2, 2, 2, 2, 2, 2,\n",
       "       2, 2, 2, 2, 2, 2, 2, 2, 2, 2, 2, 1, 2, 2, 2, 2, 2, 2, 2, 2, 2, 2,\n",
       "       2, 2, 2, 2, 2, 2, 2, 2, 2, 2, 2, 2, 1, 2, 1, 1, 1, 1, 2, 1, 1, 1,\n",
       "       1, 1, 1, 2, 2, 1, 1, 1, 1, 2, 1, 2, 1, 2, 1, 1, 2, 2, 1, 1, 1, 1,\n",
       "       1, 2, 1, 1, 1, 1, 2, 1, 1, 1, 2, 1, 1, 1, 2, 1, 1, 2], dtype=int32)"
      ]
     },
     "execution_count": 42,
     "metadata": {},
     "output_type": "execute_result"
    }
   ],
   "source": [
    "y_kmeans"
   ]
  },
  {
   "cell_type": "code",
   "execution_count": 43,
   "metadata": {},
   "outputs": [
    {
     "data": {
      "image/png": "[encoded data removed]",
      "text/plain": [
       "<Figure size 432x288 with 1 Axes>"
      ]
     },
     "metadata": {
      "needs_background": "light"
     },
     "output_type": "display_data"
    }
   ],
   "source": [
    "plt.scatter(X[y_kmeans == 0, 0], X[y_kmeans == 0, 1], s = 100, c = 'red', label = 'Cluster 1')\n",
    "plt.scatter(X[y_kmeans == 1, 0], X[y_kmeans == 1, 1], s = 100, c = 'blue', label = 'Cluster 2')\n",
    "plt.scatter(X[y_kmeans == 2, 0], X[y_kmeans == 2, 1], s = 100, c = 'green', label = 'Cluster 3')\n",
    "plt.scatter(X[y_kmeans == 3, 0], X[y_kmeans == 3, 1], s = 100, c = 'cyan', label = 'Cluster 4')\n",
    "plt.scatter(X[y_kmeans == 4, 0], X[y_kmeans == 4, 1], s = 100, c = 'magenta', label = 'Cluster 5')\n",
    "plt.scatter(kmeans.cluster_centers_[:, 0], kmeans.cluster_centers_[:, 1], s = 300, c = 'yellow', label = 'Centroids')\n",
    "plt.title('Clusters of customers')\n",
    "plt.xlabel('Annual Income (k$)')\n",
    "plt.ylabel('Spending Score (1-100)')\n",
    "plt.legend()\n",
    "plt.show()"
   ]
  },
  {
   "cell_type": "code",
   "execution_count": 59,
   "metadata": {},
   "outputs": [],
   "source": [
    "import pandas as pd"
   ]
  },
  {
   "cell_type": "code",
   "execution_count": 73,
   "metadata": {},
   "outputs": [],
   "source": [
    "news = pd.read_excel('./20150628news.xlsx',index_col=0)"
   ]
  },
  {
   "cell_type": "code",
   "execution_count": 74,
   "metadata": {},
   "outputs": [
    {
     "data": {
      "text/html": [
       "<div>\n",
       "<style scoped>\n",
       "    .dataframe tbody tr th:only-of-type {\n",
       "        vertical-align: middle;\n",
       "    }\n",
       "\n",
       "    .dataframe tbody tr th {\n",
       "        vertical-align: top;\n",
       "    }\n",
       "\n",
       "    .dataframe thead th {\n",
       "        text-align: right;\n",
       "    }\n",
       "</style>\n",
       "<table border=\"1\" class=\"dataframe\">\n",
       "  <thead>\n",
       "    <tr style=\"text-align: right;\">\n",
       "      <th></th>\n",
       "      <th>category</th>\n",
       "      <th>description</th>\n",
       "      <th>pubdate</th>\n",
       "      <th>title</th>\n",
       "    </tr>\n",
       "  </thead>\n",
       "  <tbody>\n",
       "    <tr>\n",
       "      <th>0</th>\n",
       "      <td>社會/生活</td>\n",
       "      <td>新北市八仙水上樂園昨晚發生粉塵爆炸，新北市衛生局統計到目前為止，由救護車送醫再加上自行送醫的...</td>\n",
       "      <td>Sun, 28 Jun 2015 07:40:00 +0800</td>\n",
       "      <td>八仙塵爆  五相關人依公共危險重傷害法辦</td>\n",
       "    </tr>\n",
       "    <tr>\n",
       "      <th>1</th>\n",
       "      <td>社會/生活</td>\n",
       "      <td>新北市八仙樂園昨天晚上(6/27)舉辦活動，過程中噴灑大量玉米粉而引發粉塵爆炸，根據最新統計...</td>\n",
       "      <td>Sun, 28 Jun 2015 07:40:00 +0800</td>\n",
       "      <td>八仙樂園意外 病患持續增加中</td>\n",
       "    </tr>\n",
       "    <tr>\n",
       "      <th>2</th>\n",
       "      <td>財經/要聞</td>\n",
       "      <td>希臘債務違約限期逼近，資金持續外流。路透社引述三間銀行的消息指出，希臘國內有3分之1的自動櫃...</td>\n",
       "      <td>Sun, 28 Jun 2015 07:40:00 +0800</td>\n",
       "      <td>希臘國內三分一自動櫃員機現金短缺</td>\n",
       "    </tr>\n",
       "    <tr>\n",
       "      <th>3</th>\n",
       "      <td>社會/生活</td>\n",
       "      <td>台鐵「新基隆車站」第一階段工程本月底完成，台鐵表示，明天（29號）啟用後，由於南站周邊道路尚...</td>\n",
       "      <td>Sun, 28 Jun 2015 07:40:00 +0800</td>\n",
       "      <td>台鐵新基隆車站29日正式啟用</td>\n",
       "    </tr>\n",
       "    <tr>\n",
       "      <th>4</th>\n",
       "      <td>財經/要聞</td>\n",
       "      <td>《中國時報》\\n●樂園變煉獄 派對驚爆 逾300人遭火紋身\\n八仙樂園昨晚舉辦「COLOR ...</td>\n",
       "      <td>Sun, 28 Jun 2015 07:38:17 +0800</td>\n",
       "      <td>6月28日各報頭版要聞</td>\n",
       "    </tr>\n",
       "  </tbody>\n",
       "</table>\n",
       "</div>"
      ],
      "text/plain": [
       "  category                                        description  \\\n",
       "0    社會/生活  新北市八仙水上樂園昨晚發生粉塵爆炸，新北市衛生局統計到目前為止，由救護車送醫再加上自行送醫的...   \n",
       "1    社會/生活  新北市八仙樂園昨天晚上(6/27)舉辦活動，過程中噴灑大量玉米粉而引發粉塵爆炸，根據最新統計...   \n",
       "2    財經/要聞  希臘債務違約限期逼近，資金持續外流。路透社引述三間銀行的消息指出，希臘國內有3分之1的自動櫃...   \n",
       "3    社會/生活  台鐵「新基隆車站」第一階段工程本月底完成，台鐵表示，明天（29號）啟用後，由於南站周邊道路尚...   \n",
       "4    財經/要聞  《中國時報》\\n●樂園變煉獄 派對驚爆 逾300人遭火紋身\\n八仙樂園昨晚舉辦「COLOR ...   \n",
       "\n",
       "                           pubdate                 title  \n",
       "0  Sun, 28 Jun 2015 07:40:00 +0800  八仙塵爆  五相關人依公共危險重傷害法辦  \n",
       "1  Sun, 28 Jun 2015 07:40:00 +0800        八仙樂園意外 病患持續增加中  \n",
       "2  Sun, 28 Jun 2015 07:40:00 +0800      希臘國內三分一自動櫃員機現金短缺  \n",
       "3  Sun, 28 Jun 2015 07:40:00 +0800        台鐵新基隆車站29日正式啟用  \n",
       "4  Sun, 28 Jun 2015 07:38:17 +0800           6月28日各報頭版要聞  "
      ]
     },
     "execution_count": 74,
     "metadata": {},
     "output_type": "execute_result"
    }
   ],
   "source": [
    "news.head()"
   ]
  },
  {
   "cell_type": "code",
   "execution_count": 61,
   "metadata": {},
   "outputs": [
    {
     "name": "stderr",
     "output_type": "stream",
     "text": [
      "Building prefix dict from the default dictionary ...\n",
      "Loading model from cache /var/folders/4f/nxxhtljx45b09spf0dj8mcrc0000gn/T/jieba.cache\n",
      "Loading model cost 0.614 seconds.\n",
      "Prefix dict has been built succesfully.\n"
     ]
    }
   ],
   "source": [
    "import jieba\n",
    "corpus = []\n",
    "titles = []\n",
    "for idx, rec in news.iterrows():\n",
    "    titles.append(rec['title'])\n",
    "    corpus.append(' '.join(jieba.cut(rec['description'])))"
   ]
  },
  {
   "cell_type": "code",
   "execution_count": 75,
   "metadata": {},
   "outputs": [],
   "source": [
    "from sklearn.feature_extraction.text import CountVectorizer"
   ]
  },
  {
   "cell_type": "code",
   "execution_count": 76,
   "metadata": {},
   "outputs": [],
   "source": [
    "vectorizer = CountVectorizer()\n",
    "X = vectorizer.fit_transform(corpus)"
   ]
  },
  {
   "cell_type": "code",
   "execution_count": 77,
   "metadata": {},
   "outputs": [
    {
     "data": {
      "text/plain": [
       "<147x11138 sparse matrix of type '<class 'numpy.int64'>'\n",
       "\twith 22639 stored elements in Compressed Sparse Row format>"
      ]
     },
     "execution_count": 77,
     "metadata": {},
     "output_type": "execute_result"
    }
   ],
   "source": [
    "X"
   ]
  },
  {
   "cell_type": "code",
   "execution_count": 92,
   "metadata": {},
   "outputs": [],
   "source": [
    "from sklearn.metrics.pairwise import cosine_similarity\n",
    "n_cosine_similarities = cosine_similarity(X)"
   ]
  },
  {
   "cell_type": "code",
   "execution_count": 109,
   "metadata": {
    "scrolled": true
   },
   "outputs": [
    {
     "data": {
      "text/plain": [
       "(147, 147)"
      ]
     },
     "execution_count": 109,
     "metadata": {},
     "output_type": "execute_result"
    }
   ],
   "source": [
    "n_cosine_similarities.shape"
   ]
  },
  {
   "cell_type": "code",
   "execution_count": 97,
   "metadata": {},
   "outputs": [
    {
     "data": {
      "text/plain": [
       "array([  0,  25,   4, 100, 113, 117,  16,  91, 102, 143, 103, 127,  11,\n",
       "       120,  21,  95, 123, 106,  87, 144,  81,  90,   6,  97,  88,  98,\n",
       "        93,  89,   1,  86,  41, 104, 112, 101, 105,  76,  18, 130,  22,\n",
       "       140, 118,  83, 141,  77,  96,  36, 114, 135,  66,  55, 122,  64,\n",
       "        28,  99,  73,  37, 109,   9, 115,  10, 107,  70,  94,  84,  79,\n",
       "        29,  20,  75, 124,  27, 126,  63,  68,  24,  26,   5,  39,  14,\n",
       "       125,  85, 108,  71, 137, 116,  67,  54,  52,  80,  13,  58,  62,\n",
       "        72,  78,  40,  92,  12,  38,  42, 132,  65,  15,  19,  31,  56,\n",
       "       145, 142,  51,   3, 133,  74, 134,  59, 111,  46, 146,  44, 136,\n",
       "        60, 110,  43,  47,  57,  69,  45,  61,  50,  49,  33,  32, 131,\n",
       "        82,   7, 121,  30, 139, 119,  34, 138,  48,  17,   2,  53, 128,\n",
       "       129,  35,   8,  23])"
      ]
     },
     "execution_count": 97,
     "metadata": {},
     "output_type": "execute_result"
    }
   ],
   "source": [
    "n_cosine_similarities.argsort()[0][::-1]"
   ]
  },
  {
   "cell_type": "code",
   "execution_count": 113,
   "metadata": {},
   "outputs": [
    {
     "data": {
      "text/plain": [
       "'八仙樂園粉塵燃爆 400人傷 負責人被移送'"
      ]
     },
     "execution_count": 113,
     "metadata": {},
     "output_type": "execute_result"
    }
   ],
   "source": [
    "news.iloc[25,-1]"
   ]
  },
  {
   "cell_type": "code",
   "execution_count": 102,
   "metadata": {},
   "outputs": [],
   "source": [
    "from sklearn.cluster import KMeans"
   ]
  },
  {
   "cell_type": "code",
   "execution_count": 126,
   "metadata": {},
   "outputs": [],
   "source": [
    "kmeans = KMeans(n_clusters=4,init = \"k-means++\",random_state=42)"
   ]
  },
  {
   "cell_type": "code",
   "execution_count": 127,
   "metadata": {},
   "outputs": [],
   "source": [
    "c = kmeans.fit_predict(n_cosine_similarities)"
   ]
  },
  {
   "cell_type": "code",
   "execution_count": 129,
   "metadata": {},
   "outputs": [],
   "source": [
    "import numpy as np"
   ]
  },
  {
   "cell_type": "code",
   "execution_count": 135,
   "metadata": {},
   "outputs": [],
   "source": [
    "titles_ary = np.array(titles)"
   ]
  },
  {
   "cell_type": "code",
   "execution_count": 141,
   "metadata": {},
   "outputs": [
    {
     "data": {
      "text/plain": [
       "140.76845514907606"
      ]
     },
     "execution_count": 141,
     "metadata": {},
     "output_type": "execute_result"
    }
   ],
   "source": [
    "kmeans.inertia_"
   ]
  },
  {
   "cell_type": "code",
   "execution_count": 69,
   "metadata": {},
   "outputs": [],
   "source": [
    "from sklearn.metrics import silhouette_score\n",
    "sil_ary = []\n",
    "for k in range(2,21):\n",
    "    km = KMeans(n_clusters = k, init='k-means++', random_state=42)\n",
    "    c = km.fit_predict(n_cosine_similarities)\n",
    "    sil_ary.append({'group':k,\n",
    "                        'silhouette':silhouette_score(n_cosine_similarities, labels=c)})"
   ]
  },
  {
   "cell_type": "code",
   "execution_count": 70,
   "metadata": {},
   "outputs": [
    {
     "data": {
      "text/plain": [
       "[{'group': 2, 'silhouette': 0.22804272333990205},\n",
       " {'group': 3, 'silhouette': 0.23681981968309126},\n",
       " {'group': 4, 'silhouette': 0.2752415843018695},\n",
       " {'group': 5, 'silhouette': 0.224405795692965},\n",
       " {'group': 6, 'silhouette': 0.2129172646340372},\n",
       " {'group': 7, 'silhouette': 0.10664133895861751},\n",
       " {'group': 8, 'silhouette': 0.11627939720878512},\n",
       " {'group': 9, 'silhouette': 0.11432818649562952},\n",
       " {'group': 10, 'silhouette': 0.0988699868579898},\n",
       " {'group': 11, 'silhouette': 0.12739124335128235},\n",
       " {'group': 12, 'silhouette': 0.13347093360028},\n",
       " {'group': 13, 'silhouette': 0.13320128091733952},\n",
       " {'group': 14, 'silhouette': 0.13289438716511318},\n",
       " {'group': 15, 'silhouette': 0.1347135120014124},\n",
       " {'group': 16, 'silhouette': 0.13788149883040043},\n",
       " {'group': 17, 'silhouette': 0.13769185644089907},\n",
       " {'group': 18, 'silhouette': 0.14258149701430428},\n",
       " {'group': 19, 'silhouette': 0.14257752596367415},\n",
       " {'group': 20, 'silhouette': 0.14500188281941334}]"
      ]
     },
     "execution_count": 70,
     "metadata": {},
     "output_type": "execute_result"
    }
   ],
   "source": [
    "sil_ary"
   ]
  },
  {
   "cell_type": "code",
   "execution_count": 75,
   "metadata": {},
   "outputs": [
    {
     "data": {
      "text/plain": [
       "<matplotlib.axes._subplots.AxesSubplot at 0x11ef68e90>"
      ]
     },
     "execution_count": 75,
     "metadata": {},
     "output_type": "execute_result"
    },
    {
     "data": {
      "image/png": "[encoded data removed]",
      "text/plain": [
       "<Figure size 432x288 with 1 Axes>"
      ]
     },
     "metadata": {
      "needs_background": "light"
     },
     "output_type": "display_data"
    }
   ],
   "source": [
    "import pandas\n",
    "sil_df = pandas.DataFrame(sil_ary)\n",
    "sil_df.plot(kind = 'line', x='group', y='silhouette')"
   ]
  },
  {
   "cell_type": "markdown",
   "metadata": {},
   "source": [
    "## 如果當天的新聞主軸不明顯"
   ]
  },
  {
   "cell_type": "code",
   "execution_count": 76,
   "metadata": {},
   "outputs": [],
   "source": [
    "import pandas as pd"
   ]
  },
  {
   "cell_type": "code",
   "execution_count": 144,
   "metadata": {},
   "outputs": [],
   "source": [
    "df = pd.read_excel('https://raw.githubusercontent.com/ywchiu/tibame_tm/master/data/news.xlsx',index_col=0)"
   ]
  },
  {
   "cell_type": "code",
   "execution_count": 145,
   "metadata": {},
   "outputs": [
    {
     "data": {
      "text/html": [
       "<div>\n",
       "<style scoped>\n",
       "    .dataframe tbody tr th:only-of-type {\n",
       "        vertical-align: middle;\n",
       "    }\n",
       "\n",
       "    .dataframe tbody tr th {\n",
       "        vertical-align: top;\n",
       "    }\n",
       "\n",
       "    .dataframe thead th {\n",
       "        text-align: right;\n",
       "    }\n",
       "</style>\n",
       "<table border=\"1\" class=\"dataframe\">\n",
       "  <thead>\n",
       "    <tr style=\"text-align: right;\">\n",
       "      <th></th>\n",
       "      <th>category</th>\n",
       "      <th>content</th>\n",
       "      <th>link</th>\n",
       "      <th>title</th>\n",
       "    </tr>\n",
       "  </thead>\n",
       "  <tbody>\n",
       "    <tr>\n",
       "      <th>0</th>\n",
       "      <td>政治</td>\n",
       "      <td>新增：立委說法民進黨立法院黨團預計在明天的院會中，讓改制農田水利會的《農田水利會組織通則》修...</td>\n",
       "      <td>https://tw.news.appledaily.com/politics/realti...</td>\n",
       "      <td>【更新】水利會改官派明闖關　綠委24小時前顧議場大門防藍突襲</td>\n",
       "    </tr>\n",
       "    <tr>\n",
       "      <th>1</th>\n",
       "      <td>論壇</td>\n",
       "      <td>邱俊棠／台中市民、見習醫師；曾任台灣醫學生聯合會對外副會長對於公民參與公眾事務而能得到單位首...</td>\n",
       "      <td>https://tw.news.appledaily.com/forum/realtime/...</td>\n",
       "      <td>請中市府為所當為 加速中火燃煤限制</td>\n",
       "    </tr>\n",
       "    <tr>\n",
       "      <th>2</th>\n",
       "      <td>社會</td>\n",
       "      <td>被控來台涉發展情報組織的中國學生周泓旭，因接觸我方外交部官員而露餡落網，今年9月被台北地院一...</td>\n",
       "      <td>https://tw.news.appledaily.com/local/realtime/...</td>\n",
       "      <td>陸生共諜嗆台司法　「不敢公開審理我」</td>\n",
       "    </tr>\n",
       "    <tr>\n",
       "      <th>3</th>\n",
       "      <td>生活</td>\n",
       "      <td>【廣編特輯】 對於全能神教會在中國所遭受的迫害與在韓國、香港及臺灣所面對的反面宣傳，非政府組...</td>\n",
       "      <td>https://tw.news.appledaily.com/life/realtime/2...</td>\n",
       "      <td>【特企】NGO聯名譴責中共迫害宗教信仰</td>\n",
       "    </tr>\n",
       "    <tr>\n",
       "      <th>4</th>\n",
       "      <td>生活</td>\n",
       "      <td>立法院交通委員會今審查《道路交通管理處罰條例》，通過營業大客車駕駛人行駛一般道路未繫安全帶，...</td>\n",
       "      <td>https://tw.news.appledaily.com/life/realtime/2...</td>\n",
       "      <td>乘客搭大客車不配合繫安全帶　立院初審通過可罰6千元</td>\n",
       "    </tr>\n",
       "    <tr>\n",
       "      <th>...</th>\n",
       "      <td>...</td>\n",
       "      <td>...</td>\n",
       "      <td>...</td>\n",
       "      <td>...</td>\n",
       "    </tr>\n",
       "    <tr>\n",
       "      <th>894</th>\n",
       "      <td>娛樂</td>\n",
       "      <td>天后張惠妹（阿妹）相隔2年發片，今晚在北京舉行《偷故事的人》記者會。阿妹同時宣布明年2月4日...</td>\n",
       "      <td>https://tw.entertainment.appledaily.com/realti...</td>\n",
       "      <td>砸5千萬重金！阿妹北京發片　明年重回台北開個唱</td>\n",
       "    </tr>\n",
       "    <tr>\n",
       "      <th>895</th>\n",
       "      <td>財經地產</td>\n",
       "      <td>（更新：新增網友看法）台積電（2330）董事長張忠謀早上參加工商協進會早餐會後，針對媒體詢問...</td>\n",
       "      <td>https://tw.finance.appledaily.com/realtime/201...</td>\n",
       "      <td>政府勸企業加薪　張忠謀：有違自由人力市場規矩</td>\n",
       "    </tr>\n",
       "    <tr>\n",
       "      <th>896</th>\n",
       "      <td>娛樂</td>\n",
       "      <td>(更新影片)中天綜合台《小明星大跟班》明晚播出主題「老單親媽媽奮鬥史」，邀請演藝圈單親媽媽代...</td>\n",
       "      <td>https://tw.entertainment.appledaily.com/realti...</td>\n",
       "      <td>傅天穎後悔離婚　曝陳子強有另一半</td>\n",
       "    </tr>\n",
       "    <tr>\n",
       "      <th>897</th>\n",
       "      <td>娛樂</td>\n",
       "      <td>(更新影片)小嫻與何守正結婚5年，她婚後對何守正做出「3大退讓」，但卻盼不到同等回應。一花光...</td>\n",
       "      <td>https://tw.entertainment.appledaily.com/realti...</td>\n",
       "      <td>【小嫻離婚】3大退讓人財兩失　求子花光430萬積蓄</td>\n",
       "    </tr>\n",
       "    <tr>\n",
       "      <th>898</th>\n",
       "      <td>社會</td>\n",
       "      <td>（更新：新增動新聞）台中賴姓男子曾在詐騙機房工作，自以為經營網路詐騙很簡單，便招募3名男子共...</td>\n",
       "      <td>https://tw.news.appledaily.com/local/realtime/...</td>\n",
       "      <td>組詐騙集團很簡單？　男蟲花數10萬只落得這下場</td>\n",
       "    </tr>\n",
       "  </tbody>\n",
       "</table>\n",
       "<p>899 rows × 4 columns</p>\n",
       "</div>"
      ],
      "text/plain": [
       "    category                                            content  \\\n",
       "0         政治  新增：立委說法民進黨立法院黨團預計在明天的院會中，讓改制農田水利會的《農田水利會組織通則》修...   \n",
       "1         論壇  邱俊棠／台中市民、見習醫師；曾任台灣醫學生聯合會對外副會長對於公民參與公眾事務而能得到單位首...   \n",
       "2         社會  被控來台涉發展情報組織的中國學生周泓旭，因接觸我方外交部官員而露餡落網，今年9月被台北地院一...   \n",
       "3         生活  【廣編特輯】 對於全能神教會在中國所遭受的迫害與在韓國、香港及臺灣所面對的反面宣傳，非政府組...   \n",
       "4         生活  立法院交通委員會今審查《道路交通管理處罰條例》，通過營業大客車駕駛人行駛一般道路未繫安全帶，...   \n",
       "..       ...                                                ...   \n",
       "894       娛樂  天后張惠妹（阿妹）相隔2年發片，今晚在北京舉行《偷故事的人》記者會。阿妹同時宣布明年2月4日...   \n",
       "895     財經地產  （更新：新增網友看法）台積電（2330）董事長張忠謀早上參加工商協進會早餐會後，針對媒體詢問...   \n",
       "896       娛樂  (更新影片)中天綜合台《小明星大跟班》明晚播出主題「老單親媽媽奮鬥史」，邀請演藝圈單親媽媽代...   \n",
       "897       娛樂  (更新影片)小嫻與何守正結婚5年，她婚後對何守正做出「3大退讓」，但卻盼不到同等回應。一花光...   \n",
       "898       社會  （更新：新增動新聞）台中賴姓男子曾在詐騙機房工作，自以為經營網路詐騙很簡單，便招募3名男子共...   \n",
       "\n",
       "                                                  link  \\\n",
       "0    https://tw.news.appledaily.com/politics/realti...   \n",
       "1    https://tw.news.appledaily.com/forum/realtime/...   \n",
       "2    https://tw.news.appledaily.com/local/realtime/...   \n",
       "3    https://tw.news.appledaily.com/life/realtime/2...   \n",
       "4    https://tw.news.appledaily.com/life/realtime/2...   \n",
       "..                                                 ...   \n",
       "894  https://tw.entertainment.appledaily.com/realti...   \n",
       "895  https://tw.finance.appledaily.com/realtime/201...   \n",
       "896  https://tw.entertainment.appledaily.com/realti...   \n",
       "897  https://tw.entertainment.appledaily.com/realti...   \n",
       "898  https://tw.news.appledaily.com/local/realtime/...   \n",
       "\n",
       "                              title  \n",
       "0    【更新】水利會改官派明闖關　綠委24小時前顧議場大門防藍突襲  \n",
       "1                 請中市府為所當為 加速中火燃煤限制  \n",
       "2                陸生共諜嗆台司法　「不敢公開審理我」  \n",
       "3               【特企】NGO聯名譴責中共迫害宗教信仰  \n",
       "4         乘客搭大客車不配合繫安全帶　立院初審通過可罰6千元  \n",
       "..                              ...  \n",
       "894         砸5千萬重金！阿妹北京發片　明年重回台北開個唱  \n",
       "895          政府勸企業加薪　張忠謀：有違自由人力市場規矩  \n",
       "896                傅天穎後悔離婚　曝陳子強有另一半  \n",
       "897       【小嫻離婚】3大退讓人財兩失　求子花光430萬積蓄  \n",
       "898         組詐騙集團很簡單？　男蟲花數10萬只落得這下場  \n",
       "\n",
       "[899 rows x 4 columns]"
      ]
     },
     "execution_count": 145,
     "metadata": {},
     "output_type": "execute_result"
    }
   ],
   "source": [
    "df"
   ]
  },
  {
   "cell_type": "code",
   "execution_count": 146,
   "metadata": {},
   "outputs": [],
   "source": [
    "corpus = []\n",
    "title = []\n",
    "for idx, rec in df.iterrows():\n",
    "    title.append(rec['title'])\n",
    "    corpus.append(' ' .join(jieba.cut(rec['content'])))"
   ]
  },
  {
   "cell_type": "code",
   "execution_count": 151,
   "metadata": {},
   "outputs": [],
   "source": [
    "title_ary = np.array(title)"
   ]
  },
  {
   "cell_type": "code",
   "execution_count": 152,
   "metadata": {},
   "outputs": [],
   "source": [
    "vectorizer = CountVectorizer()"
   ]
  },
  {
   "cell_type": "code",
   "execution_count": 156,
   "metadata": {},
   "outputs": [],
   "source": [
    "X = vectorizer.fit_transform(corpus)"
   ]
  },
  {
   "cell_type": "code",
   "execution_count": 157,
   "metadata": {},
   "outputs": [
    {
     "data": {
      "text/plain": [
       "(899, 28936)"
      ]
     },
     "execution_count": 157,
     "metadata": {},
     "output_type": "execute_result"
    }
   ],
   "source": [
    "X.shape"
   ]
  },
  {
   "cell_type": "code",
   "execution_count": 171,
   "metadata": {},
   "outputs": [],
   "source": [
    "cosine_similarity_X  = cosine_similarity(X)"
   ]
  },
  {
   "cell_type": "code",
   "execution_count": 173,
   "metadata": {},
   "outputs": [
    {
     "data": {
      "text/plain": [
       "(899, 899)"
      ]
     },
     "execution_count": 173,
     "metadata": {},
     "output_type": "execute_result"
    }
   ],
   "source": [
    "cosine_similarity_X.shape"
   ]
  },
  {
   "cell_type": "code",
   "execution_count": 174,
   "metadata": {},
   "outputs": [],
   "source": [
    "from sklearn.cluster import KMeans"
   ]
  },
  {
   "cell_type": "code",
   "execution_count": 188,
   "metadata": {},
   "outputs": [],
   "source": [
    "keams = KMeans(n_clusters=10,init='k-means++',random_state=42)"
   ]
  },
  {
   "cell_type": "code",
   "execution_count": 190,
   "metadata": {},
   "outputs": [],
   "source": [
    "c  = keams.fit_predict(cosine_similarity_X)"
   ]
  },
  {
   "cell_type": "code",
   "execution_count": 194,
   "metadata": {
    "scrolled": true
   },
   "outputs": [
    {
     "data": {
      "text/plain": [
       "array(['【更新】水利會改官派明闖關\\u3000綠委24小時前顧議場大門防藍突襲', '請中市府為所當為 加速中火燃煤限制',\n",
       "       '陸生共諜嗆台司法\\u3000「不敢公開審理我」', '【Fed告別秀】葉倫談比特幣\\u3000以7個字總結',\n",
       "       '我駐厄瓜多外館7月遭改名\\u3000外交部：現已中止雙方合作案', '臉書在台灣繳稅太少\\u3000財政部將進一步追稅',\n",
       "       '黃國昌：長期目標要消滅國民黨\\u3000不支持柯文哲的兩岸一家親',\n",
       "       '【蘋果LIVE】期待嗎？101跨年煙火\\u3000今公布模擬動畫', '遊騎兵與史博威簽小聯盟約\\u3000補強先發深度',\n",
       "       '何以得為民粹？', '周末冷空氣來襲\\u3000彭啟明：易讓髒空氣南下', '12月還有颱風！ 今年第26號颱風「啟德」形成',\n",
       "       '國防部解約慶富要提告\\u3000馮世寬怒嗆三遍：請便', '後天入冬最強冷空氣來襲\\u3000低溫下探12℃',\n",
       "       '估今天風場轉為偏東風\\u3000鄭明典：高屏空品可望改善', '馬恰多將成自由球員\\u3000現已有5隊想搶人',\n",
       "       '日本最速男桐生祥秀沒畢業就有工作\\u3000明年安心拼亞運',\n",
       "       'friDay影音攜手ELEVEN體育家族\\u3000直播多元賽事', '像灑了糖霜！玉山今晨降雪\\u3000積雪0.5公分',\n",
       "       '明溫暖舒適！\\u3000吳德榮：周六變天下探11℃', '淘汰「高污染」老車\\u3000搭公共運輸擬補助',\n",
       "       '費德勒續約巧克力品牌\\u3000爽賺6億台幣難怪不言退', '罷免案將投票\\u3000李遠哲今再度現身力挺黃國昌',\n",
       "       '【歷史上的今天】賴香伶當選北市勞動局長\\u3000周錫瑋花百萬蓋縣長辦公室',\n",
       "       'Fed升息符合預期\\u3000經濟學家：大家可過個平安聖誕節', '扯！沒訊號還要付月租費\\u3000用戶怒批中華電「惡霸」',\n",
       "       '大學生心聲：低端人口去留之外的問題', '【搏感情動畫】台電每年30億敦親睦鄰費\\u3000協助立委選民服務',\n",
       "       '勞動部放寬危險性工作場所審查標準\\u3000國親將出手擋下  ', '【新知片】全球首創 華人乳癌基因復發風險預測',\n",
       "       '黃國昌若被罷免會更強\\u3000他：成為選輸北市的阿扁', '【墊底動畫】慘！亞銀估我今明年GDP成長\\u3000居4小龍之末',\n",
       "       '【寒心動畫】南山全台大砍130人\\u3000「拿過模範員工也被犧牲！」',\n",
       "       '【獵雷艦案】 慶富聲明：國防部解約不合法\\u3000全案將送監察院調查',\n",
       "       '太平洋建設標售商務中心\\u3000底價6.99億無人投', '太平洋建設標售商務中心\\u3000底價6.99億無人投',\n",
       "       '被爆罵、敲台電\\u3000顏寬恒「模糊反空污焦點」', '「類豪宅」低空閃豪宅稅\\u3000北市這區量增最多',\n",
       "       '平平因應Fintech\\u3000為何友邦砍人、安聯增人？', '雲林縣長選舉沒有更好的人選嗎？',\n",
       "       '信邦買回捷克商10%股權  睿信將攻軍用機', '【有片】賈靜雯前夫家砸億元\\u3000買這棟豪宅的36樓',\n",
       "       '\\u200b死前必訪景點前十名清單\\u3000你去過幾個？', '【剋補片】寒流來韓流也來\\u3000人蔘補氣但不同時吃這兩樣',\n",
       "       '賴清德：移動污染源空污費\\u30002成給地方政府使用', '政院半年內若未提原民促轉草案\\u3000段宜康：我辭職！',\n",
       "       '台灣虎航插旗北海道旭川\\u3000單程票2299元起', '一起對抗空污\\u3000氣象局新增境外污染趨勢模擬（動畫）',\n",
       "       '【手足片】雙和醫院伸出援手\\u3000助姊跨海捐腎救妹', '遷村前最後一次\\u3000大林蒲鳳林宮盛大普渡3千桌',\n",
       "       '中國軍機繞島巡航\\u3000總統府：衝擊兩岸關係不負責任', '陳水扁辦簽書會\\u3000百名扁迷喊「加油」',\n",
       "       '【淡定片】蔡英文到考試院頒獎\\u3000拔菜總部場外抗議蔡政府媚日',\n",
       "       '【美照片】空軍2018年桌曆\\u3000彩繪主力戰機編隊首次曝光',\n",
       "       '【舊金山直擊】華裔市長驟逝\\u3000政治領袖悼：會繼續他志向',\n",
       "       '【有片】大谷翔平手肘PRP注射\\u3000天使球團：體檢過關', '海洋法草案報告\\u3000谷辣斯·尤達卡：希立法尊重原民活動',\n",
       "       '彰銀北門分行舊址不登錄歷史建築\\u3000都更續行', '\\u200b「今天南京大屠殺80年公祭日」邱毅：可悲又可恨啊',\n",
       "       '【聲援片】沈發惠呼籲罷昌案投「不同意」\\u3000黃國昌：謝謝您', '李婉鈺9戶「台北第一凶宅」\\u3000法拍結果出爐',\n",
       "       '10公里免費！台灣代駕APP供企業3萬人體驗', '國軍不能說的秘密！\\u3000大頭兵的真實生活首度曝光',\n",
       "       '川菱攜手歌林品牌\\u3000簽定戰略合作協議', '暴衝的公投法修法 忽略這三件事',\n",
       "       '南山大砍130人\\u3000工會：轉型員工薪水減半違法', '台灣虎航加碼北海道 明春開飛台北-旭川定期航班',\n",
       "       '左想拚議員右想選立委\\u3000陳致中評估中', '民眾周日上街反空污\\u3000李應元在廣播節目道歉',\n",
       "       '海委會基地未定\\u3000綠委重提廢松機建聯合大樓', '民眾周日上街反空污\\u3000李應元在廣播節目道歉',\n",
       "       '海委會基地未定\\u3000綠委重提廢松機建聯合大樓', '農田水利會改公務機關\\u3000蔡英文：這不是綁樁',\n",
       "       '打擊空污\\u3000蔡英文指示：參考日韓防範境外移污染源', '建立實習文化 讓青年就業可以無縫接軌',\n",
       "       '反對水利會改制\\u3000吳敦義下令：藍委做好夜宿立院抗爭準備',\n",
       "       '【反嗆片】被爆向台電申請補助又罵空污\\u3000顏寬恒：不會拿人手短', '華建主力去化餘屋\\u3000明年Q1推新案',\n",
       "       '十家終身學習中心未立案\\u3000救國團：已依法改善', '波特船無法可管？\\u3000海巡：目前已修法納管',\n",
       "       '南山人壽傳大砍百人\\u3000北市勞動局：先前通報不到10人',\n",
       "       '【空污防制】詹順貴：真的有中國汙染源\\u3000不能把問題簡化', '檢察總長南下督軍\\u3000獵雷艦案年前恐難偵結',\n",
       "       '看好AI元年起飛\\u3000IBM將成立Power AI中心\\u3000', '\\u200b民粹主義？罷昌行動？',\n",
       "       '宗教團體可曾想過：黃國昌犀利形象恐越打越旺', '信邦攜手新創獨角獸\\u3000開發智慧藥櫃、智慧壁爐',\n",
       "       '蘇治芬發文\\u3000細數與李進勇昔日之怨', '國共論壇傳明年4月前舉行\\u3000國民黨：沒有進度',\n",
       "       '信邦攜手新創獨角獸\\u3000開發智慧藥櫃、智慧壁爐', '蘇治芬發文\\u3000細數與李進勇昔日之怨',\n",
       "       '國共論壇傳明年4月前舉行\\u3000國民黨：沒有進度', '揮別公墓與違建\\u3000北市將打造大安410號公園',\n",
       "       '【解約片】國防部列五大事證正式函告慶富\\u3000解除獵雷艦採購案契約',\n",
       "       '【有片】罷免黃國昌投票倒數4天\\u3000護家盟籲選民投票', '國際旅客來台破千萬\\u3000交通部：因新南向獲顯著成績',\n",
       "       '海洋基本法報告\\u3000立委：期待院方版本出爐', '離岸風電環評大會闖關\\u3000環團、漁民300人抗議',\n",
       "       '\\u200b台北國際自行車展\\u30002019年拚全世界第一',\n",
       "       '蘋果與台灣經濟多密切\\u3000《金融時報》這張圖表讓你秒懂', '海洋基本法報告\\u3000立委緊追造艦標案問題',\n",
       "       '泛藍青年的心聲：我們該如何面對「轉型正義」', '澎湖南方四島擬劃自然人文生態景觀區\\u3000漁民盼考量生計',\n",
       "       '搶不到演場會門票可買這公司\\u3000寬宏明起競拍', '海洋基本法書面報告\\u3000委員會建修部分條文',\n",
       "       '遭砍燃煤量但預算仍增？台電預算遭砍1成', '郭董砸重金！反制三星來台搶Micro LED人才',\n",
       "       '\\u200b不如再開一次司改國是會議吧', 'Apple等三大Pay\\u3000綁卡數達223萬張',\n",
       "       '【慶富案】曾銘宗爆金管會被施壓\\u3000碰到花媽就失靈', '教育部正式接管海科館\\u3000館長信心喊話',\n",
       "       '罷昌案周六投票\\u3000時代力量全力澄清不實謠言', '「一手罵台電、一手敲台電」\\u3000經委會要台電公布立委補助資料',\n",
       "       '數位化衝擊\\u3000張兆順：外銀認為台灣最適分行數60家', '台首創獨步全球技術\\u3000未來科技展秀給你看',\n",
       "       '輕颱啟德恐生成\\u3000入冬最強冷空氣周末來襲下探11℃（動畫）', '環署欲赴日考察公廁惹爭議\\u3000預算全遭刪除',\n",
       "       '【壹週刊】【娃娃機】滿街夾娃娃\\u3000原來都是因為他', '被顏寬恒點名也跟台電要補助\\u3000蔡其昌：不應與空污混為一談',\n",
       "       '友邦將裁員三商美邦也被點名\\u3000公司否認', '在野黨突襲表決《勞基法》修正案無效\\u3000民進黨烙人成功擋下',\n",
       "       '這個國家全民瘋比特幣\\u3000政府要開緊急會議控管了', '終結多年爭議\\u3000紐約「雕塑公園」重建為老人公寓',\n",
       "       '巴勒斯坦從恐怖組織邁向正常國家\\u3000綠委：值得台灣學習', '台北動物園成安南龜中途之家\\u3000下月亮相',\n",
       "       '馬偕兒童醫院BOT綁標圖利？\\u3000董事長劉伯恩怒告誹謗', '友邦人壽證實\\u3000將停止承攬3百多位業務員',\n",
       "       '王瑞慧遭爆董座不保\\u3000長庚與衛福部均否認', '行動郵車造型水超萌\\u3000開賣2個小時遭狂掃3萬瓶 ',\n",
       "       '「教育金驢獎」\\u3000全教總頒給賴清德', '【獨家】海軍啟動獵雷艦解約程序\\u3000慶富發函國防部要求暫緩  ',\n",
       "       '京華城容積率增至560%案\\u3000北市都發局同意、待都委會審議',\n",
       "       '首次未來科技展月底登場\\u3000109件前瞻技術受矚目', '海嘯哥登Google暴紅運動員冠軍',\n",
       "       '毀萬安計畫？蔣萬安：我專心問政關注空污、勞動議題', 'Google年度台灣熱搜\\u3000「世大運」奪排行榜冠軍',\n",
       "       '明後天北部回溫\\u3000專家：周末強冷空氣報到', '李應元去南部「都沒戴口罩」\\u3000遭問「沒吸到髒空氣？」',\n",
       "       '【補腦動畫】《公投法》修正案 《蘋果》教你如何提公投', '【一張圖搞懂】各國公投比一比\\u3000台灣公投門檻是高還是低',\n",
       "       '【夯劇片】力壓孔劉《鬼怪》\\u3000這部台劇登搜尋榜首',\n",
       "       '【Google熱搜片】2017最夯流行語\\u3000Seafood奪冠',\n",
       "       '【熱搜片】Google年度關鍵字出爐\\u3000熱搜榜第一是它！', '雨停空品不差\\u3000鄭明典：來源很北方、非重度汙染區',\n",
       "       '景氣寒冬！友邦人壽業務員\\u3000逾800人遭裁', '【台北耳語 】公投大飆車',\n",
       "       '吳德榮：周六冷空氣報到探11℃\\u3000冷到下周一', '台灣人為何薪水低\\u3000這位大老闆點出關鍵',\n",
       "       '台北馬拉松17日清晨開跑\\u3000沿線有交管', '都市都有空污問題\\u3000張忠謀：最大原因是這個',\n",
       "       '【歷史上的今天】幫黃國昌站台\\u3000蔡英文：我有準備當總統了', '北北基宜豪雨特報！\\u3000周六「入冬最強」冷空氣報到',\n",
       "       '陳芳明專欄：優先建立正義，再做轉型正義', '張恆豪、黃怡翎：疲勞駕駛一撞再撞何時休',\n",
       "       '【拚100倍成長！】夏普攻佔全日本\\u3000要賣300萬台智慧家電', '北捷司機用潛意識攻擊市民？1999竟立案',\n",
       "       '他打敗19人\\u3000花33倍底價搶到的房子長這樣', '砸5千萬重金！阿妹北京發片\\u3000明年重回台北開個唱',\n",
       "       '政府勸企業加薪\\u3000張忠謀：有違自由人力市場規矩'], dtype='<U36')"
      ]
     },
     "execution_count": 194,
     "metadata": {},
     "output_type": "execute_result"
    }
   ],
   "source": [
    "title_ary[c ==3]"
   ]
  },
  {
   "cell_type": "code",
   "execution_count": 195,
   "metadata": {},
   "outputs": [],
   "source": [
    "from sklearn.metrics import silhouette_score\n",
    "sil_ary = []\n",
    "for k in range(2,21):\n",
    "    km = KMeans(n_clusters = k, init='k-means++', random_state=42)\n",
    "    c = km.fit_predict(cosine_similarity_X)\n",
    "    sil_ary.append({'group':k,\n",
    "                        'silhouette':silhouette_score(cosine_similarity_X, labels=c)})"
   ]
  },
  {
   "cell_type": "code",
   "execution_count": 196,
   "metadata": {},
   "outputs": [
    {
     "data": {
      "text/plain": [
       "<matplotlib.axes._subplots.AxesSubplot at 0x12cbd9150>"
      ]
     },
     "execution_count": 196,
     "metadata": {},
     "output_type": "execute_result"
    },
    {
     "data": {
      "image/png": "[encoded data removed]",
      "text/plain": [
       "<Figure size 432x288 with 1 Axes>"
      ]
     },
     "metadata": {
      "needs_background": "light"
     },
     "output_type": "display_data"
    }
   ],
   "source": [
    "import pandas\n",
    "sil_df = pandas.DataFrame(sil_ary)\n",
    "sil_df.plot(kind = 'line', x='group', y='silhouette')"
   ]
  },
  {
   "cell_type": "code",
   "execution_count": 199,
   "metadata": {},
   "outputs": [
    {
     "name": "stdout",
     "output_type": "stream",
     "text": [
      "Collecting networkx\n",
      "  Downloading networkx-2.4-py3-none-any.whl (1.6 MB)\n",
      "\u001b[K     |████████████████████████████████| 1.6 MB 549 kB/s eta 0:00:01\n",
      "\u001b[?25hRequirement already satisfied: decorator>=4.3.0 in /usr/local/lib/python3.7/site-packages (from networkx) (4.4.2)\n",
      "Installing collected packages: networkx\n",
      "Successfully installed networkx-2.4\n"
     ]
    }
   ],
   "source": [
    "!pip3 install networkx"
   ]
  },
  {
   "cell_type": "code",
   "execution_count": 200,
   "metadata": {
    "scrolled": true
   },
   "outputs": [],
   "source": [
    "import networkx as nx"
   ]
  },
  {
   "cell_type": "code",
   "execution_count": 242,
   "metadata": {},
   "outputs": [],
   "source": [
    "G = nx.Graph()"
   ]
  },
  {
   "cell_type": "code",
   "execution_count": 243,
   "metadata": {},
   "outputs": [],
   "source": [
    "G.add_node('A')\n",
    "G.add_node('B')\n",
    "G.add_node('C')\n",
    "G.add_node('D')\n",
    "G.add_node('E')"
   ]
  },
  {
   "cell_type": "code",
   "execution_count": 244,
   "metadata": {},
   "outputs": [],
   "source": [
    "G.add_edge('A','B')\n",
    "G.add_edge('A','C')\n",
    "G.add_edge('D','E')\n"
   ]
  },
  {
   "cell_type": "code",
   "execution_count": 245,
   "metadata": {},
   "outputs": [
    {
     "data": {
      "image/png": "[encoded data removed]",
      "text/plain": [
       "<Figure size 432x288 with 1 Axes>"
      ]
     },
     "metadata": {},
     "output_type": "display_data"
    }
   ],
   "source": [
    "nx.draw(G)"
   ]
  },
  {
   "cell_type": "code",
   "execution_count": 207,
   "metadata": {},
   "outputs": [
    {
     "data": {
      "text/plain": [
       "array([[0, 1, 1],\n",
       "       [1, 0, 0],\n",
       "       [1, 0, 0]], dtype=int64)"
      ]
     },
     "execution_count": 207,
     "metadata": {},
     "output_type": "execute_result"
    }
   ],
   "source": [
    "nx.adj_matrix(G).toarray()"
   ]
  },
  {
   "cell_type": "markdown",
   "metadata": {},
   "source": [
    "## 社群偵測法"
   ]
  },
  {
   "cell_type": "code",
   "execution_count": 302,
   "metadata": {},
   "outputs": [],
   "source": [
    "import pandas as pd\n",
    "news = pd.read_excel('https://raw.githubusercontent.com/ywchiu/tibame_tm/master/data/news.xlsx',index_col=0)"
   ]
  },
  {
   "cell_type": "code",
   "execution_count": 303,
   "metadata": {},
   "outputs": [],
   "source": [
    "import jieba\n",
    "corpus = []\n",
    "title = []\n",
    "for idx, rec in news.iterrows():\n",
    "    title.append(rec['title'])\n",
    "    corpus.append(' ' .join(jieba.cut(rec['content'])))"
   ]
  },
  {
   "cell_type": "code",
   "execution_count": 304,
   "metadata": {},
   "outputs": [],
   "source": [
    "from sklearn.feature_extraction.text import CountVectorizer\n",
    "vectorizer = CountVectorizer()\n",
    "X = vectorizer.fit_transform(corpus)"
   ]
  },
  {
   "cell_type": "code",
   "execution_count": 305,
   "metadata": {},
   "outputs": [],
   "source": [
    "from sklearn.metrics.pairwise import cosine_similarity\n",
    "n_cosine_similarities = cosine_similarity(X)"
   ]
  },
  {
   "cell_type": "code",
   "execution_count": 306,
   "metadata": {},
   "outputs": [
    {
     "data": {
      "text/plain": [
       "(899, 899)"
      ]
     },
     "execution_count": 306,
     "metadata": {},
     "output_type": "execute_result"
    }
   ],
   "source": [
    "n_cosine_similarities.shape"
   ]
  },
  {
   "cell_type": "code",
   "execution_count": 307,
   "metadata": {},
   "outputs": [
    {
     "data": {
      "text/plain": [
       "array([[1.        , 0.05513503, 0.05842959, ..., 0.09857801, 0.05512138,\n",
       "        0.0333711 ],\n",
       "       [0.05513503, 1.        , 0.03037004, ..., 0.01222522, 0.00999095,\n",
       "        0.04774099],\n",
       "       [0.05842959, 0.03037004, 1.        , ..., 0.02533987, 0.01775039,\n",
       "        0.0748402 ],\n",
       "       ...,\n",
       "       [0.09857801, 0.01222522, 0.02533987, ..., 1.        , 0.10717918,\n",
       "        0.04267896],\n",
       "       [0.05512138, 0.00999095, 0.01775039, ..., 0.10717918, 1.        ,\n",
       "        0.06975801],\n",
       "       [0.0333711 , 0.04774099, 0.0748402 , ..., 0.04267896, 0.06975801,\n",
       "        1.        ]])"
      ]
     },
     "execution_count": 307,
     "metadata": {},
     "output_type": "execute_result"
    }
   ],
   "source": [
    "n_cosine_similarities"
   ]
  },
  {
   "cell_type": "code",
   "execution_count": 308,
   "metadata": {},
   "outputs": [],
   "source": [
    "m = (n_cosine_similarities >= 0.3).astype(int)"
   ]
  },
  {
   "cell_type": "code",
   "execution_count": 309,
   "metadata": {},
   "outputs": [],
   "source": [
    "G = nx.from_numpy_matrix(m)"
   ]
  },
  {
   "cell_type": "code",
   "execution_count": 310,
   "metadata": {},
   "outputs": [
    {
     "data": {
      "text/plain": [
       "<networkx.classes.graph.Graph at 0x133ef63d0>"
      ]
     },
     "execution_count": 310,
     "metadata": {},
     "output_type": "execute_result"
    }
   ],
   "source": [
    "G"
   ]
  },
  {
   "cell_type": "code",
   "execution_count": 311,
   "metadata": {},
   "outputs": [],
   "source": [
    "#!pip3 install python-louvain"
   ]
  },
  {
   "cell_type": "code",
   "execution_count": 312,
   "metadata": {},
   "outputs": [],
   "source": [
    "import community"
   ]
  },
  {
   "cell_type": "code",
   "execution_count": 313,
   "metadata": {},
   "outputs": [],
   "source": [
    "comm = community.best_partition(G)"
   ]
  },
  {
   "cell_type": "code",
   "execution_count": 322,
   "metadata": {},
   "outputs": [
    {
     "name": "stdout",
     "output_type": "stream",
     "text": [
      "明明是好康分享文　網友卻瘋喊噁心慎入\n",
      "「想抱孫要看天！」　他批小嫻婆婆殘忍強逼\n",
      "砲轟小嫻被酸民攻陷　「何三姑」粉絲頁關了\n",
      "【好聚不好散】離婚掏出6千萬　這女星比小嫻還慘\n",
      "【狗仔偷拍】小嫻搬離何守正家租66坪房　月租6萬元\n",
      "許聖梅心疼小嫻被當空氣　爆何守正「有兩個女學員」\n",
      "【動畫解盤】毒菇跳火線譙seafood　小嫻難瘦香菇\n",
      "十二月十四日各報頭條搶先報\n",
      "不捨善良小嫻慘遭婚變　乃哥「命運捉弄人」\n",
      "【獨家】小嫻賣房求子　婆婆竟拒入籍何家\n",
      "【毒菇護弟】何守正姊姊不是華岡七仙女　美法連線批小嫻\n",
      "小嫻離婚導火線　拉何守正信妙禪\n",
      "【狗仔偷拍】何守正現身！「全台最沒尊嚴的婆婆」也出來了\n",
      "小嫻中分手魔咒！ 同公司4女星全都婚變\n",
      "潔哥目睹「正嫻之變」　驚呼：靠北系列竟是真的\n",
      "何守正姐姐神護航！遭網友酸：全台最討人厭大姑\n",
      "小嫻別傻傻被欺負！女律師說「姐寶」就要這樣對付\n",
      "【小嫻婚變】他說很奇怪　「一定是男生劈腿？」\n",
      "教友小嫻婚姻觸礁　曾之喬談情避不開Seafood\n",
      "小嫻守正結婚在台沒登記　想離婚只有兩條路\n",
      "胡瓜2個月前耳聞小嫻婚變　震驚之餘好心疼\n",
      "昔日搭檔談小嫻婚變　曾國城這樣說\n",
      "何守正兩個姊姊護航扯婆媳　「他」戳破媽寶特色\n",
      "大姑出面護弟！轟小嫻不能生「媽媽是全台最沒有尊嚴的婆婆」\n",
      "小嫻信奉妙禪　關鍵原因與何守正有關！\n",
      "小嫻何守正想離婚　必須先做這件事！\n",
      "【K律師論點】離婚＝失敗？　K律師這麼說\n",
      "真尷尬！他只是聊個天　正妹就退出對話了\n",
      "女網紅因為這理由挺余祥銓！讓人不知該哭還是笑\n",
      "「小嫻不快樂！」　許聖梅：何守正虧欠她\n",
      "【內幕動畫】小嫻婚變何守正姊反擊　不滿媽煮飯侍奉星媳婦\n",
      "小嫻多信妙禪？　曾見證「師父帶我跳舞」\n",
      "【話當年】被拍和她上賓館　何守正掰了阿妹\n",
      "小嫻婚變無徵兆　男星嘆：兩人向來出雙入對\n",
      "【獨家內幕】太傷！小嫻被分手　何守正當小三面前攤牌\n",
      "【小嫻離婚】何守正稱沒有遺憾　人妻女星超火「一嘴屁話」\n",
      "【小嫻離婚】3大退讓人財兩失　求子花光430萬積蓄\n",
      "================================\n",
      "【特企】NGO聯名譴責中共迫害宗教信仰\n",
      "【特企】NGO聯名譴責中共迫害宗教信仰\n",
      "【特企】NGO聯名譴責中共迫害宗教信仰\n",
      "【特企】NGO聯名譴責中共迫害宗教信仰\n",
      "【特企】NGO聯名譴責中共迫害宗教信仰\n",
      "【特企】NGO聯名譴責中共迫害宗教信仰\n",
      "【特企】NGO聯名譴責中共迫害宗教信仰\n",
      "【特企】NGO聯名譴責中共迫害宗教信仰\n",
      "【特企】NGO聯名譴責中共迫害宗教信仰\n",
      "【特企】NGO聯名譴責中共迫害宗教信仰\n",
      "【特企】NGO聯名譴責中共迫害宗教信仰\n",
      "【特企】NGO聯名譴責中共迫害宗教信仰\n",
      "【特企】NGO聯名譴責中共迫害宗教信仰\n",
      "【特企】NGO聯名譴責中共迫害宗教信仰\n",
      "【特企】NGO聯名譴責中共迫害宗教信仰\n",
      "【特企】NGO聯名譴責中共迫害宗教信仰\n",
      "【特企】NGO聯名譴責中共迫害宗教信仰\n",
      "【特企】NGO聯名譴責中共迫害宗教信仰\n",
      "【特企】NGO聯名譴責中共迫害宗教信仰\n",
      "【特企】NGO聯名譴責中共迫害宗教信仰\n",
      "【特企】NGO聯名譴責中共迫害宗教信仰\n",
      "【特企】NGO聯名譴責中共迫害宗教信仰\n",
      "【特企】NGO聯名譴責中共迫害宗教信仰\n",
      "【特企】NGO聯名譴責中共迫害宗教信仰\n",
      "【特企】NGO聯名譴責中共迫害宗教信仰\n",
      "【特企】NGO聯名譴責中共迫害宗教信仰\n",
      "【特企】NGO聯名譴責中共迫害宗教信仰\n",
      "【特企】NGO聯名譴責中共迫害宗教信仰\n",
      "【特企】NGO聯名譴責中共迫害宗教信仰\n",
      "【特企】NGO聯名譴責中共迫害宗教信仰\n",
      "================================\n",
      "老謝：美菲2位狂人兄弟 今年交出不錯成績單　\n",
      "FBI探員罵川普「白痴」　遭調離通俄門調查\n",
      "【美夢一場】美台軍艦互訪皆是空？　卜睿哲：川普不會執行\n",
      "余杰：台灣不是1949年的北平\n",
      "諷參議員陸天娜「為錢啥都做」　川普遭美媒批不適任總統\n",
      "AIT主席莫健拜會　賴清德：台灣善盡責任維護區域穩定\n",
      "小心！在美結婚台灣沒登記　偷腥照樣能捉姦\n",
      "川普簽署國防授權法　賴清德：美國願意伸出援手是好事\n",
      "美國會授權軍艦來台　蒲博思：總統職權不需國會指揮\n",
      "究竟哪一個才是真正的馬英九？\n",
      "共機頻擾台　國台辦：不承認一中就無軍事互信\n",
      "川普簽署國防授權法　總統府：感謝美國長期支持台灣\n",
      "美台軍艦互訪寫入國會意見　前高官：川普不會執行\n",
      "川普簽NDAA評估美台軍艦互停　立委憂台灣成籌碼\n",
      "美台軍艦互訪？　陸國台辦：挾洋自重不可能得逞\n",
      "美國務卿首度未提《台灣關係法》　外交部：對台政策不變\n",
      "美國務卿說明「一中政策」　未照慣例提「台灣關係法」\n",
      "十二月十三日各報頭條搶先報\n",
      "川普簽署國防授權法　美艦停台列國會意見\n",
      "【公道難伸張】再控川普性騷　受害者：沒人在乎很受傷\n",
      "【誰怕誰】中國嗆武統台灣　美議員：美台應聯合軍演\n",
      "顏建發：中共是最大的詐騙集團\n",
      "否認性騷指控　川普：民主黨編的假新聞\n",
      "================================\n",
      "玉山清晨降雪　陽光露臉融化糖霜潤大地\n",
      "周末冷空氣來襲　彭啟明：易讓髒空氣南下\n",
      "後天入冬最強冷空氣來襲　低溫下探12℃\n",
      "估今天風場轉為偏東風　鄭明典：高屏空品可望改善\n",
      "像灑了糖霜！玉山今晨降雪　積雪0.5公分\n",
      "明溫暖舒適！　吳德榮：周六變天下探11℃\n",
      "一起對抗空污　氣象局新增境外污染趨勢模擬（動畫）\n",
      "豪雨夜襲！宜蘭防大豪雨　北北基發大雨特報\n",
      "輕颱啟德恐生成　入冬最強冷空氣周末來襲下探11℃（動畫）\n",
      "明後天北部回溫　專家：周末強冷空氣報到\n",
      "雨停空品不差　鄭明典：來源很北方、非重度汙染區\n",
      "好棒的一場雨　今天的高雄清新多了\n",
      "台中空氣品質良好　有降雨機會要帶雨具\n",
      "吳德榮：周六冷空氣報到探11℃　冷到下周一\n",
      "北北基宜豪雨特報！　周六「入冬最強」冷空氣報到\n",
      "================================\n",
      "空污拉警報　民進黨：這是中國政府不可迴避的問題\n",
      "賴清德：移動污染源空污費　2成給地方政府使用\n",
      "民眾周日上街反空污　李應元在廣播節目道歉\n",
      "民眾周日上街反空污　李應元在廣播節目道歉\n",
      "打擊空污　蔡英文指示：參考日韓防範境外移污染源\n",
      "【空污防制】詹順貴：真的有中國汙染源　不能把問題簡化\n",
      "徐國勇說主要污染源是中國　環團批爭搶年度幹話王\n",
      "徐國勇說空污源來自中國　吳敦義批：民進黨遇到問題只會推\n",
      "加薪違反市場機制？經長：盼業界給額外待遇來攬才\n",
      "環署要到中國考察空污治理　立委酸「人家改善比較好」\n",
      "李應元去南部「都沒戴口罩」　遭問「沒吸到髒空氣？」\n",
      "工商界盼凍漲基本薪　台大教授：慣老闆真意\n",
      "台灣人為何薪水低　這位大老闆點出關鍵\n",
      "都市都有空污問題　張忠謀：最大原因是這個\n",
      "政府勸企業加薪　張忠謀：有違自由人力市場規矩\n",
      "================================\n",
      "被爆賤賣中視讓利4.8億　馬英九回應了\n",
      "徐永明：看來蔡正元不願再掩護馬英九\n",
      " 回應北檢聲明　徐巧芯 ：不要事情鬧大了才推給媒體\n",
      "「狗急跳牆亂咬人」溫紳說馬英九該告媒體\n",
      "遭馬英九告洩密　北檢：嚴守偵查不公開\n",
      "「忍無可忍」　馬英九怒告檢察長洩三中案不實秘密\n",
      "李惠仁怒嗆：馬英九，你有什麼資格按鈴？！\n",
      "馬英九反擊！不滿遭影射三中案有罪　馬親自到地檢署告北檢洩密\n",
      "三中案馬英九圖利中時老闆？　北檢：不評論\n",
      "藍營人士：北檢一再人格謀殺馬英九　「營造有罪氛圍」\n",
      "三中案交易傳有馬英九讓利關鍵錄音　馬辦諷：宛如小說\n",
      "三中案祕錄光碟！恐扳倒馬英九　當年他錄的\n",
      "三中案500萬禮盒照　馬英九一句話成關鍵\n",
      "================================\n",
      "北韓比納粹集中營更地獄　不麻醉墮胎吃鼠肉\n",
      "打臉提勒森　白宮：現在不是與北韓談判的時機\n",
      "勞改營情況惡劣　國際律師協會：金正恩犯下反人類罪行 \n",
      "勞改營情況惡劣　國際律師協會：金正恩犯下反人類罪行 \n",
      "【美國輸了？】美對北韓首見軟化　提勒森：談判可無先決條件\n",
      "【撈很大片】國際制裁沒有用　金正恩靠比特幣賺翻了\n",
      "防範開戰？中國士兵在北韓邊界備戰宣誓\n",
      "6.3萬元被賣掉　數千北韓婦女被騙到中國\n",
      "這個國家全民瘋比特幣　政府要開緊急會議控管了\n",
      "別再叫金正恩肥宅　最新稱謂晉身「金最高」\n",
      "美國態度才放軟　金正恩又嗆：建立全球最強核武\n",
      "================================\n",
      "Fed升息美元走軟　台幣今再升破30元大關\n",
      "【Fed告別秀】葉倫談比特幣　以7個字總結\n",
      "Fed宣布升息1碼　台股早盤大漲逾百點\n",
      "Fed升息符合預期　經濟學家：大家可過個平安聖誕節\n",
      "【Fed有鴿味】美元軟了黃金硬了　美股道指創新高\n",
      "川普不給力美元軟趴趴　歐元料再升逾10%\n",
      "權威市調媒體訪客數及觸及率  《蘋果日報》全台灣第一\n",
      "蘋果寫傳奇！上市37周年股價飆436倍\n",
      "蘋果與台灣經濟多密切　《金融時報》這張圖表讓你秒懂\n",
      "靜候FOMC結論　台幣平盤整理午盤小貶0.5分\n",
      "================================\n",
      "【尊嚴片】被前女友譏諷「裝B」　他抓緊胯下崩潰\n",
      "【心碎片】學網路撩妹不成　他慘被罵「死肥宅」\n",
      "台菜融合泰國麵　祖孫倆呷到忘記錄影\n",
      "南京大屠殺被消音　他批台人選擇性遺忘\n",
      "【扭蛋片】單身男只愛大奶　美少女怒喊「膚淺」\n",
      "和網球肘說掰掰　物理治療師這樣做\n",
      "粉嫩征服少女心　莓果蒙布朗超繽紛\n",
      "【職場人蔘】上班裝忙這藝術　學不會就無法脫嫩\n",
      "【長知識】女師解中學性教育　龜頭長這樣有原因\n",
      "選擇障礙真難搞　她挑男友竟猶豫這點\n",
      "================================\n",
      "黃國昌：長期目標要消滅國民黨　不支持柯文哲的兩岸一家親\n",
      "罷免案將投票　李遠哲今再度現身力挺黃國昌\n",
      "黃國昌若被罷免會更強　他：成為選輸北市的阿扁\n",
      "【聲援片】沈發惠呼籲罷昌案投「不同意」　黃國昌：謝謝您\n",
      "「兩蔣時代」超譯　網友：不准傷皇城內的和氣！\n",
      "宗教團體可曾想過：黃國昌犀利形象恐越打越旺\n",
      "【有片】罷免黃國昌投票倒數4天　護家盟籲選民投票\n",
      "罷昌案周六投票　時代力量全力澄清不實謠言\n",
      "================================\n"
     ]
    }
   ],
   "source": [
    "from collections import Counter\n",
    "cluster_ary = np.array(list(comm.values()))\n",
    "c = Counter(comm.values())\n",
    "for group ,cnt in c.most_common(10):\n",
    "    articles = np_titles[cluster_ary == group]\n",
    "    for news in articles:\n",
    "        print(news)\n",
    "    print(\"================================\")"
   ]
  },
  {
   "cell_type": "code",
   "execution_count": 320,
   "metadata": {},
   "outputs": [],
   "source": [
    "import numpy as np\n",
    "np_titles = np.array(title)"
   ]
  },
  {
   "cell_type": "code",
   "execution_count": 321,
   "metadata": {},
   "outputs": [
    {
     "data": {
      "text/plain": [
       "[(33, 37),\n",
       " (3, 30),\n",
       " (12, 23),\n",
       " (19, 15),\n",
       " (144, 15),\n",
       " (54, 13),\n",
       " (38, 11),\n",
       " (5, 10),\n",
       " (159, 10),\n",
       " (11, 8)]"
      ]
     },
     "execution_count": 321,
     "metadata": {},
     "output_type": "execute_result"
    }
   ],
   "source": [
    "c.most_common(10)"
   ]
  }
 ],
 "metadata": {
  "kernelspec": {
   "display_name": "Python 3",
   "language": "python",
   "name": "python3"
  },
  "language_info": {
   "codemirror_mode": {
    "name": "ipython",
    "version": 3
   },
   "file_extension": ".py",
   "mimetype": "text/x-python",
   "name": "python",
   "nbconvert_exporter": "python",
   "pygments_lexer": "ipython3",
   "version": "3.7.7"
  }
 },
 "nbformat": 4,
 "nbformat_minor": 4
}
